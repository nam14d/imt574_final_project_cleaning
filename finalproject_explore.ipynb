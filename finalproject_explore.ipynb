{
 "metadata": {
  "language_info": {
   "codemirror_mode": {
    "name": "ipython",
    "version": 3
   },
   "file_extension": ".py",
   "mimetype": "text/x-python",
   "name": "python",
   "nbconvert_exporter": "python",
   "pygments_lexer": "ipython3",
   "version": "3.8.3-final"
  },
  "orig_nbformat": 2,
  "kernelspec": {
   "name": "python3",
   "display_name": "Python 3",
   "language": "python"
  }
 },
 "nbformat": 4,
 "nbformat_minor": 2,
 "cells": [
  {
   "cell_type": "code",
   "execution_count": 360,
   "metadata": {},
   "outputs": [],
   "source": [
    "import numpy as np\n",
    "import pandas as pd\n",
    "import matplotlib.pyplot as plt\n",
    "import seaborn as sns\n",
    "import re\n",
    "from fuzzywuzzy import fuzz"
   ]
  },
  {
   "cell_type": "code",
   "execution_count": 361,
   "metadata": {},
   "outputs": [],
   "source": [
    "df = pd.read_csv(\"./data/stayzilla_com-travel_sample.csv\")\n",
    "df = df.drop(['sitename','uniq_id'], axis = 1)"
   ]
  },
  {
   "source": [
    "We have two different datasets to work with, one focused on India and one in Brazil. The endgoal is to combine the two together. We'll start with the Indian dataset from Stayzilla.com."
   ],
   "cell_type": "markdown",
   "metadata": {}
  },
  {
   "source": [
    "## 1.0: Stayzilla Overview"
   ],
   "cell_type": "markdown",
   "metadata": {}
  },
  {
   "source": [
    "### 1.1: Sample and shape"
   ],
   "cell_type": "markdown",
   "metadata": {}
  },
  {
   "cell_type": "code",
   "execution_count": 362,
   "metadata": {},
   "outputs": [
    {
     "output_type": "execute_result",
     "data": {
      "text/plain": [
       "                                     additional_info  \\\n",
       "0  Acceptance Rate:100 percent|Response Time:< 6 ...   \n",
       "1  Acceptance Rate:100 percent|Response Time:< 6 ...   \n",
       "2  Acceptance Rate:100 percent|Response Time:< 6 ...   \n",
       "3  Acceptance Rate:100 percent|Response Time:< 6 ...   \n",
       "4  Acceptance Rate:100 percent|Response Time:< 6 ...   \n",
       "\n",
       "                                     amenities check_in_date check_out_date  \\\n",
       "0                                    Newspaper    04-08-2016     05-08-2016   \n",
       "1                                   Parking|AC    04-08-2016     05-08-2016   \n",
       "2                     Pickup & Drop|Parking|AC    04-08-2016     05-08-2016   \n",
       "3  WiFi|Newspaper|Pickup & Drop|Gym|Parking|AC    04-08-2016     05-08-2016   \n",
       "4                                 Newspaper|AC    04-08-2016     05-08-2016   \n",
       "\n",
       "         city country  crawl_date  \\\n",
       "0   Kalimpong   India  2016-07-20   \n",
       "1      Kanpur   India  2016-07-20   \n",
       "2     Jodhpur   India  2016-07-20   \n",
       "3  Jalpaiguri   India  2016-07-20   \n",
       "4      Kanpur   India  2016-07-20   \n",
       "\n",
       "                                         description highlight_value  \\\n",
       "0  Sangsey Valley Resort is Located at the wonder...             NaN   \n",
       "1  What should you know? Enjoy unmatched service ...             NaN   \n",
       "2  What should you know? A budget hotel, this acc...             NaN   \n",
       "3  What should you know? The Riverwood Forest Ret...             NaN   \n",
       "4  What should you know? Located at a walking dis...             NaN   \n",
       "\n",
       "   hotel_star_rating  ...  property_type                        qts  \\\n",
       "0                NaN  ...         Resort  2016-07-20 10:59:55 +0000   \n",
       "1                NaN  ...          Hotel  2016-07-20 10:59:55 +0000   \n",
       "2                NaN  ...          Hotel  2016-07-20 10:59:55 +0000   \n",
       "3                NaN  ...          Hotel  2016-07-20 10:59:55 +0000   \n",
       "4                NaN  ...          Hotel  2016-07-20 10:59:55 +0000   \n",
       "\n",
       "            query_time_stamp               room_price            room_types  \\\n",
       "0  2016-07-20 10:59:55 +0000  3167per night incl. tax         3 Bedded Room   \n",
       "1  2016-07-20 10:59:55 +0000   815per night incl. tax  Double Non-A/C Rooms   \n",
       "2  2016-07-20 10:59:55 +0000  1624per night incl. tax      Deluxe AC Double   \n",
       "3  2016-07-20 10:59:55 +0000  3509per night incl. tax    Premium Single A/c   \n",
       "4  2016-07-20 10:59:55 +0000  5802per night incl. tax      Deluxe AC Double   \n",
       "\n",
       "   search_term service_value  \\\n",
       "0          NaN  Not Verified   \n",
       "1          NaN  Not Verified   \n",
       "2          NaN  Not Verified   \n",
       "3          NaN  Not Verified   \n",
       "4          NaN  Not Verified   \n",
       "\n",
       "                                       similar_hotel things_to_do  \\\n",
       "0                                                NaN          NaN   \n",
       "1             Hotel Mangalam|Hotel Maha Roopa Palace          NaN   \n",
       "2  Gouri Heritage Haveli|The Regent Hotel|Vista R...          NaN   \n",
       "3                                                NaN          NaN   \n",
       "4                                  Hotel Royal Cliff          NaN   \n",
       "\n",
       "                                      things_to_note  \n",
       "0  All taxes.|Complimentary Breakfast, Lunch and ...  \n",
       "1  Kindly Note:|This Tariff is not applicable for...  \n",
       "2                      All taxes.|Complimentary Tea.  \n",
       "3  All taxes|Complimentary Breakfast|Kindly Note:...  \n",
       "4  Complimentary Breakfast.|Complimentary WiFi.|C...  \n",
       "\n",
       "[5 rows x 31 columns]"
      ],
      "text/html": "<div>\n<style scoped>\n    .dataframe tbody tr th:only-of-type {\n        vertical-align: middle;\n    }\n\n    .dataframe tbody tr th {\n        vertical-align: top;\n    }\n\n    .dataframe thead th {\n        text-align: right;\n    }\n</style>\n<table border=\"1\" class=\"dataframe\">\n  <thead>\n    <tr style=\"text-align: right;\">\n      <th></th>\n      <th>additional_info</th>\n      <th>amenities</th>\n      <th>check_in_date</th>\n      <th>check_out_date</th>\n      <th>city</th>\n      <th>country</th>\n      <th>crawl_date</th>\n      <th>description</th>\n      <th>highlight_value</th>\n      <th>hotel_star_rating</th>\n      <th>...</th>\n      <th>property_type</th>\n      <th>qts</th>\n      <th>query_time_stamp</th>\n      <th>room_price</th>\n      <th>room_types</th>\n      <th>search_term</th>\n      <th>service_value</th>\n      <th>similar_hotel</th>\n      <th>things_to_do</th>\n      <th>things_to_note</th>\n    </tr>\n  </thead>\n  <tbody>\n    <tr>\n      <th>0</th>\n      <td>Acceptance Rate:100 percent|Response Time:&lt; 6 ...</td>\n      <td>Newspaper</td>\n      <td>04-08-2016</td>\n      <td>05-08-2016</td>\n      <td>Kalimpong</td>\n      <td>India</td>\n      <td>2016-07-20</td>\n      <td>Sangsey Valley Resort is Located at the wonder...</td>\n      <td>NaN</td>\n      <td>NaN</td>\n      <td>...</td>\n      <td>Resort</td>\n      <td>2016-07-20 10:59:55 +0000</td>\n      <td>2016-07-20 10:59:55 +0000</td>\n      <td>3167per night incl. tax</td>\n      <td>3 Bedded Room</td>\n      <td>NaN</td>\n      <td>Not Verified</td>\n      <td>NaN</td>\n      <td>NaN</td>\n      <td>All taxes.|Complimentary Breakfast, Lunch and ...</td>\n    </tr>\n    <tr>\n      <th>1</th>\n      <td>Acceptance Rate:100 percent|Response Time:&lt; 6 ...</td>\n      <td>Parking|AC</td>\n      <td>04-08-2016</td>\n      <td>05-08-2016</td>\n      <td>Kanpur</td>\n      <td>India</td>\n      <td>2016-07-20</td>\n      <td>What should you know? Enjoy unmatched service ...</td>\n      <td>NaN</td>\n      <td>NaN</td>\n      <td>...</td>\n      <td>Hotel</td>\n      <td>2016-07-20 10:59:55 +0000</td>\n      <td>2016-07-20 10:59:55 +0000</td>\n      <td>815per night incl. tax</td>\n      <td>Double Non-A/C Rooms</td>\n      <td>NaN</td>\n      <td>Not Verified</td>\n      <td>Hotel Mangalam|Hotel Maha Roopa Palace</td>\n      <td>NaN</td>\n      <td>Kindly Note:|This Tariff is not applicable for...</td>\n    </tr>\n    <tr>\n      <th>2</th>\n      <td>Acceptance Rate:100 percent|Response Time:&lt; 6 ...</td>\n      <td>Pickup &amp; Drop|Parking|AC</td>\n      <td>04-08-2016</td>\n      <td>05-08-2016</td>\n      <td>Jodhpur</td>\n      <td>India</td>\n      <td>2016-07-20</td>\n      <td>What should you know? A budget hotel, this acc...</td>\n      <td>NaN</td>\n      <td>NaN</td>\n      <td>...</td>\n      <td>Hotel</td>\n      <td>2016-07-20 10:59:55 +0000</td>\n      <td>2016-07-20 10:59:55 +0000</td>\n      <td>1624per night incl. tax</td>\n      <td>Deluxe AC Double</td>\n      <td>NaN</td>\n      <td>Not Verified</td>\n      <td>Gouri Heritage Haveli|The Regent Hotel|Vista R...</td>\n      <td>NaN</td>\n      <td>All taxes.|Complimentary Tea.</td>\n    </tr>\n    <tr>\n      <th>3</th>\n      <td>Acceptance Rate:100 percent|Response Time:&lt; 6 ...</td>\n      <td>WiFi|Newspaper|Pickup &amp; Drop|Gym|Parking|AC</td>\n      <td>04-08-2016</td>\n      <td>05-08-2016</td>\n      <td>Jalpaiguri</td>\n      <td>India</td>\n      <td>2016-07-20</td>\n      <td>What should you know? The Riverwood Forest Ret...</td>\n      <td>NaN</td>\n      <td>NaN</td>\n      <td>...</td>\n      <td>Hotel</td>\n      <td>2016-07-20 10:59:55 +0000</td>\n      <td>2016-07-20 10:59:55 +0000</td>\n      <td>3509per night incl. tax</td>\n      <td>Premium Single A/c</td>\n      <td>NaN</td>\n      <td>Not Verified</td>\n      <td>NaN</td>\n      <td>NaN</td>\n      <td>All taxes|Complimentary Breakfast|Kindly Note:...</td>\n    </tr>\n    <tr>\n      <th>4</th>\n      <td>Acceptance Rate:100 percent|Response Time:&lt; 6 ...</td>\n      <td>Newspaper|AC</td>\n      <td>04-08-2016</td>\n      <td>05-08-2016</td>\n      <td>Kanpur</td>\n      <td>India</td>\n      <td>2016-07-20</td>\n      <td>What should you know? Located at a walking dis...</td>\n      <td>NaN</td>\n      <td>NaN</td>\n      <td>...</td>\n      <td>Hotel</td>\n      <td>2016-07-20 10:59:55 +0000</td>\n      <td>2016-07-20 10:59:55 +0000</td>\n      <td>5802per night incl. tax</td>\n      <td>Deluxe AC Double</td>\n      <td>NaN</td>\n      <td>Not Verified</td>\n      <td>Hotel Royal Cliff</td>\n      <td>NaN</td>\n      <td>Complimentary Breakfast.|Complimentary WiFi.|C...</td>\n    </tr>\n  </tbody>\n</table>\n<p>5 rows × 31 columns</p>\n</div>"
     },
     "metadata": {},
     "execution_count": 362
    }
   ],
   "source": [
    "df.head(5)"
   ]
  },
  {
   "cell_type": "code",
   "execution_count": 363,
   "metadata": {},
   "outputs": [
    {
     "output_type": "execute_result",
     "data": {
      "text/plain": [
       "(1207, 31)"
      ]
     },
     "metadata": {},
     "execution_count": 363
    }
   ],
   "source": [
    "df.shape"
   ]
  },
  {
   "source": [
    "The dataset is a conglomoration of text and dates; these values will need to be cleaned before any real analysis is done. There are 1207 observations and about 32 features. "
   ],
   "cell_type": "markdown",
   "metadata": {}
  },
  {
   "source": [
    "### 1.2: Split DataSet"
   ],
   "cell_type": "markdown",
   "metadata": {}
  },
  {
   "cell_type": "code",
   "execution_count": 364,
   "metadata": {},
   "outputs": [
    {
     "output_type": "execute_result",
     "data": {
      "text/plain": [
       "                                        additional_info  \\\n",
       "1137  Acceptance Rate:100 percent|Response Time:< 6 ...   \n",
       "1138  Acceptance Rate:100 percent|Response Time:< 6 ...   \n",
       "1139                                       ~ All taxes.   \n",
       "1140  ~ Complimentary Breakfast.~ Complimentary Wifi...   \n",
       "1141  ~ All taxes~ Welcome drink on arrival~ Complim...   \n",
       "\n",
       "                                              amenities check_in_date  \\\n",
       "1137                                          Newspaper    04-08-2016   \n",
       "1138                                         Parking|AC    04-08-2016   \n",
       "1139                           Restaurent | Car Parking    06/01/2016   \n",
       "1140  Restaurent | Swimming Pool | Laundry | Pickup ...    06/01/2016   \n",
       "1141  Restaurent | Bar/Pub | Wifi | Credit Card | La...    06/01/2016   \n",
       "\n",
       "     check_out_date     city country  crawl_date  \\\n",
       "1137     05-08-2016  Lucknow   India  2016-07-20   \n",
       "1138     05-08-2016  Lucknow   India  2016-07-20   \n",
       "1139     09/01/2016   Karnal     NaN         NaN   \n",
       "1140     09/01/2016  Kovalam     NaN         NaN   \n",
       "1141     09/01/2016   Shimla     NaN         NaN   \n",
       "\n",
       "                                            description  \\\n",
       "1137  What should you know? Situated 13 km away from...   \n",
       "1138  What should you know? Hotel Anant attempts to ...   \n",
       "1139                                                NaN   \n",
       "1140                                                NaN   \n",
       "1141                                                NaN   \n",
       "\n",
       "                                        highlight_value  hotel_star_rating  \\\n",
       "1137                                                NaN                NaN   \n",
       "1138                                                NaN                NaN   \n",
       "1139  What should you know?\\n The hotel is situated ...                0.0   \n",
       "1140                                                NaN                0.0   \n",
       "1141  What should you know?\\n Hotel Shingar is a ple...                0.0   \n",
       "\n",
       "      ...  property_type                        qts  \\\n",
       "1137  ...          Hotel  2016-07-20 11:21:02 +0000   \n",
       "1138  ...          Hotel  2016-07-20 11:21:02 +0000   \n",
       "1139  ...          Hotel                        NaN   \n",
       "1140  ...          Hotel                        NaN   \n",
       "1141  ...          Hotel                        NaN   \n",
       "\n",
       "               query_time_stamp               room_price  \\\n",
       "1137  2016-07-20 11:21:02 +0000  2446per night incl. tax   \n",
       "1138  2016-07-20 11:21:02 +0000   463per night incl. tax   \n",
       "1139  2015-12-30 15:21:16 +0000                      NaN   \n",
       "1140  2015-12-30 15:21:16 +0000                      NaN   \n",
       "1141  2015-12-30 15:21:16 +0000                      NaN   \n",
       "\n",
       "                                             room_types  search_term  \\\n",
       "1137                                   Executive Single          NaN   \n",
       "1138                           Dormitory Non AC Per Bed          NaN   \n",
       "1139              Double Non A/c Room | Double A/c Room       Karnal   \n",
       "1140  Double Non A/c Room | Double A/c Room | A/c Su...      Kovalam   \n",
       "1141  Deluxe Double | Super Deluxe Double |   Luxury...       Shimla   \n",
       "\n",
       "                                       service_value  \\\n",
       "1137                                    Not Verified   \n",
       "1138                                    Not Verified   \n",
       "1139  Parking | 24 hour check in | 24 hour check out   \n",
       "1140                       Laundry | Pickup And Drop   \n",
       "1141                        Laundry | Free Newspaper   \n",
       "\n",
       "                                          similar_hotel  \\\n",
       "1137                                   Hotel Modman Inn   \n",
       "1138  Hotel Elora|Hotel Diamond|Hotel Galaxy Interna...   \n",
       "1139                                                NaN   \n",
       "1140                                                NaN   \n",
       "1141                                                NaN   \n",
       "\n",
       "                    things_to_do  \\\n",
       "1137                         NaN   \n",
       "1138                         NaN   \n",
       "1139                  Restaurant   \n",
       "1140  Restaurant | Swimming Pool   \n",
       "1141            Restaurant | Bar   \n",
       "\n",
       "                                         things_to_note  \n",
       "1137  Complimentary Breakfast.|Complimentary Wifi.|K...  \n",
       "1138                                                NaN  \n",
       "1139                                                NaN  \n",
       "1140                                                NaN  \n",
       "1141                                                NaN  \n",
       "\n",
       "[5 rows x 31 columns]"
      ],
      "text/html": "<div>\n<style scoped>\n    .dataframe tbody tr th:only-of-type {\n        vertical-align: middle;\n    }\n\n    .dataframe tbody tr th {\n        vertical-align: top;\n    }\n\n    .dataframe thead th {\n        text-align: right;\n    }\n</style>\n<table border=\"1\" class=\"dataframe\">\n  <thead>\n    <tr style=\"text-align: right;\">\n      <th></th>\n      <th>additional_info</th>\n      <th>amenities</th>\n      <th>check_in_date</th>\n      <th>check_out_date</th>\n      <th>city</th>\n      <th>country</th>\n      <th>crawl_date</th>\n      <th>description</th>\n      <th>highlight_value</th>\n      <th>hotel_star_rating</th>\n      <th>...</th>\n      <th>property_type</th>\n      <th>qts</th>\n      <th>query_time_stamp</th>\n      <th>room_price</th>\n      <th>room_types</th>\n      <th>search_term</th>\n      <th>service_value</th>\n      <th>similar_hotel</th>\n      <th>things_to_do</th>\n      <th>things_to_note</th>\n    </tr>\n  </thead>\n  <tbody>\n    <tr>\n      <th>1137</th>\n      <td>Acceptance Rate:100 percent|Response Time:&lt; 6 ...</td>\n      <td>Newspaper</td>\n      <td>04-08-2016</td>\n      <td>05-08-2016</td>\n      <td>Lucknow</td>\n      <td>India</td>\n      <td>2016-07-20</td>\n      <td>What should you know? Situated 13 km away from...</td>\n      <td>NaN</td>\n      <td>NaN</td>\n      <td>...</td>\n      <td>Hotel</td>\n      <td>2016-07-20 11:21:02 +0000</td>\n      <td>2016-07-20 11:21:02 +0000</td>\n      <td>2446per night incl. tax</td>\n      <td>Executive Single</td>\n      <td>NaN</td>\n      <td>Not Verified</td>\n      <td>Hotel Modman Inn</td>\n      <td>NaN</td>\n      <td>Complimentary Breakfast.|Complimentary Wifi.|K...</td>\n    </tr>\n    <tr>\n      <th>1138</th>\n      <td>Acceptance Rate:100 percent|Response Time:&lt; 6 ...</td>\n      <td>Parking|AC</td>\n      <td>04-08-2016</td>\n      <td>05-08-2016</td>\n      <td>Lucknow</td>\n      <td>India</td>\n      <td>2016-07-20</td>\n      <td>What should you know? Hotel Anant attempts to ...</td>\n      <td>NaN</td>\n      <td>NaN</td>\n      <td>...</td>\n      <td>Hotel</td>\n      <td>2016-07-20 11:21:02 +0000</td>\n      <td>2016-07-20 11:21:02 +0000</td>\n      <td>463per night incl. tax</td>\n      <td>Dormitory Non AC Per Bed</td>\n      <td>NaN</td>\n      <td>Not Verified</td>\n      <td>Hotel Elora|Hotel Diamond|Hotel Galaxy Interna...</td>\n      <td>NaN</td>\n      <td>NaN</td>\n    </tr>\n    <tr>\n      <th>1139</th>\n      <td>~ All taxes.</td>\n      <td>Restaurent | Car Parking</td>\n      <td>06/01/2016</td>\n      <td>09/01/2016</td>\n      <td>Karnal</td>\n      <td>NaN</td>\n      <td>NaN</td>\n      <td>NaN</td>\n      <td>What should you know?\\n The hotel is situated ...</td>\n      <td>0.0</td>\n      <td>...</td>\n      <td>Hotel</td>\n      <td>NaN</td>\n      <td>2015-12-30 15:21:16 +0000</td>\n      <td>NaN</td>\n      <td>Double Non A/c Room | Double A/c Room</td>\n      <td>Karnal</td>\n      <td>Parking | 24 hour check in | 24 hour check out</td>\n      <td>NaN</td>\n      <td>Restaurant</td>\n      <td>NaN</td>\n    </tr>\n    <tr>\n      <th>1140</th>\n      <td>~ Complimentary Breakfast.~ Complimentary Wifi...</td>\n      <td>Restaurent | Swimming Pool | Laundry | Pickup ...</td>\n      <td>06/01/2016</td>\n      <td>09/01/2016</td>\n      <td>Kovalam</td>\n      <td>NaN</td>\n      <td>NaN</td>\n      <td>NaN</td>\n      <td>NaN</td>\n      <td>0.0</td>\n      <td>...</td>\n      <td>Hotel</td>\n      <td>NaN</td>\n      <td>2015-12-30 15:21:16 +0000</td>\n      <td>NaN</td>\n      <td>Double Non A/c Room | Double A/c Room | A/c Su...</td>\n      <td>Kovalam</td>\n      <td>Laundry | Pickup And Drop</td>\n      <td>NaN</td>\n      <td>Restaurant | Swimming Pool</td>\n      <td>NaN</td>\n    </tr>\n    <tr>\n      <th>1141</th>\n      <td>~ All taxes~ Welcome drink on arrival~ Complim...</td>\n      <td>Restaurent | Bar/Pub | Wifi | Credit Card | La...</td>\n      <td>06/01/2016</td>\n      <td>09/01/2016</td>\n      <td>Shimla</td>\n      <td>NaN</td>\n      <td>NaN</td>\n      <td>NaN</td>\n      <td>What should you know?\\n Hotel Shingar is a ple...</td>\n      <td>0.0</td>\n      <td>...</td>\n      <td>Hotel</td>\n      <td>NaN</td>\n      <td>2015-12-30 15:21:16 +0000</td>\n      <td>NaN</td>\n      <td>Deluxe Double | Super Deluxe Double |   Luxury...</td>\n      <td>Shimla</td>\n      <td>Laundry | Free Newspaper</td>\n      <td>NaN</td>\n      <td>Restaurant | Bar</td>\n      <td>NaN</td>\n    </tr>\n  </tbody>\n</table>\n<p>5 rows × 31 columns</p>\n</div>"
     },
     "metadata": {},
     "execution_count": 364
    }
   ],
   "source": [
    "df.iloc[1137:,:].head(5)"
   ]
  },
  {
   "source": [
    "There is a clear split in the observations in the dataset beginning at index 1139; from that point onwards, observations have a different layout and have a pattern of missing values, which will be addressed shortly. This problem definitely needs to be addressed. "
   ],
   "cell_type": "markdown",
   "metadata": {}
  },
  {
   "source": [
    "### 1.3: Missing Values"
   ],
   "cell_type": "markdown",
   "metadata": {}
  },
  {
   "cell_type": "code",
   "execution_count": 365,
   "metadata": {},
   "outputs": [
    {
     "output_type": "execute_result",
     "data": {
      "text/plain": [
       "8658"
      ]
     },
     "metadata": {},
     "execution_count": 365
    }
   ],
   "source": [
    "df.isna().sum().sum()"
   ]
  },
  {
   "source": [
    "There are over 8500 missing values in the dataset, meaning that said dataset is over 20% missing values. As mentioned previously, they are NOT randomly distributed. You can see this below:"
   ],
   "cell_type": "markdown",
   "metadata": {}
  },
  {
   "cell_type": "code",
   "execution_count": 366,
   "metadata": {},
   "outputs": [
    {
     "output_type": "display_data",
     "data": {
      "text/plain": "<Figure size 1800x576 with 1 Axes>",
      "image/svg+xml": "<?xml version=\"1.0\" encoding=\"utf-8\" standalone=\"no\"?>\n<!DOCTYPE svg PUBLIC \"-//W3C//DTD SVG 1.1//EN\"\n  \"http://www.w3.org/Graphics/SVG/1.1/DTD/svg11.dtd\">\n<!-- Created with matplotlib (https://matplotlib.org/) -->\n<svg height=\"481.354375pt\" version=\"1.1\" viewBox=\"0 0 1441.85 481.354375\" width=\"1441.85pt\" xmlns=\"http://www.w3.org/2000/svg\" xmlns:xlink=\"http://www.w3.org/1999/xlink\">\n <metadata>\n  <rdf:RDF xmlns:cc=\"http://creativecommons.org/ns#\" xmlns:dc=\"http://purl.org/dc/elements/1.1/\" xmlns:rdf=\"http://www.w3.org/1999/02/22-rdf-syntax-ns#\">\n   <cc:Work>\n    <dc:type rdf:resource=\"http://purl.org/dc/dcmitype/StillImage\"/>\n    <dc:date>2021-02-24T15:29:08.083568</dc:date>\n    <dc:format>image/svg+xml</dc:format>\n    <dc:creator>\n     <cc:Agent>\n      <dc:title>Matplotlib v3.3.2, https://matplotlib.org/</dc:title>\n     </cc:Agent>\n    </dc:creator>\n   </cc:Work>\n  </rdf:RDF>\n </metadata>\n <defs>\n  <style type=\"text/css\">*{stroke-linecap:butt;stroke-linejoin:round;}</style>\n </defs>\n <g id=\"figure_1\">\n  <g id=\"patch_1\">\n   <path d=\"M 0 481.354375 \nL 1441.85 481.354375 \nL 1441.85 0 \nL 0 0 \nz\n\" style=\"fill:none;\"/>\n  </g>\n  <g id=\"axes_1\">\n   <g id=\"patch_2\">\n    <path d=\"M 39.65 457.198125 \nL 1434.65 457.198125 \nL 1434.65 22.318125 \nL 39.65 22.318125 \nz\n\" style=\"fill:#ffffff;\"/>\n   </g>\n   <g id=\"patch_3\">\n    <path clip-path=\"url(#peb10a1eac6)\" d=\"M 46.992105 457.198125 \nL 105.728947 457.198125 \nL 105.728947 43.026696 \nL 46.992105 43.026696 \nz\n\" style=\"fill:#ea96a3;\"/>\n   </g>\n   <g id=\"patch_4\">\n    <path clip-path=\"url(#peb10a1eac6)\" d=\"M 120.413158 457.198125 \nL 179.15 457.198125 \nL 179.15 47.285529 \nL 120.413158 47.285529 \nz\n\" style=\"fill:#e79680;\"/>\n   </g>\n   <g id=\"patch_5\">\n    <path clip-path=\"url(#peb10a1eac6)\" d=\"M 193.834211 457.198125 \nL 252.571053 457.198125 \nL 252.571053 52.963971 \nL 193.834211 52.963971 \nz\n\" style=\"fill:#d4954d;\"/>\n   </g>\n   <g id=\"patch_6\">\n    <path clip-path=\"url(#peb10a1eac6)\" d=\"M 267.255263 457.198125 \nL 325.992105 457.198125 \nL 325.992105 52.963971 \nL 267.255263 52.963971 \nz\n\" style=\"fill:#bc9b4a;\"/>\n   </g>\n   <g id=\"patch_7\">\n    <path clip-path=\"url(#peb10a1eac6)\" d=\"M 340.676316 457.198125 \nL 399.413158 457.198125 \nL 399.413158 52.963971 \nL 340.676316 52.963971 \nz\n\" style=\"fill:#a79e46;\"/>\n   </g>\n   <g id=\"patch_8\">\n    <path clip-path=\"url(#peb10a1eac6)\" d=\"M 414.097368 457.198125 \nL 472.834211 457.198125 \nL 472.834211 52.963971 \nL 414.097368 52.963971 \nz\n\" style=\"fill:#92a446;\"/>\n   </g>\n   <g id=\"patch_9\">\n    <path clip-path=\"url(#peb10a1eac6)\" d=\"M 487.518421 457.198125 \nL 546.255263 457.198125 \nL 546.255263 321.625301 \nL 487.518421 321.625301 \nz\n\" style=\"fill:#73ab47;\"/>\n   </g>\n   <g id=\"patch_10\">\n    <path clip-path=\"url(#peb10a1eac6)\" d=\"M 560.939474 457.198125 \nL 619.676316 457.198125 \nL 619.676316 354.986153 \nL 560.939474 354.986153 \nz\n\" style=\"fill:#48af6c;\"/>\n   </g>\n   <g id=\"patch_11\">\n    <path clip-path=\"url(#peb10a1eac6)\" d=\"M 634.360526 457.198125 \nL 693.097368 457.198125 \nL 693.097368 364.923428 \nL 634.360526 364.923428 \nz\n\" style=\"fill:#4aad8c;\"/>\n   </g>\n   <g id=\"patch_12\">\n    <path clip-path=\"url(#peb10a1eac6)\" d=\"M 707.781579 457.198125 \nL 766.518421 457.198125 \nL 766.518421 375.570508 \nL 707.781579 375.570508 \nz\n\" style=\"fill:#4bac9d;\"/>\n   </g>\n   <g id=\"patch_13\">\n    <path clip-path=\"url(#peb10a1eac6)\" d=\"M 781.202632 457.198125 \nL 839.939474 457.198125 \nL 839.939474 378.40973 \nL 781.202632 378.40973 \nz\n\" style=\"fill:#4baaab;\"/>\n   </g>\n   <g id=\"patch_14\">\n    <path clip-path=\"url(#peb10a1eac6)\" d=\"M 854.623684 457.198125 \nL 913.360526 457.198125 \nL 913.360526 433.064743 \nL 854.623684 433.064743 \nz\n\" style=\"fill:#4fabbb;\"/>\n   </g>\n   <g id=\"patch_15\">\n    <path clip-path=\"url(#peb10a1eac6)\" d=\"M 928.044737 457.198125 \nL 986.781579 457.198125 \nL 986.781579 433.064743 \nL 928.044737 433.064743 \nz\n\" style=\"fill:#54acd1;\"/>\n   </g>\n   <g id=\"patch_16\">\n    <path clip-path=\"url(#peb10a1eac6)\" d=\"M 1001.465789 457.198125 \nL 1060.202632 457.198125 \nL 1060.202632 433.064743 \nL 1001.465789 433.064743 \nz\n\" style=\"fill:#84aee6;\"/>\n   </g>\n   <g id=\"patch_17\">\n    <path clip-path=\"url(#peb10a1eac6)\" d=\"M 1074.886842 457.198125 \nL 1133.623684 457.198125 \nL 1133.623684 433.064743 \nL 1074.886842 433.064743 \nz\n\" style=\"fill:#afaaeb;\"/>\n   </g>\n   <g id=\"patch_18\">\n    <path clip-path=\"url(#peb10a1eac6)\" d=\"M 1148.307895 457.198125 \nL 1207.044737 457.198125 \nL 1207.044737 433.064743 \nL 1148.307895 433.064743 \nz\n\" style=\"fill:#c99ee9;\"/>\n   </g>\n   <g id=\"patch_19\">\n    <path clip-path=\"url(#peb10a1eac6)\" d=\"M 1221.728947 457.198125 \nL 1280.465789 457.198125 \nL 1280.465789 438.388283 \nL 1221.728947 438.388283 \nz\n\" style=\"fill:#e38be7;\"/>\n   </g>\n   <g id=\"patch_20\">\n    <path clip-path=\"url(#peb10a1eac6)\" d=\"M 1295.15 457.198125 \nL 1353.886842 457.198125 \nL 1353.886842 455.778514 \nL 1295.15 455.778514 \nz\n\" style=\"fill:#e88ecf;\"/>\n   </g>\n   <g id=\"patch_21\">\n    <path clip-path=\"url(#peb10a1eac6)\" d=\"M 1368.571053 457.198125 \nL 1427.307895 457.198125 \nL 1427.307895 456.843222 \nL 1368.571053 456.843222 \nz\n\" style=\"fill:#e992ba;\"/>\n   </g>\n   <g id=\"matplotlib.axis_1\">\n    <g id=\"xtick_1\">\n     <g id=\"line2d_1\">\n      <defs>\n       <path d=\"M 0 0 \nL 0 3.5 \n\" id=\"m6f68017658\" style=\"stroke:#000000;stroke-width:0.8;\"/>\n      </defs>\n      <g>\n       <use style=\"stroke:#000000;stroke-width:0.8;\" x=\"76.360526\" xlink:href=\"#m6f68017658\" y=\"457.198125\"/>\n      </g>\n     </g>\n     <g id=\"text_1\">\n      <!-- things_to_do -->\n      <g transform=\"translate(44.641776 471.796562)scale(0.1 -0.1)\">\n       <defs>\n        <path d=\"M 18.3125 70.21875 \nL 18.3125 54.6875 \nL 36.8125 54.6875 \nL 36.8125 47.703125 \nL 18.3125 47.703125 \nL 18.3125 18.015625 \nQ 18.3125 11.328125 20.140625 9.421875 \nQ 21.96875 7.515625 27.59375 7.515625 \nL 36.8125 7.515625 \nL 36.8125 0 \nL 27.59375 0 \nQ 17.1875 0 13.234375 3.875 \nQ 9.28125 7.765625 9.28125 18.015625 \nL 9.28125 47.703125 \nL 2.6875 47.703125 \nL 2.6875 54.6875 \nL 9.28125 54.6875 \nL 9.28125 70.21875 \nz\n\" id=\"DejaVuSans-116\"/>\n        <path d=\"M 54.890625 33.015625 \nL 54.890625 0 \nL 45.90625 0 \nL 45.90625 32.71875 \nQ 45.90625 40.484375 42.875 44.328125 \nQ 39.84375 48.1875 33.796875 48.1875 \nQ 26.515625 48.1875 22.3125 43.546875 \nQ 18.109375 38.921875 18.109375 30.90625 \nL 18.109375 0 \nL 9.078125 0 \nL 9.078125 75.984375 \nL 18.109375 75.984375 \nL 18.109375 46.1875 \nQ 21.34375 51.125 25.703125 53.5625 \nQ 30.078125 56 35.796875 56 \nQ 45.21875 56 50.046875 50.171875 \nQ 54.890625 44.34375 54.890625 33.015625 \nz\n\" id=\"DejaVuSans-104\"/>\n        <path d=\"M 9.421875 54.6875 \nL 18.40625 54.6875 \nL 18.40625 0 \nL 9.421875 0 \nz\nM 9.421875 75.984375 \nL 18.40625 75.984375 \nL 18.40625 64.59375 \nL 9.421875 64.59375 \nz\n\" id=\"DejaVuSans-105\"/>\n        <path d=\"M 54.890625 33.015625 \nL 54.890625 0 \nL 45.90625 0 \nL 45.90625 32.71875 \nQ 45.90625 40.484375 42.875 44.328125 \nQ 39.84375 48.1875 33.796875 48.1875 \nQ 26.515625 48.1875 22.3125 43.546875 \nQ 18.109375 38.921875 18.109375 30.90625 \nL 18.109375 0 \nL 9.078125 0 \nL 9.078125 54.6875 \nL 18.109375 54.6875 \nL 18.109375 46.1875 \nQ 21.34375 51.125 25.703125 53.5625 \nQ 30.078125 56 35.796875 56 \nQ 45.21875 56 50.046875 50.171875 \nQ 54.890625 44.34375 54.890625 33.015625 \nz\n\" id=\"DejaVuSans-110\"/>\n        <path d=\"M 45.40625 27.984375 \nQ 45.40625 37.75 41.375 43.109375 \nQ 37.359375 48.484375 30.078125 48.484375 \nQ 22.859375 48.484375 18.828125 43.109375 \nQ 14.796875 37.75 14.796875 27.984375 \nQ 14.796875 18.265625 18.828125 12.890625 \nQ 22.859375 7.515625 30.078125 7.515625 \nQ 37.359375 7.515625 41.375 12.890625 \nQ 45.40625 18.265625 45.40625 27.984375 \nz\nM 54.390625 6.78125 \nQ 54.390625 -7.171875 48.1875 -13.984375 \nQ 42 -20.796875 29.203125 -20.796875 \nQ 24.46875 -20.796875 20.265625 -20.09375 \nQ 16.0625 -19.390625 12.109375 -17.921875 \nL 12.109375 -9.1875 \nQ 16.0625 -11.328125 19.921875 -12.34375 \nQ 23.78125 -13.375 27.78125 -13.375 \nQ 36.625 -13.375 41.015625 -8.765625 \nQ 45.40625 -4.15625 45.40625 5.171875 \nL 45.40625 9.625 \nQ 42.625 4.78125 38.28125 2.390625 \nQ 33.9375 0 27.875 0 \nQ 17.828125 0 11.671875 7.65625 \nQ 5.515625 15.328125 5.515625 27.984375 \nQ 5.515625 40.671875 11.671875 48.328125 \nQ 17.828125 56 27.875 56 \nQ 33.9375 56 38.28125 53.609375 \nQ 42.625 51.21875 45.40625 46.390625 \nL 45.40625 54.6875 \nL 54.390625 54.6875 \nz\n\" id=\"DejaVuSans-103\"/>\n        <path d=\"M 44.28125 53.078125 \nL 44.28125 44.578125 \nQ 40.484375 46.53125 36.375 47.5 \nQ 32.28125 48.484375 27.875 48.484375 \nQ 21.1875 48.484375 17.84375 46.4375 \nQ 14.5 44.390625 14.5 40.28125 \nQ 14.5 37.15625 16.890625 35.375 \nQ 19.28125 33.59375 26.515625 31.984375 \nL 29.59375 31.296875 \nQ 39.15625 29.25 43.1875 25.515625 \nQ 47.21875 21.78125 47.21875 15.09375 \nQ 47.21875 7.46875 41.1875 3.015625 \nQ 35.15625 -1.421875 24.609375 -1.421875 \nQ 20.21875 -1.421875 15.453125 -0.5625 \nQ 10.6875 0.296875 5.421875 2 \nL 5.421875 11.28125 \nQ 10.40625 8.6875 15.234375 7.390625 \nQ 20.0625 6.109375 24.8125 6.109375 \nQ 31.15625 6.109375 34.5625 8.28125 \nQ 37.984375 10.453125 37.984375 14.40625 \nQ 37.984375 18.0625 35.515625 20.015625 \nQ 33.0625 21.96875 24.703125 23.78125 \nL 21.578125 24.515625 \nQ 13.234375 26.265625 9.515625 29.90625 \nQ 5.8125 33.546875 5.8125 39.890625 \nQ 5.8125 47.609375 11.28125 51.796875 \nQ 16.75 56 26.8125 56 \nQ 31.78125 56 36.171875 55.265625 \nQ 40.578125 54.546875 44.28125 53.078125 \nz\n\" id=\"DejaVuSans-115\"/>\n        <path d=\"M 50.984375 -16.609375 \nL 50.984375 -23.578125 \nL -0.984375 -23.578125 \nL -0.984375 -16.609375 \nz\n\" id=\"DejaVuSans-95\"/>\n        <path d=\"M 30.609375 48.390625 \nQ 23.390625 48.390625 19.1875 42.75 \nQ 14.984375 37.109375 14.984375 27.296875 \nQ 14.984375 17.484375 19.15625 11.84375 \nQ 23.34375 6.203125 30.609375 6.203125 \nQ 37.796875 6.203125 41.984375 11.859375 \nQ 46.1875 17.53125 46.1875 27.296875 \nQ 46.1875 37.015625 41.984375 42.703125 \nQ 37.796875 48.390625 30.609375 48.390625 \nz\nM 30.609375 56 \nQ 42.328125 56 49.015625 48.375 \nQ 55.71875 40.765625 55.71875 27.296875 \nQ 55.71875 13.875 49.015625 6.21875 \nQ 42.328125 -1.421875 30.609375 -1.421875 \nQ 18.84375 -1.421875 12.171875 6.21875 \nQ 5.515625 13.875 5.515625 27.296875 \nQ 5.515625 40.765625 12.171875 48.375 \nQ 18.84375 56 30.609375 56 \nz\n\" id=\"DejaVuSans-111\"/>\n        <path d=\"M 45.40625 46.390625 \nL 45.40625 75.984375 \nL 54.390625 75.984375 \nL 54.390625 0 \nL 45.40625 0 \nL 45.40625 8.203125 \nQ 42.578125 3.328125 38.25 0.953125 \nQ 33.9375 -1.421875 27.875 -1.421875 \nQ 17.96875 -1.421875 11.734375 6.484375 \nQ 5.515625 14.40625 5.515625 27.296875 \nQ 5.515625 40.1875 11.734375 48.09375 \nQ 17.96875 56 27.875 56 \nQ 33.9375 56 38.25 53.625 \nQ 42.578125 51.265625 45.40625 46.390625 \nz\nM 14.796875 27.296875 \nQ 14.796875 17.390625 18.875 11.75 \nQ 22.953125 6.109375 30.078125 6.109375 \nQ 37.203125 6.109375 41.296875 11.75 \nQ 45.40625 17.390625 45.40625 27.296875 \nQ 45.40625 37.203125 41.296875 42.84375 \nQ 37.203125 48.484375 30.078125 48.484375 \nQ 22.953125 48.484375 18.875 42.84375 \nQ 14.796875 37.203125 14.796875 27.296875 \nz\n\" id=\"DejaVuSans-100\"/>\n       </defs>\n       <use xlink:href=\"#DejaVuSans-116\"/>\n       <use x=\"39.208984\" xlink:href=\"#DejaVuSans-104\"/>\n       <use x=\"102.587891\" xlink:href=\"#DejaVuSans-105\"/>\n       <use x=\"130.371094\" xlink:href=\"#DejaVuSans-110\"/>\n       <use x=\"193.75\" xlink:href=\"#DejaVuSans-103\"/>\n       <use x=\"257.226562\" xlink:href=\"#DejaVuSans-115\"/>\n       <use x=\"309.326172\" xlink:href=\"#DejaVuSans-95\"/>\n       <use x=\"359.326172\" xlink:href=\"#DejaVuSans-116\"/>\n       <use x=\"398.535156\" xlink:href=\"#DejaVuSans-111\"/>\n       <use x=\"459.716797\" xlink:href=\"#DejaVuSans-95\"/>\n       <use x=\"509.716797\" xlink:href=\"#DejaVuSans-100\"/>\n       <use x=\"573.193359\" xlink:href=\"#DejaVuSans-111\"/>\n      </g>\n     </g>\n    </g>\n    <g id=\"xtick_2\">\n     <g id=\"line2d_2\">\n      <g>\n       <use style=\"stroke:#000000;stroke-width:0.8;\" x=\"149.781579\" xlink:href=\"#m6f68017658\" y=\"457.198125\"/>\n      </g>\n     </g>\n     <g id=\"text_2\">\n      <!-- highlight_value -->\n      <g transform=\"translate(111.641735 471.796562)scale(0.1 -0.1)\">\n       <defs>\n        <path d=\"M 9.421875 75.984375 \nL 18.40625 75.984375 \nL 18.40625 0 \nL 9.421875 0 \nz\n\" id=\"DejaVuSans-108\"/>\n        <path d=\"M 2.984375 54.6875 \nL 12.5 54.6875 \nL 29.59375 8.796875 \nL 46.6875 54.6875 \nL 56.203125 54.6875 \nL 35.6875 0 \nL 23.484375 0 \nz\n\" id=\"DejaVuSans-118\"/>\n        <path d=\"M 34.28125 27.484375 \nQ 23.390625 27.484375 19.1875 25 \nQ 14.984375 22.515625 14.984375 16.5 \nQ 14.984375 11.71875 18.140625 8.90625 \nQ 21.296875 6.109375 26.703125 6.109375 \nQ 34.1875 6.109375 38.703125 11.40625 \nQ 43.21875 16.703125 43.21875 25.484375 \nL 43.21875 27.484375 \nz\nM 52.203125 31.203125 \nL 52.203125 0 \nL 43.21875 0 \nL 43.21875 8.296875 \nQ 40.140625 3.328125 35.546875 0.953125 \nQ 30.953125 -1.421875 24.3125 -1.421875 \nQ 15.921875 -1.421875 10.953125 3.296875 \nQ 6 8.015625 6 15.921875 \nQ 6 25.140625 12.171875 29.828125 \nQ 18.359375 34.515625 30.609375 34.515625 \nL 43.21875 34.515625 \nL 43.21875 35.40625 \nQ 43.21875 41.609375 39.140625 45 \nQ 35.0625 48.390625 27.6875 48.390625 \nQ 23 48.390625 18.546875 47.265625 \nQ 14.109375 46.140625 10.015625 43.890625 \nL 10.015625 52.203125 \nQ 14.9375 54.109375 19.578125 55.046875 \nQ 24.21875 56 28.609375 56 \nQ 40.484375 56 46.34375 49.84375 \nQ 52.203125 43.703125 52.203125 31.203125 \nz\n\" id=\"DejaVuSans-97\"/>\n        <path d=\"M 8.5 21.578125 \nL 8.5 54.6875 \nL 17.484375 54.6875 \nL 17.484375 21.921875 \nQ 17.484375 14.15625 20.5 10.265625 \nQ 23.53125 6.390625 29.59375 6.390625 \nQ 36.859375 6.390625 41.078125 11.03125 \nQ 45.3125 15.671875 45.3125 23.6875 \nL 45.3125 54.6875 \nL 54.296875 54.6875 \nL 54.296875 0 \nL 45.3125 0 \nL 45.3125 8.40625 \nQ 42.046875 3.421875 37.71875 1 \nQ 33.40625 -1.421875 27.6875 -1.421875 \nQ 18.265625 -1.421875 13.375 4.4375 \nQ 8.5 10.296875 8.5 21.578125 \nz\nM 31.109375 56 \nz\n\" id=\"DejaVuSans-117\"/>\n        <path d=\"M 56.203125 29.59375 \nL 56.203125 25.203125 \nL 14.890625 25.203125 \nQ 15.484375 15.921875 20.484375 11.0625 \nQ 25.484375 6.203125 34.421875 6.203125 \nQ 39.59375 6.203125 44.453125 7.46875 \nQ 49.3125 8.734375 54.109375 11.28125 \nL 54.109375 2.78125 \nQ 49.265625 0.734375 44.1875 -0.34375 \nQ 39.109375 -1.421875 33.890625 -1.421875 \nQ 20.796875 -1.421875 13.15625 6.1875 \nQ 5.515625 13.8125 5.515625 26.8125 \nQ 5.515625 40.234375 12.765625 48.109375 \nQ 20.015625 56 32.328125 56 \nQ 43.359375 56 49.78125 48.890625 \nQ 56.203125 41.796875 56.203125 29.59375 \nz\nM 47.21875 32.234375 \nQ 47.125 39.59375 43.09375 43.984375 \nQ 39.0625 48.390625 32.421875 48.390625 \nQ 24.90625 48.390625 20.390625 44.140625 \nQ 15.875 39.890625 15.1875 32.171875 \nz\n\" id=\"DejaVuSans-101\"/>\n       </defs>\n       <use xlink:href=\"#DejaVuSans-104\"/>\n       <use x=\"63.378906\" xlink:href=\"#DejaVuSans-105\"/>\n       <use x=\"91.162109\" xlink:href=\"#DejaVuSans-103\"/>\n       <use x=\"154.638672\" xlink:href=\"#DejaVuSans-104\"/>\n       <use x=\"218.017578\" xlink:href=\"#DejaVuSans-108\"/>\n       <use x=\"245.800781\" xlink:href=\"#DejaVuSans-105\"/>\n       <use x=\"273.583984\" xlink:href=\"#DejaVuSans-103\"/>\n       <use x=\"337.060547\" xlink:href=\"#DejaVuSans-104\"/>\n       <use x=\"400.439453\" xlink:href=\"#DejaVuSans-116\"/>\n       <use x=\"439.648438\" xlink:href=\"#DejaVuSans-95\"/>\n       <use x=\"489.648438\" xlink:href=\"#DejaVuSans-118\"/>\n       <use x=\"548.828125\" xlink:href=\"#DejaVuSans-97\"/>\n       <use x=\"610.107422\" xlink:href=\"#DejaVuSans-108\"/>\n       <use x=\"637.890625\" xlink:href=\"#DejaVuSans-117\"/>\n       <use x=\"701.269531\" xlink:href=\"#DejaVuSans-101\"/>\n      </g>\n     </g>\n    </g>\n    <g id=\"xtick_3\">\n     <g id=\"line2d_3\">\n      <g>\n       <use style=\"stroke:#000000;stroke-width:0.8;\" x=\"223.202632\" xlink:href=\"#m6f68017658\" y=\"457.198125\"/>\n      </g>\n     </g>\n     <g id=\"text_3\">\n      <!-- internet -->\n      <g transform=\"translate(203.434663 471.796562)scale(0.1 -0.1)\">\n       <defs>\n        <path d=\"M 41.109375 46.296875 \nQ 39.59375 47.171875 37.8125 47.578125 \nQ 36.03125 48 33.890625 48 \nQ 26.265625 48 22.1875 43.046875 \nQ 18.109375 38.09375 18.109375 28.8125 \nL 18.109375 0 \nL 9.078125 0 \nL 9.078125 54.6875 \nL 18.109375 54.6875 \nL 18.109375 46.1875 \nQ 20.953125 51.171875 25.484375 53.578125 \nQ 30.03125 56 36.53125 56 \nQ 37.453125 56 38.578125 55.875 \nQ 39.703125 55.765625 41.0625 55.515625 \nz\n\" id=\"DejaVuSans-114\"/>\n       </defs>\n       <use xlink:href=\"#DejaVuSans-105\"/>\n       <use x=\"27.783203\" xlink:href=\"#DejaVuSans-110\"/>\n       <use x=\"91.162109\" xlink:href=\"#DejaVuSans-116\"/>\n       <use x=\"130.371094\" xlink:href=\"#DejaVuSans-101\"/>\n       <use x=\"191.894531\" xlink:href=\"#DejaVuSans-114\"/>\n       <use x=\"231.257812\" xlink:href=\"#DejaVuSans-110\"/>\n       <use x=\"294.636719\" xlink:href=\"#DejaVuSans-101\"/>\n       <use x=\"356.160156\" xlink:href=\"#DejaVuSans-116\"/>\n      </g>\n     </g>\n    </g>\n    <g id=\"xtick_4\">\n     <g id=\"line2d_4\">\n      <g>\n       <use style=\"stroke:#000000;stroke-width:0.8;\" x=\"296.623684\" xlink:href=\"#m6f68017658\" y=\"457.198125\"/>\n      </g>\n     </g>\n     <g id=\"text_4\">\n      <!-- search_term -->\n      <g transform=\"translate(265.642434 471.796562)scale(0.1 -0.1)\">\n       <defs>\n        <path d=\"M 48.78125 52.59375 \nL 48.78125 44.1875 \nQ 44.96875 46.296875 41.140625 47.34375 \nQ 37.3125 48.390625 33.40625 48.390625 \nQ 24.65625 48.390625 19.8125 42.84375 \nQ 14.984375 37.3125 14.984375 27.296875 \nQ 14.984375 17.28125 19.8125 11.734375 \nQ 24.65625 6.203125 33.40625 6.203125 \nQ 37.3125 6.203125 41.140625 7.25 \nQ 44.96875 8.296875 48.78125 10.40625 \nL 48.78125 2.09375 \nQ 45.015625 0.34375 40.984375 -0.53125 \nQ 36.96875 -1.421875 32.421875 -1.421875 \nQ 20.0625 -1.421875 12.78125 6.34375 \nQ 5.515625 14.109375 5.515625 27.296875 \nQ 5.515625 40.671875 12.859375 48.328125 \nQ 20.21875 56 33.015625 56 \nQ 37.15625 56 41.109375 55.140625 \nQ 45.0625 54.296875 48.78125 52.59375 \nz\n\" id=\"DejaVuSans-99\"/>\n        <path d=\"M 52 44.1875 \nQ 55.375 50.25 60.0625 53.125 \nQ 64.75 56 71.09375 56 \nQ 79.640625 56 84.28125 50.015625 \nQ 88.921875 44.046875 88.921875 33.015625 \nL 88.921875 0 \nL 79.890625 0 \nL 79.890625 32.71875 \nQ 79.890625 40.578125 77.09375 44.375 \nQ 74.3125 48.1875 68.609375 48.1875 \nQ 61.625 48.1875 57.5625 43.546875 \nQ 53.515625 38.921875 53.515625 30.90625 \nL 53.515625 0 \nL 44.484375 0 \nL 44.484375 32.71875 \nQ 44.484375 40.625 41.703125 44.40625 \nQ 38.921875 48.1875 33.109375 48.1875 \nQ 26.21875 48.1875 22.15625 43.53125 \nQ 18.109375 38.875 18.109375 30.90625 \nL 18.109375 0 \nL 9.078125 0 \nL 9.078125 54.6875 \nL 18.109375 54.6875 \nL 18.109375 46.1875 \nQ 21.1875 51.21875 25.484375 53.609375 \nQ 29.78125 56 35.6875 56 \nQ 41.65625 56 45.828125 52.96875 \nQ 50 49.953125 52 44.1875 \nz\n\" id=\"DejaVuSans-109\"/>\n       </defs>\n       <use xlink:href=\"#DejaVuSans-115\"/>\n       <use x=\"52.099609\" xlink:href=\"#DejaVuSans-101\"/>\n       <use x=\"113.623047\" xlink:href=\"#DejaVuSans-97\"/>\n       <use x=\"174.902344\" xlink:href=\"#DejaVuSans-114\"/>\n       <use x=\"213.765625\" xlink:href=\"#DejaVuSans-99\"/>\n       <use x=\"268.746094\" xlink:href=\"#DejaVuSans-104\"/>\n       <use x=\"332.125\" xlink:href=\"#DejaVuSans-95\"/>\n       <use x=\"382.125\" xlink:href=\"#DejaVuSans-116\"/>\n       <use x=\"421.333984\" xlink:href=\"#DejaVuSans-101\"/>\n       <use x=\"482.857422\" xlink:href=\"#DejaVuSans-114\"/>\n       <use x=\"522.220703\" xlink:href=\"#DejaVuSans-109\"/>\n      </g>\n     </g>\n    </g>\n    <g id=\"xtick_5\">\n     <g id=\"line2d_5\">\n      <g>\n       <use style=\"stroke:#000000;stroke-width:0.8;\" x=\"370.044737\" xlink:href=\"#m6f68017658\" y=\"457.198125\"/>\n      </g>\n     </g>\n     <g id=\"text_5\">\n      <!-- hotel_star_rating -->\n      <g transform=\"translate(327.894737 471.796562)scale(0.1 -0.1)\">\n       <use xlink:href=\"#DejaVuSans-104\"/>\n       <use x=\"63.378906\" xlink:href=\"#DejaVuSans-111\"/>\n       <use x=\"124.560547\" xlink:href=\"#DejaVuSans-116\"/>\n       <use x=\"163.769531\" xlink:href=\"#DejaVuSans-101\"/>\n       <use x=\"225.292969\" xlink:href=\"#DejaVuSans-108\"/>\n       <use x=\"253.076172\" xlink:href=\"#DejaVuSans-95\"/>\n       <use x=\"303.076172\" xlink:href=\"#DejaVuSans-115\"/>\n       <use x=\"355.175781\" xlink:href=\"#DejaVuSans-116\"/>\n       <use x=\"394.384766\" xlink:href=\"#DejaVuSans-97\"/>\n       <use x=\"455.664062\" xlink:href=\"#DejaVuSans-114\"/>\n       <use x=\"496.777344\" xlink:href=\"#DejaVuSans-95\"/>\n       <use x=\"546.777344\" xlink:href=\"#DejaVuSans-114\"/>\n       <use x=\"587.890625\" xlink:href=\"#DejaVuSans-97\"/>\n       <use x=\"649.169922\" xlink:href=\"#DejaVuSans-116\"/>\n       <use x=\"688.378906\" xlink:href=\"#DejaVuSans-105\"/>\n       <use x=\"716.162109\" xlink:href=\"#DejaVuSans-110\"/>\n       <use x=\"779.541016\" xlink:href=\"#DejaVuSans-103\"/>\n      </g>\n     </g>\n    </g>\n    <g id=\"xtick_6\">\n     <g id=\"line2d_6\">\n      <g>\n       <use style=\"stroke:#000000;stroke-width:0.8;\" x=\"443.465789\" xlink:href=\"#m6f68017658\" y=\"457.198125\"/>\n      </g>\n     </g>\n     <g id=\"text_6\">\n      <!-- landmark -->\n      <g transform=\"translate(419.784539 471.796562)scale(0.1 -0.1)\">\n       <defs>\n        <path d=\"M 9.078125 75.984375 \nL 18.109375 75.984375 \nL 18.109375 31.109375 \nL 44.921875 54.6875 \nL 56.390625 54.6875 \nL 27.390625 29.109375 \nL 57.625 0 \nL 45.90625 0 \nL 18.109375 26.703125 \nL 18.109375 0 \nL 9.078125 0 \nz\n\" id=\"DejaVuSans-107\"/>\n       </defs>\n       <use xlink:href=\"#DejaVuSans-108\"/>\n       <use x=\"27.783203\" xlink:href=\"#DejaVuSans-97\"/>\n       <use x=\"89.0625\" xlink:href=\"#DejaVuSans-110\"/>\n       <use x=\"152.441406\" xlink:href=\"#DejaVuSans-100\"/>\n       <use x=\"215.917969\" xlink:href=\"#DejaVuSans-109\"/>\n       <use x=\"313.330078\" xlink:href=\"#DejaVuSans-97\"/>\n       <use x=\"374.609375\" xlink:href=\"#DejaVuSans-114\"/>\n       <use x=\"415.722656\" xlink:href=\"#DejaVuSans-107\"/>\n      </g>\n     </g>\n    </g>\n    <g id=\"xtick_7\">\n     <g id=\"line2d_7\">\n      <g>\n       <use style=\"stroke:#000000;stroke-width:0.8;\" x=\"516.886842\" xlink:href=\"#m6f68017658\" y=\"457.198125\"/>\n      </g>\n     </g>\n     <g id=\"text_7\">\n      <!-- similar_hotel -->\n      <g transform=\"translate(484.971217 471.796562)scale(0.1 -0.1)\">\n       <use xlink:href=\"#DejaVuSans-115\"/>\n       <use x=\"52.099609\" xlink:href=\"#DejaVuSans-105\"/>\n       <use x=\"79.882812\" xlink:href=\"#DejaVuSans-109\"/>\n       <use x=\"177.294922\" xlink:href=\"#DejaVuSans-105\"/>\n       <use x=\"205.078125\" xlink:href=\"#DejaVuSans-108\"/>\n       <use x=\"232.861328\" xlink:href=\"#DejaVuSans-97\"/>\n       <use x=\"294.140625\" xlink:href=\"#DejaVuSans-114\"/>\n       <use x=\"335.253906\" xlink:href=\"#DejaVuSans-95\"/>\n       <use x=\"385.253906\" xlink:href=\"#DejaVuSans-104\"/>\n       <use x=\"448.632812\" xlink:href=\"#DejaVuSans-111\"/>\n       <use x=\"509.814453\" xlink:href=\"#DejaVuSans-116\"/>\n       <use x=\"549.023438\" xlink:href=\"#DejaVuSans-101\"/>\n       <use x=\"610.546875\" xlink:href=\"#DejaVuSans-108\"/>\n      </g>\n     </g>\n    </g>\n    <g id=\"xtick_8\">\n     <g id=\"line2d_8\">\n      <g>\n       <use style=\"stroke:#000000;stroke-width:0.8;\" x=\"590.307895\" xlink:href=\"#m6f68017658\" y=\"457.198125\"/>\n      </g>\n     </g>\n     <g id=\"text_8\">\n      <!-- description -->\n      <g transform=\"translate(562.507113 471.796562)scale(0.1 -0.1)\">\n       <defs>\n        <path d=\"M 18.109375 8.203125 \nL 18.109375 -20.796875 \nL 9.078125 -20.796875 \nL 9.078125 54.6875 \nL 18.109375 54.6875 \nL 18.109375 46.390625 \nQ 20.953125 51.265625 25.265625 53.625 \nQ 29.59375 56 35.59375 56 \nQ 45.5625 56 51.78125 48.09375 \nQ 58.015625 40.1875 58.015625 27.296875 \nQ 58.015625 14.40625 51.78125 6.484375 \nQ 45.5625 -1.421875 35.59375 -1.421875 \nQ 29.59375 -1.421875 25.265625 0.953125 \nQ 20.953125 3.328125 18.109375 8.203125 \nz\nM 48.6875 27.296875 \nQ 48.6875 37.203125 44.609375 42.84375 \nQ 40.53125 48.484375 33.40625 48.484375 \nQ 26.265625 48.484375 22.1875 42.84375 \nQ 18.109375 37.203125 18.109375 27.296875 \nQ 18.109375 17.390625 22.1875 11.75 \nQ 26.265625 6.109375 33.40625 6.109375 \nQ 40.53125 6.109375 44.609375 11.75 \nQ 48.6875 17.390625 48.6875 27.296875 \nz\n\" id=\"DejaVuSans-112\"/>\n       </defs>\n       <use xlink:href=\"#DejaVuSans-100\"/>\n       <use x=\"63.476562\" xlink:href=\"#DejaVuSans-101\"/>\n       <use x=\"125\" xlink:href=\"#DejaVuSans-115\"/>\n       <use x=\"177.099609\" xlink:href=\"#DejaVuSans-99\"/>\n       <use x=\"232.080078\" xlink:href=\"#DejaVuSans-114\"/>\n       <use x=\"273.193359\" xlink:href=\"#DejaVuSans-105\"/>\n       <use x=\"300.976562\" xlink:href=\"#DejaVuSans-112\"/>\n       <use x=\"364.453125\" xlink:href=\"#DejaVuSans-116\"/>\n       <use x=\"403.662109\" xlink:href=\"#DejaVuSans-105\"/>\n       <use x=\"431.445312\" xlink:href=\"#DejaVuSans-111\"/>\n       <use x=\"492.626953\" xlink:href=\"#DejaVuSans-110\"/>\n      </g>\n     </g>\n    </g>\n    <g id=\"xtick_9\">\n     <g id=\"line2d_9\">\n      <g>\n       <use style=\"stroke:#000000;stroke-width:0.8;\" x=\"663.728947\" xlink:href=\"#m6f68017658\" y=\"457.198125\"/>\n      </g>\n     </g>\n     <g id=\"text_9\">\n      <!-- image_urls -->\n      <g transform=\"translate(636.43676 471.796562)scale(0.1 -0.1)\">\n       <use xlink:href=\"#DejaVuSans-105\"/>\n       <use x=\"27.783203\" xlink:href=\"#DejaVuSans-109\"/>\n       <use x=\"125.195312\" xlink:href=\"#DejaVuSans-97\"/>\n       <use x=\"186.474609\" xlink:href=\"#DejaVuSans-103\"/>\n       <use x=\"249.951172\" xlink:href=\"#DejaVuSans-101\"/>\n       <use x=\"311.474609\" xlink:href=\"#DejaVuSans-95\"/>\n       <use x=\"361.474609\" xlink:href=\"#DejaVuSans-117\"/>\n       <use x=\"424.853516\" xlink:href=\"#DejaVuSans-114\"/>\n       <use x=\"465.966797\" xlink:href=\"#DejaVuSans-108\"/>\n       <use x=\"493.75\" xlink:href=\"#DejaVuSans-115\"/>\n      </g>\n     </g>\n    </g>\n    <g id=\"xtick_10\">\n     <g id=\"line2d_10\">\n      <g>\n       <use style=\"stroke:#000000;stroke-width:0.8;\" x=\"737.15\" xlink:href=\"#m6f68017658\" y=\"457.198125\"/>\n      </g>\n     </g>\n     <g id=\"text_10\">\n      <!-- things_to_note -->\n      <g transform=\"translate(700.4 471.796562)scale(0.1 -0.1)\">\n       <use xlink:href=\"#DejaVuSans-116\"/>\n       <use x=\"39.208984\" xlink:href=\"#DejaVuSans-104\"/>\n       <use x=\"102.587891\" xlink:href=\"#DejaVuSans-105\"/>\n       <use x=\"130.371094\" xlink:href=\"#DejaVuSans-110\"/>\n       <use x=\"193.75\" xlink:href=\"#DejaVuSans-103\"/>\n       <use x=\"257.226562\" xlink:href=\"#DejaVuSans-115\"/>\n       <use x=\"309.326172\" xlink:href=\"#DejaVuSans-95\"/>\n       <use x=\"359.326172\" xlink:href=\"#DejaVuSans-116\"/>\n       <use x=\"398.535156\" xlink:href=\"#DejaVuSans-111\"/>\n       <use x=\"459.716797\" xlink:href=\"#DejaVuSans-95\"/>\n       <use x=\"509.716797\" xlink:href=\"#DejaVuSans-110\"/>\n       <use x=\"573.095703\" xlink:href=\"#DejaVuSans-111\"/>\n       <use x=\"634.277344\" xlink:href=\"#DejaVuSans-116\"/>\n       <use x=\"673.486328\" xlink:href=\"#DejaVuSans-101\"/>\n      </g>\n     </g>\n    </g>\n    <g id=\"xtick_11\">\n     <g id=\"line2d_11\">\n      <g>\n       <use style=\"stroke:#000000;stroke-width:0.8;\" x=\"810.571053\" xlink:href=\"#m6f68017658\" y=\"457.198125\"/>\n      </g>\n     </g>\n     <g id=\"text_11\">\n      <!-- image_count -->\n      <g transform=\"translate(778.390584 471.796562)scale(0.1 -0.1)\">\n       <use xlink:href=\"#DejaVuSans-105\"/>\n       <use x=\"27.783203\" xlink:href=\"#DejaVuSans-109\"/>\n       <use x=\"125.195312\" xlink:href=\"#DejaVuSans-97\"/>\n       <use x=\"186.474609\" xlink:href=\"#DejaVuSans-103\"/>\n       <use x=\"249.951172\" xlink:href=\"#DejaVuSans-101\"/>\n       <use x=\"311.474609\" xlink:href=\"#DejaVuSans-95\"/>\n       <use x=\"361.474609\" xlink:href=\"#DejaVuSans-99\"/>\n       <use x=\"416.455078\" xlink:href=\"#DejaVuSans-111\"/>\n       <use x=\"477.636719\" xlink:href=\"#DejaVuSans-117\"/>\n       <use x=\"541.015625\" xlink:href=\"#DejaVuSans-110\"/>\n       <use x=\"604.394531\" xlink:href=\"#DejaVuSans-116\"/>\n      </g>\n     </g>\n    </g>\n    <g id=\"xtick_12\">\n     <g id=\"line2d_12\">\n      <g>\n       <use style=\"stroke:#000000;stroke-width:0.8;\" x=\"883.992105\" xlink:href=\"#m6f68017658\" y=\"457.198125\"/>\n      </g>\n     </g>\n     <g id=\"text_12\">\n      <!-- occupancy -->\n      <g transform=\"translate(857.149918 471.796562)scale(0.1 -0.1)\">\n       <defs>\n        <path d=\"M 32.171875 -5.078125 \nQ 28.375 -14.84375 24.75 -17.8125 \nQ 21.140625 -20.796875 15.09375 -20.796875 \nL 7.90625 -20.796875 \nL 7.90625 -13.28125 \nL 13.1875 -13.28125 \nQ 16.890625 -13.28125 18.9375 -11.515625 \nQ 21 -9.765625 23.484375 -3.21875 \nL 25.09375 0.875 \nL 2.984375 54.6875 \nL 12.5 54.6875 \nL 29.59375 11.921875 \nL 46.6875 54.6875 \nL 56.203125 54.6875 \nz\n\" id=\"DejaVuSans-121\"/>\n       </defs>\n       <use xlink:href=\"#DejaVuSans-111\"/>\n       <use x=\"61.181641\" xlink:href=\"#DejaVuSans-99\"/>\n       <use x=\"116.162109\" xlink:href=\"#DejaVuSans-99\"/>\n       <use x=\"171.142578\" xlink:href=\"#DejaVuSans-117\"/>\n       <use x=\"234.521484\" xlink:href=\"#DejaVuSans-112\"/>\n       <use x=\"297.998047\" xlink:href=\"#DejaVuSans-97\"/>\n       <use x=\"359.277344\" xlink:href=\"#DejaVuSans-110\"/>\n       <use x=\"422.65625\" xlink:href=\"#DejaVuSans-99\"/>\n       <use x=\"477.636719\" xlink:href=\"#DejaVuSans-121\"/>\n      </g>\n     </g>\n    </g>\n    <g id=\"xtick_13\">\n     <g id=\"line2d_13\">\n      <g>\n       <use style=\"stroke:#000000;stroke-width:0.8;\" x=\"957.413158\" xlink:href=\"#m6f68017658\" y=\"457.198125\"/>\n      </g>\n     </g>\n     <g id=\"text_13\">\n      <!-- qts -->\n      <g transform=\"translate(949.674095 471.796562)scale(0.1 -0.1)\">\n       <defs>\n        <path d=\"M 14.796875 27.296875 \nQ 14.796875 17.390625 18.875 11.75 \nQ 22.953125 6.109375 30.078125 6.109375 \nQ 37.203125 6.109375 41.296875 11.75 \nQ 45.40625 17.390625 45.40625 27.296875 \nQ 45.40625 37.203125 41.296875 42.84375 \nQ 37.203125 48.484375 30.078125 48.484375 \nQ 22.953125 48.484375 18.875 42.84375 \nQ 14.796875 37.203125 14.796875 27.296875 \nz\nM 45.40625 8.203125 \nQ 42.578125 3.328125 38.25 0.953125 \nQ 33.9375 -1.421875 27.875 -1.421875 \nQ 17.96875 -1.421875 11.734375 6.484375 \nQ 5.515625 14.40625 5.515625 27.296875 \nQ 5.515625 40.1875 11.734375 48.09375 \nQ 17.96875 56 27.875 56 \nQ 33.9375 56 38.25 53.625 \nQ 42.578125 51.265625 45.40625 46.390625 \nL 45.40625 54.6875 \nL 54.390625 54.6875 \nL 54.390625 -20.796875 \nL 45.40625 -20.796875 \nz\n\" id=\"DejaVuSans-113\"/>\n       </defs>\n       <use xlink:href=\"#DejaVuSans-113\"/>\n       <use x=\"63.476562\" xlink:href=\"#DejaVuSans-116\"/>\n       <use x=\"102.685547\" xlink:href=\"#DejaVuSans-115\"/>\n      </g>\n     </g>\n    </g>\n    <g id=\"xtick_14\">\n     <g id=\"line2d_14\">\n      <g>\n       <use style=\"stroke:#000000;stroke-width:0.8;\" x=\"1030.834211\" xlink:href=\"#m6f68017658\" y=\"457.198125\"/>\n      </g>\n     </g>\n     <g id=\"text_14\">\n      <!-- room_price -->\n      <g transform=\"translate(1002.957648 471.796562)scale(0.1 -0.1)\">\n       <use xlink:href=\"#DejaVuSans-114\"/>\n       <use x=\"38.863281\" xlink:href=\"#DejaVuSans-111\"/>\n       <use x=\"100.044922\" xlink:href=\"#DejaVuSans-111\"/>\n       <use x=\"161.226562\" xlink:href=\"#DejaVuSans-109\"/>\n       <use x=\"258.638672\" xlink:href=\"#DejaVuSans-95\"/>\n       <use x=\"308.638672\" xlink:href=\"#DejaVuSans-112\"/>\n       <use x=\"372.115234\" xlink:href=\"#DejaVuSans-114\"/>\n       <use x=\"413.228516\" xlink:href=\"#DejaVuSans-105\"/>\n       <use x=\"441.011719\" xlink:href=\"#DejaVuSans-99\"/>\n       <use x=\"495.992188\" xlink:href=\"#DejaVuSans-101\"/>\n      </g>\n     </g>\n    </g>\n    <g id=\"xtick_15\">\n     <g id=\"line2d_15\">\n      <g>\n       <use style=\"stroke:#000000;stroke-width:0.8;\" x=\"1104.255263\" xlink:href=\"#m6f68017658\" y=\"457.198125\"/>\n      </g>\n     </g>\n     <g id=\"text_15\">\n      <!-- crawl_date -->\n      <g transform=\"translate(1077.133388 471.796562)scale(0.1 -0.1)\">\n       <defs>\n        <path d=\"M 4.203125 54.6875 \nL 13.1875 54.6875 \nL 24.421875 12.015625 \nL 35.59375 54.6875 \nL 46.1875 54.6875 \nL 57.421875 12.015625 \nL 68.609375 54.6875 \nL 77.59375 54.6875 \nL 63.28125 0 \nL 52.6875 0 \nL 40.921875 44.828125 \nL 29.109375 0 \nL 18.5 0 \nz\n\" id=\"DejaVuSans-119\"/>\n       </defs>\n       <use xlink:href=\"#DejaVuSans-99\"/>\n       <use x=\"54.980469\" xlink:href=\"#DejaVuSans-114\"/>\n       <use x=\"96.09375\" xlink:href=\"#DejaVuSans-97\"/>\n       <use x=\"157.373047\" xlink:href=\"#DejaVuSans-119\"/>\n       <use x=\"239.160156\" xlink:href=\"#DejaVuSans-108\"/>\n       <use x=\"266.943359\" xlink:href=\"#DejaVuSans-95\"/>\n       <use x=\"316.943359\" xlink:href=\"#DejaVuSans-100\"/>\n       <use x=\"380.419922\" xlink:href=\"#DejaVuSans-97\"/>\n       <use x=\"441.699219\" xlink:href=\"#DejaVuSans-116\"/>\n       <use x=\"480.908203\" xlink:href=\"#DejaVuSans-101\"/>\n      </g>\n     </g>\n    </g>\n    <g id=\"xtick_16\">\n     <g id=\"line2d_16\">\n      <g>\n       <use style=\"stroke:#000000;stroke-width:0.8;\" x=\"1177.676316\" xlink:href=\"#m6f68017658\" y=\"457.198125\"/>\n      </g>\n     </g>\n     <g id=\"text_16\">\n      <!-- country -->\n      <g transform=\"translate(1158.555222 471.796562)scale(0.1 -0.1)\">\n       <use xlink:href=\"#DejaVuSans-99\"/>\n       <use x=\"54.980469\" xlink:href=\"#DejaVuSans-111\"/>\n       <use x=\"116.162109\" xlink:href=\"#DejaVuSans-117\"/>\n       <use x=\"179.541016\" xlink:href=\"#DejaVuSans-110\"/>\n       <use x=\"242.919922\" xlink:href=\"#DejaVuSans-116\"/>\n       <use x=\"282.128906\" xlink:href=\"#DejaVuSans-114\"/>\n       <use x=\"323.242188\" xlink:href=\"#DejaVuSans-121\"/>\n      </g>\n     </g>\n    </g>\n    <g id=\"xtick_17\">\n     <g id=\"line2d_17\">\n      <g>\n       <use style=\"stroke:#000000;stroke-width:0.8;\" x=\"1251.097368\" xlink:href=\"#m6f68017658\" y=\"457.198125\"/>\n      </g>\n     </g>\n     <g id=\"text_17\">\n      <!-- amenities -->\n      <g transform=\"translate(1226.49815 471.796562)scale(0.1 -0.1)\">\n       <use xlink:href=\"#DejaVuSans-97\"/>\n       <use x=\"61.279297\" xlink:href=\"#DejaVuSans-109\"/>\n       <use x=\"158.691406\" xlink:href=\"#DejaVuSans-101\"/>\n       <use x=\"220.214844\" xlink:href=\"#DejaVuSans-110\"/>\n       <use x=\"283.59375\" xlink:href=\"#DejaVuSans-105\"/>\n       <use x=\"311.376953\" xlink:href=\"#DejaVuSans-116\"/>\n       <use x=\"350.585938\" xlink:href=\"#DejaVuSans-105\"/>\n       <use x=\"378.369141\" xlink:href=\"#DejaVuSans-101\"/>\n       <use x=\"439.892578\" xlink:href=\"#DejaVuSans-115\"/>\n      </g>\n     </g>\n    </g>\n    <g id=\"xtick_18\">\n     <g id=\"line2d_18\">\n      <g>\n       <use style=\"stroke:#000000;stroke-width:0.8;\" x=\"1324.518421\" xlink:href=\"#m6f68017658\" y=\"457.198125\"/>\n      </g>\n     </g>\n     <g id=\"text_18\">\n      <!-- additional_info -->\n      <g transform=\"translate(1287.809046 471.796562)scale(0.1 -0.1)\">\n       <defs>\n        <path d=\"M 37.109375 75.984375 \nL 37.109375 68.5 \nL 28.515625 68.5 \nQ 23.6875 68.5 21.796875 66.546875 \nQ 19.921875 64.59375 19.921875 59.515625 \nL 19.921875 54.6875 \nL 34.71875 54.6875 \nL 34.71875 47.703125 \nL 19.921875 47.703125 \nL 19.921875 0 \nL 10.890625 0 \nL 10.890625 47.703125 \nL 2.296875 47.703125 \nL 2.296875 54.6875 \nL 10.890625 54.6875 \nL 10.890625 58.5 \nQ 10.890625 67.625 15.140625 71.796875 \nQ 19.390625 75.984375 28.609375 75.984375 \nz\n\" id=\"DejaVuSans-102\"/>\n       </defs>\n       <use xlink:href=\"#DejaVuSans-97\"/>\n       <use x=\"61.279297\" xlink:href=\"#DejaVuSans-100\"/>\n       <use x=\"124.755859\" xlink:href=\"#DejaVuSans-100\"/>\n       <use x=\"188.232422\" xlink:href=\"#DejaVuSans-105\"/>\n       <use x=\"216.015625\" xlink:href=\"#DejaVuSans-116\"/>\n       <use x=\"255.224609\" xlink:href=\"#DejaVuSans-105\"/>\n       <use x=\"283.007812\" xlink:href=\"#DejaVuSans-111\"/>\n       <use x=\"344.189453\" xlink:href=\"#DejaVuSans-110\"/>\n       <use x=\"407.568359\" xlink:href=\"#DejaVuSans-97\"/>\n       <use x=\"468.847656\" xlink:href=\"#DejaVuSans-108\"/>\n       <use x=\"496.630859\" xlink:href=\"#DejaVuSans-95\"/>\n       <use x=\"546.630859\" xlink:href=\"#DejaVuSans-105\"/>\n       <use x=\"574.414062\" xlink:href=\"#DejaVuSans-110\"/>\n       <use x=\"637.792969\" xlink:href=\"#DejaVuSans-102\"/>\n       <use x=\"672.998047\" xlink:href=\"#DejaVuSans-111\"/>\n      </g>\n     </g>\n    </g>\n    <g id=\"xtick_19\">\n     <g id=\"line2d_19\">\n      <g>\n       <use style=\"stroke:#000000;stroke-width:0.8;\" x=\"1397.939474\" xlink:href=\"#m6f68017658\" y=\"457.198125\"/>\n      </g>\n     </g>\n     <g id=\"text_19\">\n      <!-- service_value -->\n      <g transform=\"translate(1363.870724 471.796562)scale(0.1 -0.1)\">\n       <use xlink:href=\"#DejaVuSans-115\"/>\n       <use x=\"52.099609\" xlink:href=\"#DejaVuSans-101\"/>\n       <use x=\"113.623047\" xlink:href=\"#DejaVuSans-114\"/>\n       <use x=\"154.736328\" xlink:href=\"#DejaVuSans-118\"/>\n       <use x=\"213.916016\" xlink:href=\"#DejaVuSans-105\"/>\n       <use x=\"241.699219\" xlink:href=\"#DejaVuSans-99\"/>\n       <use x=\"296.679688\" xlink:href=\"#DejaVuSans-101\"/>\n       <use x=\"358.203125\" xlink:href=\"#DejaVuSans-95\"/>\n       <use x=\"408.203125\" xlink:href=\"#DejaVuSans-118\"/>\n       <use x=\"467.382812\" xlink:href=\"#DejaVuSans-97\"/>\n       <use x=\"528.662109\" xlink:href=\"#DejaVuSans-108\"/>\n       <use x=\"556.445312\" xlink:href=\"#DejaVuSans-117\"/>\n       <use x=\"619.824219\" xlink:href=\"#DejaVuSans-101\"/>\n      </g>\n     </g>\n    </g>\n   </g>\n   <g id=\"matplotlib.axis_2\">\n    <g id=\"ytick_1\">\n     <g id=\"line2d_20\">\n      <defs>\n       <path d=\"M 0 0 \nL -3.5 0 \n\" id=\"mb30506a10b\" style=\"stroke:#000000;stroke-width:0.8;\"/>\n      </defs>\n      <g>\n       <use style=\"stroke:#000000;stroke-width:0.8;\" x=\"39.65\" xlink:href=\"#mb30506a10b\" y=\"457.198125\"/>\n      </g>\n     </g>\n     <g id=\"text_20\">\n      <!-- 0 -->\n      <g transform=\"translate(26.2875 460.997344)scale(0.1 -0.1)\">\n       <defs>\n        <path d=\"M 31.78125 66.40625 \nQ 24.171875 66.40625 20.328125 58.90625 \nQ 16.5 51.421875 16.5 36.375 \nQ 16.5 21.390625 20.328125 13.890625 \nQ 24.171875 6.390625 31.78125 6.390625 \nQ 39.453125 6.390625 43.28125 13.890625 \nQ 47.125 21.390625 47.125 36.375 \nQ 47.125 51.421875 43.28125 58.90625 \nQ 39.453125 66.40625 31.78125 66.40625 \nz\nM 31.78125 74.21875 \nQ 44.046875 74.21875 50.515625 64.515625 \nQ 56.984375 54.828125 56.984375 36.375 \nQ 56.984375 17.96875 50.515625 8.265625 \nQ 44.046875 -1.421875 31.78125 -1.421875 \nQ 19.53125 -1.421875 13.0625 8.265625 \nQ 6.59375 17.96875 6.59375 36.375 \nQ 6.59375 54.828125 13.0625 64.515625 \nQ 19.53125 74.21875 31.78125 74.21875 \nz\n\" id=\"DejaVuSans-48\"/>\n       </defs>\n       <use xlink:href=\"#DejaVuSans-48\"/>\n      </g>\n     </g>\n    </g>\n    <g id=\"ytick_2\">\n     <g id=\"line2d_21\">\n      <g>\n       <use style=\"stroke:#000000;stroke-width:0.8;\" x=\"39.65\" xlink:href=\"#mb30506a10b\" y=\"386.217589\"/>\n      </g>\n     </g>\n     <g id=\"text_21\">\n      <!-- 200 -->\n      <g transform=\"translate(13.5625 390.016808)scale(0.1 -0.1)\">\n       <defs>\n        <path d=\"M 19.1875 8.296875 \nL 53.609375 8.296875 \nL 53.609375 0 \nL 7.328125 0 \nL 7.328125 8.296875 \nQ 12.9375 14.109375 22.625 23.890625 \nQ 32.328125 33.6875 34.8125 36.53125 \nQ 39.546875 41.84375 41.421875 45.53125 \nQ 43.3125 49.21875 43.3125 52.78125 \nQ 43.3125 58.59375 39.234375 62.25 \nQ 35.15625 65.921875 28.609375 65.921875 \nQ 23.96875 65.921875 18.8125 64.3125 \nQ 13.671875 62.703125 7.8125 59.421875 \nL 7.8125 69.390625 \nQ 13.765625 71.78125 18.9375 73 \nQ 24.125 74.21875 28.421875 74.21875 \nQ 39.75 74.21875 46.484375 68.546875 \nQ 53.21875 62.890625 53.21875 53.421875 \nQ 53.21875 48.921875 51.53125 44.890625 \nQ 49.859375 40.875 45.40625 35.40625 \nQ 44.1875 33.984375 37.640625 27.21875 \nQ 31.109375 20.453125 19.1875 8.296875 \nz\n\" id=\"DejaVuSans-50\"/>\n       </defs>\n       <use xlink:href=\"#DejaVuSans-50\"/>\n       <use x=\"63.623047\" xlink:href=\"#DejaVuSans-48\"/>\n       <use x=\"127.246094\" xlink:href=\"#DejaVuSans-48\"/>\n      </g>\n     </g>\n    </g>\n    <g id=\"ytick_3\">\n     <g id=\"line2d_22\">\n      <g>\n       <use style=\"stroke:#000000;stroke-width:0.8;\" x=\"39.65\" xlink:href=\"#mb30506a10b\" y=\"315.237053\"/>\n      </g>\n     </g>\n     <g id=\"text_22\">\n      <!-- 400 -->\n      <g transform=\"translate(13.5625 319.036271)scale(0.1 -0.1)\">\n       <defs>\n        <path d=\"M 37.796875 64.3125 \nL 12.890625 25.390625 \nL 37.796875 25.390625 \nz\nM 35.203125 72.90625 \nL 47.609375 72.90625 \nL 47.609375 25.390625 \nL 58.015625 25.390625 \nL 58.015625 17.1875 \nL 47.609375 17.1875 \nL 47.609375 0 \nL 37.796875 0 \nL 37.796875 17.1875 \nL 4.890625 17.1875 \nL 4.890625 26.703125 \nz\n\" id=\"DejaVuSans-52\"/>\n       </defs>\n       <use xlink:href=\"#DejaVuSans-52\"/>\n       <use x=\"63.623047\" xlink:href=\"#DejaVuSans-48\"/>\n       <use x=\"127.246094\" xlink:href=\"#DejaVuSans-48\"/>\n      </g>\n     </g>\n    </g>\n    <g id=\"ytick_4\">\n     <g id=\"line2d_23\">\n      <g>\n       <use style=\"stroke:#000000;stroke-width:0.8;\" x=\"39.65\" xlink:href=\"#mb30506a10b\" y=\"244.256516\"/>\n      </g>\n     </g>\n     <g id=\"text_23\">\n      <!-- 600 -->\n      <g transform=\"translate(13.5625 248.055735)scale(0.1 -0.1)\">\n       <defs>\n        <path d=\"M 33.015625 40.375 \nQ 26.375 40.375 22.484375 35.828125 \nQ 18.609375 31.296875 18.609375 23.390625 \nQ 18.609375 15.53125 22.484375 10.953125 \nQ 26.375 6.390625 33.015625 6.390625 \nQ 39.65625 6.390625 43.53125 10.953125 \nQ 47.40625 15.53125 47.40625 23.390625 \nQ 47.40625 31.296875 43.53125 35.828125 \nQ 39.65625 40.375 33.015625 40.375 \nz\nM 52.59375 71.296875 \nL 52.59375 62.3125 \nQ 48.875 64.0625 45.09375 64.984375 \nQ 41.3125 65.921875 37.59375 65.921875 \nQ 27.828125 65.921875 22.671875 59.328125 \nQ 17.53125 52.734375 16.796875 39.40625 \nQ 19.671875 43.65625 24.015625 45.921875 \nQ 28.375 48.1875 33.59375 48.1875 \nQ 44.578125 48.1875 50.953125 41.515625 \nQ 57.328125 34.859375 57.328125 23.390625 \nQ 57.328125 12.15625 50.6875 5.359375 \nQ 44.046875 -1.421875 33.015625 -1.421875 \nQ 20.359375 -1.421875 13.671875 8.265625 \nQ 6.984375 17.96875 6.984375 36.375 \nQ 6.984375 53.65625 15.1875 63.9375 \nQ 23.390625 74.21875 37.203125 74.21875 \nQ 40.921875 74.21875 44.703125 73.484375 \nQ 48.484375 72.75 52.59375 71.296875 \nz\n\" id=\"DejaVuSans-54\"/>\n       </defs>\n       <use xlink:href=\"#DejaVuSans-54\"/>\n       <use x=\"63.623047\" xlink:href=\"#DejaVuSans-48\"/>\n       <use x=\"127.246094\" xlink:href=\"#DejaVuSans-48\"/>\n      </g>\n     </g>\n    </g>\n    <g id=\"ytick_5\">\n     <g id=\"line2d_24\">\n      <g>\n       <use style=\"stroke:#000000;stroke-width:0.8;\" x=\"39.65\" xlink:href=\"#mb30506a10b\" y=\"173.27598\"/>\n      </g>\n     </g>\n     <g id=\"text_24\">\n      <!-- 800 -->\n      <g transform=\"translate(13.5625 177.075199)scale(0.1 -0.1)\">\n       <defs>\n        <path d=\"M 31.78125 34.625 \nQ 24.75 34.625 20.71875 30.859375 \nQ 16.703125 27.09375 16.703125 20.515625 \nQ 16.703125 13.921875 20.71875 10.15625 \nQ 24.75 6.390625 31.78125 6.390625 \nQ 38.8125 6.390625 42.859375 10.171875 \nQ 46.921875 13.96875 46.921875 20.515625 \nQ 46.921875 27.09375 42.890625 30.859375 \nQ 38.875 34.625 31.78125 34.625 \nz\nM 21.921875 38.8125 \nQ 15.578125 40.375 12.03125 44.71875 \nQ 8.5 49.078125 8.5 55.328125 \nQ 8.5 64.0625 14.71875 69.140625 \nQ 20.953125 74.21875 31.78125 74.21875 \nQ 42.671875 74.21875 48.875 69.140625 \nQ 55.078125 64.0625 55.078125 55.328125 \nQ 55.078125 49.078125 51.53125 44.71875 \nQ 48 40.375 41.703125 38.8125 \nQ 48.828125 37.15625 52.796875 32.3125 \nQ 56.78125 27.484375 56.78125 20.515625 \nQ 56.78125 9.90625 50.3125 4.234375 \nQ 43.84375 -1.421875 31.78125 -1.421875 \nQ 19.734375 -1.421875 13.25 4.234375 \nQ 6.78125 9.90625 6.78125 20.515625 \nQ 6.78125 27.484375 10.78125 32.3125 \nQ 14.796875 37.15625 21.921875 38.8125 \nz\nM 18.3125 54.390625 \nQ 18.3125 48.734375 21.84375 45.5625 \nQ 25.390625 42.390625 31.78125 42.390625 \nQ 38.140625 42.390625 41.71875 45.5625 \nQ 45.3125 48.734375 45.3125 54.390625 \nQ 45.3125 60.0625 41.71875 63.234375 \nQ 38.140625 66.40625 31.78125 66.40625 \nQ 25.390625 66.40625 21.84375 63.234375 \nQ 18.3125 60.0625 18.3125 54.390625 \nz\n\" id=\"DejaVuSans-56\"/>\n       </defs>\n       <use xlink:href=\"#DejaVuSans-56\"/>\n       <use x=\"63.623047\" xlink:href=\"#DejaVuSans-48\"/>\n       <use x=\"127.246094\" xlink:href=\"#DejaVuSans-48\"/>\n      </g>\n     </g>\n    </g>\n    <g id=\"ytick_6\">\n     <g id=\"line2d_25\">\n      <g>\n       <use style=\"stroke:#000000;stroke-width:0.8;\" x=\"39.65\" xlink:href=\"#mb30506a10b\" y=\"102.295444\"/>\n      </g>\n     </g>\n     <g id=\"text_25\">\n      <!-- 1000 -->\n      <g transform=\"translate(7.2 106.094663)scale(0.1 -0.1)\">\n       <defs>\n        <path d=\"M 12.40625 8.296875 \nL 28.515625 8.296875 \nL 28.515625 63.921875 \nL 10.984375 60.40625 \nL 10.984375 69.390625 \nL 28.421875 72.90625 \nL 38.28125 72.90625 \nL 38.28125 8.296875 \nL 54.390625 8.296875 \nL 54.390625 0 \nL 12.40625 0 \nz\n\" id=\"DejaVuSans-49\"/>\n       </defs>\n       <use xlink:href=\"#DejaVuSans-49\"/>\n       <use x=\"63.623047\" xlink:href=\"#DejaVuSans-48\"/>\n       <use x=\"127.246094\" xlink:href=\"#DejaVuSans-48\"/>\n       <use x=\"190.869141\" xlink:href=\"#DejaVuSans-48\"/>\n      </g>\n     </g>\n    </g>\n    <g id=\"ytick_7\">\n     <g id=\"line2d_26\">\n      <g>\n       <use style=\"stroke:#000000;stroke-width:0.8;\" x=\"39.65\" xlink:href=\"#mb30506a10b\" y=\"31.314908\"/>\n      </g>\n     </g>\n     <g id=\"text_26\">\n      <!-- 1200 -->\n      <g transform=\"translate(7.2 35.114127)scale(0.1 -0.1)\">\n       <use xlink:href=\"#DejaVuSans-49\"/>\n       <use x=\"63.623047\" xlink:href=\"#DejaVuSans-50\"/>\n       <use x=\"127.246094\" xlink:href=\"#DejaVuSans-48\"/>\n       <use x=\"190.869141\" xlink:href=\"#DejaVuSans-48\"/>\n      </g>\n     </g>\n    </g>\n   </g>\n   <g id=\"line2d_27\">\n    <path clip-path=\"url(#peb10a1eac6)\" d=\"M -0 0 \n\" style=\"fill:none;stroke:#424242;stroke-linecap:square;stroke-width:2.7;\"/>\n   </g>\n   <g id=\"line2d_28\">\n    <path clip-path=\"url(#peb10a1eac6)\" d=\"M -0 0 \n\" style=\"fill:none;stroke:#424242;stroke-linecap:square;stroke-width:2.7;\"/>\n   </g>\n   <g id=\"line2d_29\">\n    <path clip-path=\"url(#peb10a1eac6)\" d=\"M -0 0 \n\" style=\"fill:none;stroke:#424242;stroke-linecap:square;stroke-width:2.7;\"/>\n   </g>\n   <g id=\"line2d_30\">\n    <path clip-path=\"url(#peb10a1eac6)\" d=\"M -0 0 \n\" style=\"fill:none;stroke:#424242;stroke-linecap:square;stroke-width:2.7;\"/>\n   </g>\n   <g id=\"line2d_31\">\n    <path clip-path=\"url(#peb10a1eac6)\" d=\"M -0 0 \n\" style=\"fill:none;stroke:#424242;stroke-linecap:square;stroke-width:2.7;\"/>\n   </g>\n   <g id=\"line2d_32\">\n    <path clip-path=\"url(#peb10a1eac6)\" d=\"M -0 0 \n\" style=\"fill:none;stroke:#424242;stroke-linecap:square;stroke-width:2.7;\"/>\n   </g>\n   <g id=\"line2d_33\">\n    <path clip-path=\"url(#peb10a1eac6)\" d=\"M -0 0 \n\" style=\"fill:none;stroke:#424242;stroke-linecap:square;stroke-width:2.7;\"/>\n   </g>\n   <g id=\"line2d_34\">\n    <path clip-path=\"url(#peb10a1eac6)\" d=\"M -0 0 \n\" style=\"fill:none;stroke:#424242;stroke-linecap:square;stroke-width:2.7;\"/>\n   </g>\n   <g id=\"line2d_35\">\n    <path clip-path=\"url(#peb10a1eac6)\" d=\"M -0 0 \n\" style=\"fill:none;stroke:#424242;stroke-linecap:square;stroke-width:2.7;\"/>\n   </g>\n   <g id=\"line2d_36\">\n    <path clip-path=\"url(#peb10a1eac6)\" d=\"M -0 0 \n\" style=\"fill:none;stroke:#424242;stroke-linecap:square;stroke-width:2.7;\"/>\n   </g>\n   <g id=\"line2d_37\">\n    <path clip-path=\"url(#peb10a1eac6)\" d=\"M -0 0 \n\" style=\"fill:none;stroke:#424242;stroke-linecap:square;stroke-width:2.7;\"/>\n   </g>\n   <g id=\"line2d_38\">\n    <path clip-path=\"url(#peb10a1eac6)\" d=\"M -0 0 \n\" style=\"fill:none;stroke:#424242;stroke-linecap:square;stroke-width:2.7;\"/>\n   </g>\n   <g id=\"line2d_39\">\n    <path clip-path=\"url(#peb10a1eac6)\" d=\"M -0 0 \n\" style=\"fill:none;stroke:#424242;stroke-linecap:square;stroke-width:2.7;\"/>\n   </g>\n   <g id=\"line2d_40\">\n    <path clip-path=\"url(#peb10a1eac6)\" d=\"M -0 0 \n\" style=\"fill:none;stroke:#424242;stroke-linecap:square;stroke-width:2.7;\"/>\n   </g>\n   <g id=\"line2d_41\">\n    <path clip-path=\"url(#peb10a1eac6)\" d=\"M -0 0 \n\" style=\"fill:none;stroke:#424242;stroke-linecap:square;stroke-width:2.7;\"/>\n   </g>\n   <g id=\"line2d_42\">\n    <path clip-path=\"url(#peb10a1eac6)\" d=\"M -0 0 \n\" style=\"fill:none;stroke:#424242;stroke-linecap:square;stroke-width:2.7;\"/>\n   </g>\n   <g id=\"line2d_43\">\n    <path clip-path=\"url(#peb10a1eac6)\" d=\"M -0 0 \n\" style=\"fill:none;stroke:#424242;stroke-linecap:square;stroke-width:2.7;\"/>\n   </g>\n   <g id=\"line2d_44\">\n    <path clip-path=\"url(#peb10a1eac6)\" d=\"M -0 0 \n\" style=\"fill:none;stroke:#424242;stroke-linecap:square;stroke-width:2.7;\"/>\n   </g>\n   <g id=\"line2d_45\">\n    <path clip-path=\"url(#peb10a1eac6)\" d=\"M -0 0 \n\" style=\"fill:none;stroke:#424242;stroke-linecap:square;stroke-width:2.7;\"/>\n   </g>\n   <g id=\"patch_22\">\n    <path d=\"M 39.65 457.198125 \nL 39.65 22.318125 \n\" style=\"fill:none;stroke:#000000;stroke-linecap:square;stroke-linejoin:miter;stroke-width:0.8;\"/>\n   </g>\n   <g id=\"patch_23\">\n    <path d=\"M 1434.65 457.198125 \nL 1434.65 22.318125 \n\" style=\"fill:none;stroke:#000000;stroke-linecap:square;stroke-linejoin:miter;stroke-width:0.8;\"/>\n   </g>\n   <g id=\"patch_24\">\n    <path d=\"M 39.65 457.198125 \nL 1434.65 457.198125 \n\" style=\"fill:none;stroke:#000000;stroke-linecap:square;stroke-linejoin:miter;stroke-width:0.8;\"/>\n   </g>\n   <g id=\"patch_25\">\n    <path d=\"M 39.65 22.318125 \nL 1434.65 22.318125 \n\" style=\"fill:none;stroke:#000000;stroke-linecap:square;stroke-linejoin:miter;stroke-width:0.8;\"/>\n   </g>\n   <g id=\"text_27\">\n    <!-- Missing Values by Feature -->\n    <g transform=\"translate(659.424688 16.318125)scale(0.12 -0.12)\">\n     <defs>\n      <path d=\"M 9.8125 72.90625 \nL 24.515625 72.90625 \nL 43.109375 23.296875 \nL 61.8125 72.90625 \nL 76.515625 72.90625 \nL 76.515625 0 \nL 66.890625 0 \nL 66.890625 64.015625 \nL 48.09375 14.015625 \nL 38.1875 14.015625 \nL 19.390625 64.015625 \nL 19.390625 0 \nL 9.8125 0 \nz\n\" id=\"DejaVuSans-77\"/>\n      <path id=\"DejaVuSans-32\"/>\n      <path d=\"M 28.609375 0 \nL 0.78125 72.90625 \nL 11.078125 72.90625 \nL 34.1875 11.53125 \nL 57.328125 72.90625 \nL 67.578125 72.90625 \nL 39.796875 0 \nz\n\" id=\"DejaVuSans-86\"/>\n      <path d=\"M 48.6875 27.296875 \nQ 48.6875 37.203125 44.609375 42.84375 \nQ 40.53125 48.484375 33.40625 48.484375 \nQ 26.265625 48.484375 22.1875 42.84375 \nQ 18.109375 37.203125 18.109375 27.296875 \nQ 18.109375 17.390625 22.1875 11.75 \nQ 26.265625 6.109375 33.40625 6.109375 \nQ 40.53125 6.109375 44.609375 11.75 \nQ 48.6875 17.390625 48.6875 27.296875 \nz\nM 18.109375 46.390625 \nQ 20.953125 51.265625 25.265625 53.625 \nQ 29.59375 56 35.59375 56 \nQ 45.5625 56 51.78125 48.09375 \nQ 58.015625 40.1875 58.015625 27.296875 \nQ 58.015625 14.40625 51.78125 6.484375 \nQ 45.5625 -1.421875 35.59375 -1.421875 \nQ 29.59375 -1.421875 25.265625 0.953125 \nQ 20.953125 3.328125 18.109375 8.203125 \nL 18.109375 0 \nL 9.078125 0 \nL 9.078125 75.984375 \nL 18.109375 75.984375 \nz\n\" id=\"DejaVuSans-98\"/>\n      <path d=\"M 9.8125 72.90625 \nL 51.703125 72.90625 \nL 51.703125 64.59375 \nL 19.671875 64.59375 \nL 19.671875 43.109375 \nL 48.578125 43.109375 \nL 48.578125 34.8125 \nL 19.671875 34.8125 \nL 19.671875 0 \nL 9.8125 0 \nz\n\" id=\"DejaVuSans-70\"/>\n     </defs>\n     <use xlink:href=\"#DejaVuSans-77\"/>\n     <use x=\"86.279297\" xlink:href=\"#DejaVuSans-105\"/>\n     <use x=\"114.0625\" xlink:href=\"#DejaVuSans-115\"/>\n     <use x=\"166.162109\" xlink:href=\"#DejaVuSans-115\"/>\n     <use x=\"218.261719\" xlink:href=\"#DejaVuSans-105\"/>\n     <use x=\"246.044922\" xlink:href=\"#DejaVuSans-110\"/>\n     <use x=\"309.423828\" xlink:href=\"#DejaVuSans-103\"/>\n     <use x=\"372.900391\" xlink:href=\"#DejaVuSans-32\"/>\n     <use x=\"404.6875\" xlink:href=\"#DejaVuSans-86\"/>\n     <use x=\"465.345703\" xlink:href=\"#DejaVuSans-97\"/>\n     <use x=\"526.625\" xlink:href=\"#DejaVuSans-108\"/>\n     <use x=\"554.408203\" xlink:href=\"#DejaVuSans-117\"/>\n     <use x=\"617.787109\" xlink:href=\"#DejaVuSans-101\"/>\n     <use x=\"679.310547\" xlink:href=\"#DejaVuSans-115\"/>\n     <use x=\"731.410156\" xlink:href=\"#DejaVuSans-32\"/>\n     <use x=\"763.197266\" xlink:href=\"#DejaVuSans-98\"/>\n     <use x=\"826.673828\" xlink:href=\"#DejaVuSans-121\"/>\n     <use x=\"885.853516\" xlink:href=\"#DejaVuSans-32\"/>\n     <use x=\"917.640625\" xlink:href=\"#DejaVuSans-70\"/>\n     <use x=\"969.660156\" xlink:href=\"#DejaVuSans-101\"/>\n     <use x=\"1031.183594\" xlink:href=\"#DejaVuSans-97\"/>\n     <use x=\"1092.462891\" xlink:href=\"#DejaVuSans-116\"/>\n     <use x=\"1131.671875\" xlink:href=\"#DejaVuSans-117\"/>\n     <use x=\"1195.050781\" xlink:href=\"#DejaVuSans-114\"/>\n     <use x=\"1233.914062\" xlink:href=\"#DejaVuSans-101\"/>\n    </g>\n   </g>\n  </g>\n </g>\n <defs>\n  <clipPath id=\"peb10a1eac6\">\n   <rect height=\"434.88\" width=\"1395\" x=\"39.65\" y=\"22.318125\"/>\n  </clipPath>\n </defs>\n</svg>\n",
      "image/png": "[encoded data removed]"
     },
     "metadata": {
      "needs_background": "light"
     }
    }
   ],
   "source": [
    "missings = df.isna().sum()[df.isna().sum() > 0].sort_values(ascending = False)\n",
    "\n",
    "plt.figure(figsize=(25,8))\n",
    "plt.title(\"Missing Values by Feature\")\n",
    "sns.barplot(x = list(missings.index), y = list(missings.values));"
   ]
  },
  {
   "source": [
    "Some of these features being cluttered by this are worrying, especially internet and star rating. We need to see later if we can salvage these. Both are very important. \n",
    "\n",
    "The others, as we will see below, overlap somewhat in functionality, so we can likely work with them despite their shortcomings."
   ],
   "cell_type": "markdown",
   "metadata": {}
  },
  {
   "source": [
    "### 1.4: Misleading Values"
   ],
   "cell_type": "markdown",
   "metadata": {}
  },
  {
   "cell_type": "code",
   "execution_count": 367,
   "metadata": {},
   "outputs": [
    {
     "output_type": "execute_result",
     "data": {
      "text/plain": [
       "                                        additional_info  \\\n",
       "4     Acceptance Rate:100 percent|Response Time:< 6 ...   \n",
       "5     Acceptance Rate:100 percent|Response Time:< 6 ...   \n",
       "6     Acceptance Rate:100 percent|Response Time:< 6 ...   \n",
       "7     Acceptance Rate:100 percent|Response Time:< 6 ...   \n",
       "8     Acceptance Rate:100 percent|Response Time:> 24...   \n",
       "...                                                 ...   \n",
       "1202  ~ All Taxes.~ Complimentary Bed Tea.~ Complime...   \n",
       "1203                                        ~ All Taxes   \n",
       "1204  Kindly Note ~ Hotel doesn't have Restaurants i...   \n",
       "1205  ~ All taxes.~ Complimentary WiFi. And Bed Tea;...   \n",
       "1206                                                NaN   \n",
       "\n",
       "                                              amenities              internet  \\\n",
       "4                                          Newspaper|AC                   NaN   \n",
       "5                      WiFi|Free Breakfast|Newspaper|AC                   NaN   \n",
       "6                                                  WiFi                   NaN   \n",
       "7                                          Newspaper|AC                   NaN   \n",
       "8                                          Newspaper|AC                   NaN   \n",
       "...                                                 ...                   ...   \n",
       "1202  Restaurent | Business Center | Wifi | Swimming...         Free Internet   \n",
       "1203                       Wifi | Laundry | Car Parking         Free Internet   \n",
       "1204                              Laundry | Car Parking  Internet not present   \n",
       "1205  Wifi | Credit Card | Laundry | Free Newspaper ...         Free Internet   \n",
       "1206          Bar/Pub | Wifi | Laundry | Free Newspaper         Free Internet   \n",
       "\n",
       "                                  things_to_do  \\\n",
       "4                                          NaN   \n",
       "5                                          NaN   \n",
       "6                                          NaN   \n",
       "7                                          NaN   \n",
       "8                                          NaN   \n",
       "...                                        ...   \n",
       "1202  Restaurant | Swimming Pool | Health Club   \n",
       "1203                                       NaN   \n",
       "1204                                       NaN   \n",
       "1205                                       NaN   \n",
       "1206                                       Bar   \n",
       "\n",
       "                                         things_to_note  \n",
       "4     Complimentary Breakfast.|Complimentary WiFi.|C...  \n",
       "5     CP - Complementary Breakfast.|MAP - Complement...  \n",
       "6                  All taxes.|Complimentary Break Fast.  \n",
       "7     All taxes.|Complimentary Breakfast Will be Pro...  \n",
       "8     All taxes.|Complimentary Wifi.|Kindly Note:|Ex...  \n",
       "...                                                 ...  \n",
       "1202                                                NaN  \n",
       "1203                                                NaN  \n",
       "1204                                                NaN  \n",
       "1205                                                NaN  \n",
       "1206                                                NaN  \n",
       "\n",
       "[1203 rows x 5 columns]"
      ],
      "text/html": "<div>\n<style scoped>\n    .dataframe tbody tr th:only-of-type {\n        vertical-align: middle;\n    }\n\n    .dataframe tbody tr th {\n        vertical-align: top;\n    }\n\n    .dataframe thead th {\n        text-align: right;\n    }\n</style>\n<table border=\"1\" class=\"dataframe\">\n  <thead>\n    <tr style=\"text-align: right;\">\n      <th></th>\n      <th>additional_info</th>\n      <th>amenities</th>\n      <th>internet</th>\n      <th>things_to_do</th>\n      <th>things_to_note</th>\n    </tr>\n  </thead>\n  <tbody>\n    <tr>\n      <th>4</th>\n      <td>Acceptance Rate:100 percent|Response Time:&lt; 6 ...</td>\n      <td>Newspaper|AC</td>\n      <td>NaN</td>\n      <td>NaN</td>\n      <td>Complimentary Breakfast.|Complimentary WiFi.|C...</td>\n    </tr>\n    <tr>\n      <th>5</th>\n      <td>Acceptance Rate:100 percent|Response Time:&lt; 6 ...</td>\n      <td>WiFi|Free Breakfast|Newspaper|AC</td>\n      <td>NaN</td>\n      <td>NaN</td>\n      <td>CP - Complementary Breakfast.|MAP - Complement...</td>\n    </tr>\n    <tr>\n      <th>6</th>\n      <td>Acceptance Rate:100 percent|Response Time:&lt; 6 ...</td>\n      <td>WiFi</td>\n      <td>NaN</td>\n      <td>NaN</td>\n      <td>All taxes.|Complimentary Break Fast.</td>\n    </tr>\n    <tr>\n      <th>7</th>\n      <td>Acceptance Rate:100 percent|Response Time:&lt; 6 ...</td>\n      <td>Newspaper|AC</td>\n      <td>NaN</td>\n      <td>NaN</td>\n      <td>All taxes.|Complimentary Breakfast Will be Pro...</td>\n    </tr>\n    <tr>\n      <th>8</th>\n      <td>Acceptance Rate:100 percent|Response Time:&gt; 24...</td>\n      <td>Newspaper|AC</td>\n      <td>NaN</td>\n      <td>NaN</td>\n      <td>All taxes.|Complimentary Wifi.|Kindly Note:|Ex...</td>\n    </tr>\n    <tr>\n      <th>...</th>\n      <td>...</td>\n      <td>...</td>\n      <td>...</td>\n      <td>...</td>\n      <td>...</td>\n    </tr>\n    <tr>\n      <th>1202</th>\n      <td>~ All Taxes.~ Complimentary Bed Tea.~ Complime...</td>\n      <td>Restaurent | Business Center | Wifi | Swimming...</td>\n      <td>Free Internet</td>\n      <td>Restaurant | Swimming Pool | Health Club</td>\n      <td>NaN</td>\n    </tr>\n    <tr>\n      <th>1203</th>\n      <td>~ All Taxes</td>\n      <td>Wifi | Laundry | Car Parking</td>\n      <td>Free Internet</td>\n      <td>NaN</td>\n      <td>NaN</td>\n    </tr>\n    <tr>\n      <th>1204</th>\n      <td>Kindly Note ~ Hotel doesn't have Restaurants i...</td>\n      <td>Laundry | Car Parking</td>\n      <td>Internet not present</td>\n      <td>NaN</td>\n      <td>NaN</td>\n    </tr>\n    <tr>\n      <th>1205</th>\n      <td>~ All taxes.~ Complimentary WiFi. And Bed Tea;...</td>\n      <td>Wifi | Credit Card | Laundry | Free Newspaper ...</td>\n      <td>Free Internet</td>\n      <td>NaN</td>\n      <td>NaN</td>\n    </tr>\n    <tr>\n      <th>1206</th>\n      <td>NaN</td>\n      <td>Bar/Pub | Wifi | Laundry | Free Newspaper</td>\n      <td>Free Internet</td>\n      <td>Bar</td>\n      <td>NaN</td>\n    </tr>\n  </tbody>\n</table>\n<p>1203 rows × 5 columns</p>\n</div>"
     },
     "metadata": {},
     "execution_count": 367
    }
   ],
   "source": [
    "df[['additional_info', 'amenities','internet','things_to_do','things_to_note']].iloc[4:,:]"
   ]
  },
  {
   "source": [
    "As you can see above, the internet feature should be binary, but missing values represent a large quantity (over 90%) of values. This is due to the aforementioned split. The attribute's information is displayed elsewhere, depending on the hotel in question. I have found it in all of the above features. \n",
    "\n",
    "I personally recommend that we split these attributes into their own specific binary features. (Similar to a one hot encoding scenario). This is especially the case for the has/has no internet case mentioned previously; we can add a new feature called Wifi, check each observation for a positive identifier, and use that logic to fill in the values for the new attribute. "
   ],
   "cell_type": "markdown",
   "metadata": {}
  },
  {
   "source": [
    "## 2.0: The Brazilian Airbnb Dataset"
   ],
   "cell_type": "markdown",
   "metadata": {}
  },
  {
   "cell_type": "code",
   "execution_count": 368,
   "metadata": {},
   "outputs": [],
   "source": [
    "br = pd.read_csv(\"./data/brazil_listings.csv\")"
   ]
  },
  {
   "source": [
    "### 2.1:  Overview"
   ],
   "cell_type": "markdown",
   "metadata": {}
  },
  {
   "cell_type": "code",
   "execution_count": 369,
   "metadata": {},
   "outputs": [
    {
     "output_type": "stream",
     "name": "stdout",
     "text": [
      "Dataset shape:  (33715, 106) \n\n"
     ]
    },
    {
     "output_type": "execute_result",
     "data": {
      "text/plain": [
       "      id                         listing_url       scrape_id last_scraped  \\\n",
       "0  17878  https://www.airbnb.com/rooms/17878  20191122092441   2019-11-22   \n",
       "1  25026  https://www.airbnb.com/rooms/25026  20191122092441   2019-11-22   \n",
       "2  31560  https://www.airbnb.com/rooms/31560  20191122092441   2019-11-22   \n",
       "3  35636  https://www.airbnb.com/rooms/35636  20191122092441   2019-11-22   \n",
       "4  35764  https://www.airbnb.com/rooms/35764  20191122092441   2019-11-22   \n",
       "\n",
       "                                             name  \\\n",
       "0               Very Nice 2Br - Copacabana - WiFi   \n",
       "1       Beautiful Modern Decorated Studio in Copa   \n",
       "2                NICE & COZY 1BDR - IPANEMA BEACH   \n",
       "3                Cosy flat close to Ipanema beach   \n",
       "4  COPACABANA SEA BREEZE  -  RIO - 20 X Superhost   \n",
       "\n",
       "                                             summary  \\\n",
       "0  Pls note that special rates apply for Carnival...   \n",
       "1  Our apartment is a little gem, everyone loves ...   \n",
       "2  This nice and clean 1 bedroom apartment is loc...   \n",
       "3  This cosy apartment  is just a few steps away ...   \n",
       "4  Our newly renovated studio is located in the b...   \n",
       "\n",
       "                                               space  \\\n",
       "0  - large balcony which looks out on pedestrian ...   \n",
       "1  This newly renovated studio (last renovations ...   \n",
       "2  This nice and clean 1 bedroom apartment is loc...   \n",
       "3  The location is extremely convenient, safe and...   \n",
       "4  FEEL LIKE YOUR HOME LIVING AS \"CARIOCA\" LOCAL ...   \n",
       "\n",
       "                                         description experiences_offered  \\\n",
       "0  Pls note that special rates apply for Carnival...                none   \n",
       "1  Our apartment is a little gem, everyone loves ...                none   \n",
       "2  This nice and clean 1 bedroom apartment is loc...                none   \n",
       "3  This cosy apartment  is just a few steps away ...                none   \n",
       "4  Our newly renovated studio is located in the b...                none   \n",
       "\n",
       "                               neighborhood_overview  ... instant_bookable  \\\n",
       "0  This is the best spot in Rio. Everything happe...  ...                t   \n",
       "1  Copacabana is a lively neighborhood and the ap...  ...                f   \n",
       "2  Die Nachbarschaft von Ipanema ist super lebend...  ...                t   \n",
       "3  The  apartment street is very quiet and safe ....  ...                f   \n",
       "4  Our guests will experience living with a local...  ...                f   \n",
       "\n",
       "  is_business_travel_ready          cancellation_policy  \\\n",
       "0                        f  strict_14_with_grace_period   \n",
       "1                        f  strict_14_with_grace_period   \n",
       "2                        f  strict_14_with_grace_period   \n",
       "3                        f  strict_14_with_grace_period   \n",
       "4                        f  strict_14_with_grace_period   \n",
       "\n",
       "  require_guest_profile_picture require_guest_phone_verification  \\\n",
       "0                             f                                f   \n",
       "1                             t                                t   \n",
       "2                             f                                f   \n",
       "3                             t                                t   \n",
       "4                             f                                t   \n",
       "\n",
       "   calculated_host_listings_count  \\\n",
       "0                               1   \n",
       "1                               3   \n",
       "2                               1   \n",
       "3                               1   \n",
       "4                               1   \n",
       "\n",
       "   calculated_host_listings_count_entire_homes  \\\n",
       "0                                            1   \n",
       "1                                            3   \n",
       "2                                            1   \n",
       "3                                            1   \n",
       "4                                            1   \n",
       "\n",
       "  calculated_host_listings_count_private_rooms  \\\n",
       "0                                            0   \n",
       "1                                            0   \n",
       "2                                            0   \n",
       "3                                            0   \n",
       "4                                            0   \n",
       "\n",
       "   calculated_host_listings_count_shared_rooms  reviews_per_month  \n",
       "0                                            0               2.13  \n",
       "1                                            0               2.04  \n",
       "2                                            0               2.38  \n",
       "3                                            0               2.28  \n",
       "4                                            0               2.84  \n",
       "\n",
       "[5 rows x 106 columns]"
      ],
      "text/html": "<div>\n<style scoped>\n    .dataframe tbody tr th:only-of-type {\n        vertical-align: middle;\n    }\n\n    .dataframe tbody tr th {\n        vertical-align: top;\n    }\n\n    .dataframe thead th {\n        text-align: right;\n    }\n</style>\n<table border=\"1\" class=\"dataframe\">\n  <thead>\n    <tr style=\"text-align: right;\">\n      <th></th>\n      <th>id</th>\n      <th>listing_url</th>\n      <th>scrape_id</th>\n      <th>last_scraped</th>\n      <th>name</th>\n      <th>summary</th>\n      <th>space</th>\n      <th>description</th>\n      <th>experiences_offered</th>\n      <th>neighborhood_overview</th>\n      <th>...</th>\n      <th>instant_bookable</th>\n      <th>is_business_travel_ready</th>\n      <th>cancellation_policy</th>\n      <th>require_guest_profile_picture</th>\n      <th>require_guest_phone_verification</th>\n      <th>calculated_host_listings_count</th>\n      <th>calculated_host_listings_count_entire_homes</th>\n      <th>calculated_host_listings_count_private_rooms</th>\n      <th>calculated_host_listings_count_shared_rooms</th>\n      <th>reviews_per_month</th>\n    </tr>\n  </thead>\n  <tbody>\n    <tr>\n      <th>0</th>\n      <td>17878</td>\n      <td>https://www.airbnb.com/rooms/17878</td>\n      <td>20191122092441</td>\n      <td>2019-11-22</td>\n      <td>Very Nice 2Br - Copacabana - WiFi</td>\n      <td>Pls note that special rates apply for Carnival...</td>\n      <td>- large balcony which looks out on pedestrian ...</td>\n      <td>Pls note that special rates apply for Carnival...</td>\n      <td>none</td>\n      <td>This is the best spot in Rio. Everything happe...</td>\n      <td>...</td>\n      <td>t</td>\n      <td>f</td>\n      <td>strict_14_with_grace_period</td>\n      <td>f</td>\n      <td>f</td>\n      <td>1</td>\n      <td>1</td>\n      <td>0</td>\n      <td>0</td>\n      <td>2.13</td>\n    </tr>\n    <tr>\n      <th>1</th>\n      <td>25026</td>\n      <td>https://www.airbnb.com/rooms/25026</td>\n      <td>20191122092441</td>\n      <td>2019-11-22</td>\n      <td>Beautiful Modern Decorated Studio in Copa</td>\n      <td>Our apartment is a little gem, everyone loves ...</td>\n      <td>This newly renovated studio (last renovations ...</td>\n      <td>Our apartment is a little gem, everyone loves ...</td>\n      <td>none</td>\n      <td>Copacabana is a lively neighborhood and the ap...</td>\n      <td>...</td>\n      <td>f</td>\n      <td>f</td>\n      <td>strict_14_with_grace_period</td>\n      <td>t</td>\n      <td>t</td>\n      <td>3</td>\n      <td>3</td>\n      <td>0</td>\n      <td>0</td>\n      <td>2.04</td>\n    </tr>\n    <tr>\n      <th>2</th>\n      <td>31560</td>\n      <td>https://www.airbnb.com/rooms/31560</td>\n      <td>20191122092441</td>\n      <td>2019-11-22</td>\n      <td>NICE &amp; COZY 1BDR - IPANEMA BEACH</td>\n      <td>This nice and clean 1 bedroom apartment is loc...</td>\n      <td>This nice and clean 1 bedroom apartment is loc...</td>\n      <td>This nice and clean 1 bedroom apartment is loc...</td>\n      <td>none</td>\n      <td>Die Nachbarschaft von Ipanema ist super lebend...</td>\n      <td>...</td>\n      <td>t</td>\n      <td>f</td>\n      <td>strict_14_with_grace_period</td>\n      <td>f</td>\n      <td>f</td>\n      <td>1</td>\n      <td>1</td>\n      <td>0</td>\n      <td>0</td>\n      <td>2.38</td>\n    </tr>\n    <tr>\n      <th>3</th>\n      <td>35636</td>\n      <td>https://www.airbnb.com/rooms/35636</td>\n      <td>20191122092441</td>\n      <td>2019-11-22</td>\n      <td>Cosy flat close to Ipanema beach</td>\n      <td>This cosy apartment  is just a few steps away ...</td>\n      <td>The location is extremely convenient, safe and...</td>\n      <td>This cosy apartment  is just a few steps away ...</td>\n      <td>none</td>\n      <td>The  apartment street is very quiet and safe ....</td>\n      <td>...</td>\n      <td>f</td>\n      <td>f</td>\n      <td>strict_14_with_grace_period</td>\n      <td>t</td>\n      <td>t</td>\n      <td>1</td>\n      <td>1</td>\n      <td>0</td>\n      <td>0</td>\n      <td>2.28</td>\n    </tr>\n    <tr>\n      <th>4</th>\n      <td>35764</td>\n      <td>https://www.airbnb.com/rooms/35764</td>\n      <td>20191122092441</td>\n      <td>2019-11-22</td>\n      <td>COPACABANA SEA BREEZE  -  RIO - 20 X Superhost</td>\n      <td>Our newly renovated studio is located in the b...</td>\n      <td>FEEL LIKE YOUR HOME LIVING AS \"CARIOCA\" LOCAL ...</td>\n      <td>Our newly renovated studio is located in the b...</td>\n      <td>none</td>\n      <td>Our guests will experience living with a local...</td>\n      <td>...</td>\n      <td>f</td>\n      <td>f</td>\n      <td>strict_14_with_grace_period</td>\n      <td>f</td>\n      <td>t</td>\n      <td>1</td>\n      <td>1</td>\n      <td>0</td>\n      <td>0</td>\n      <td>2.84</td>\n    </tr>\n  </tbody>\n</table>\n<p>5 rows × 106 columns</p>\n</div>"
     },
     "metadata": {},
     "execution_count": 369
    }
   ],
   "source": [
    "print('Dataset shape: ',br.shape, '\\n')\n",
    "br.head()"
   ]
  },
  {
   "source": [
    "This dataset seems to be much fatter than our other one (~34000 observations vs. ~1200 observations). There are also far more features here, but many seem ancilliary. "
   ],
   "cell_type": "markdown",
   "metadata": {}
  },
  {
   "source": [
    "### 2.2: Missing Values"
   ],
   "cell_type": "markdown",
   "metadata": {}
  },
  {
   "cell_type": "code",
   "execution_count": 370,
   "metadata": {},
   "outputs": [
    {
     "output_type": "execute_result",
     "data": {
      "text/plain": [
       "686685"
      ]
     },
     "metadata": {},
     "execution_count": 370
    }
   ],
   "source": [
    "br.isna().sum().sum()"
   ]
  },
  {
   "source": [
    "We've got about 700,000 missing values here. Like the prior dataset, these also do not seem to be random. The missing values are primarily concentrated on, thankfully, useless features, but the missing values in the pricing and locale attributes are concerning. "
   ],
   "cell_type": "markdown",
   "metadata": {}
  },
  {
   "cell_type": "code",
   "execution_count": 371,
   "metadata": {},
   "outputs": [
    {
     "output_type": "execute_result",
     "data": {
      "text/plain": [
       "medium_url                      33715\n",
       "host_acceptance_rate            33715\n",
       "jurisdiction_names              33715\n",
       "xl_picture_url                  33715\n",
       "thumbnail_url                   33715\n",
       "neighbourhood_group_cleansed    33715\n",
       "license                         33713\n",
       "square_feet                     33220\n",
       "weekly_price                    31169\n",
       "monthly_price                   30890\n",
       "notes                           22468\n",
       "access                          17683\n",
       "host_about                      17543\n",
       "interaction                     16913\n",
       "house_rules                     16291\n",
       "review_scores_checkin           15441\n",
       "review_scores_accuracy          15440\n",
       "review_scores_location          15438\n",
       "review_scores_value             15437\n",
       "review_scores_cleanliness       15435\n",
       "review_scores_communication     15435\n",
       "review_scores_rating            15422\n",
       "transit                         14976\n",
       "neighborhood_overview           14877\n",
       "security_deposit                14780\n",
       "reviews_per_month               14566\n",
       "first_review                    14566\n",
       "last_review                     14566\n",
       "space                           12959\n",
       "host_neighbourhood              12316\n",
       "host_response_time              12234\n",
       "host_response_rate              12234\n",
       "cleaning_fee                    10984\n",
       "summary                          2054\n",
       "neighbourhood                    1958\n",
       "dtype: int64"
      ]
     },
     "metadata": {},
     "execution_count": 371
    }
   ],
   "source": [
    "br.isna().sum().sort_values(ascending = False).head(35)"
   ]
  },
  {
   "cell_type": "code",
   "execution_count": 372,
   "metadata": {},
   "outputs": [
    {
     "output_type": "display_data",
     "data": {
      "text/plain": "<Figure size 576x576 with 1 Axes>",
      "image/svg+xml": "<?xml version=\"1.0\" encoding=\"utf-8\" standalone=\"no\"?>\n<!DOCTYPE svg PUBLIC \"-//W3C//DTD SVG 1.1//EN\"\n  \"http://www.w3.org/Graphics/SVG/1.1/DTD/svg11.dtd\">\n<!-- Created with matplotlib (https://matplotlib.org/) -->\n<svg height=\"470.277031pt\" version=\"1.1\" viewBox=\"0 0 499.6125 470.277031\" width=\"499.6125pt\" xmlns=\"http://www.w3.org/2000/svg\" xmlns:xlink=\"http://www.w3.org/1999/xlink\">\n <metadata>\n  <rdf:RDF xmlns:cc=\"http://creativecommons.org/ns#\" xmlns:dc=\"http://purl.org/dc/elements/1.1/\" xmlns:rdf=\"http://www.w3.org/1999/02/22-rdf-syntax-ns#\">\n   <cc:Work>\n    <dc:type rdf:resource=\"http://purl.org/dc/dcmitype/StillImage\"/>\n    <dc:date>2021-02-24T15:29:10.331033</dc:date>\n    <dc:format>image/svg+xml</dc:format>\n    <dc:creator>\n     <cc:Agent>\n      <dc:title>Matplotlib v3.3.2, https://matplotlib.org/</dc:title>\n     </cc:Agent>\n    </dc:creator>\n   </cc:Work>\n  </rdf:RDF>\n </metadata>\n <defs>\n  <style type=\"text/css\">*{stroke-linecap:butt;stroke-linejoin:round;}</style>\n </defs>\n <g id=\"figure_1\">\n  <g id=\"patch_1\">\n   <path d=\"M 0 470.277031 \nL 499.6125 470.277031 \nL 499.6125 0 \nL 0 0 \nz\n\" style=\"fill:none;\"/>\n  </g>\n  <g id=\"axes_1\">\n   <g id=\"patch_2\">\n    <path d=\"M 46.0125 457.198125 \nL 492.4125 457.198125 \nL 492.4125 22.318125 \nL 46.0125 22.318125 \nz\n\" style=\"fill:#ffffff;\"/>\n   </g>\n   <g id=\"patch_3\">\n    <path clip-path=\"url(#p70649b7fb5)\" d=\"M 47.10128 457.198125 \nL 55.811524 457.198125 \nL 55.811524 43.026696 \nL 47.10128 43.026696 \nz\n\" style=\"fill:#ea96a3;\"/>\n   </g>\n   <g id=\"patch_4\">\n    <path clip-path=\"url(#p70649b7fb5)\" d=\"M 57.989085 457.198125 \nL 66.699329 457.198125 \nL 66.699329 43.026696 \nL 57.989085 43.026696 \nz\n\" style=\"fill:#ea9797;\"/>\n   </g>\n   <g id=\"patch_5\">\n    <path clip-path=\"url(#p70649b7fb5)\" d=\"M 68.87689 457.198125 \nL 77.587134 457.198125 \nL 77.587134 43.026696 \nL 68.87689 43.026696 \nz\n\" style=\"fill:#e79684;\"/>\n   </g>\n   <g id=\"patch_6\">\n    <path clip-path=\"url(#p70649b7fb5)\" d=\"M 79.764695 457.198125 \nL 88.474939 457.198125 \nL 88.474939 43.026696 \nL 79.764695 43.026696 \nz\n\" style=\"fill:#e49367;\"/>\n   </g>\n   <g id=\"patch_7\">\n    <path clip-path=\"url(#p70649b7fb5)\" d=\"M 90.6525 457.198125 \nL 99.362744 457.198125 \nL 99.362744 43.026696 \nL 90.6525 43.026696 \nz\n\" style=\"fill:#d8944e;\"/>\n   </g>\n   <g id=\"patch_8\">\n    <path clip-path=\"url(#p70649b7fb5)\" d=\"M 101.540305 457.198125 \nL 110.250549 457.198125 \nL 110.250549 43.026696 \nL 101.540305 43.026696 \nz\n\" style=\"fill:#cc974c;\"/>\n   </g>\n   <g id=\"patch_9\">\n    <path clip-path=\"url(#p70649b7fb5)\" d=\"M 112.42811 457.198125 \nL 121.138354 457.198125 \nL 121.138354 43.051265 \nL 112.42811 43.051265 \nz\n\" style=\"fill:#c19a4a;\"/>\n   </g>\n   <g id=\"patch_10\">\n    <path clip-path=\"url(#p70649b7fb5)\" d=\"M 123.315915 457.198125 \nL 132.026159 457.198125 \nL 132.026159 49.107517 \nL 123.315915 49.107517 \nz\n\" style=\"fill:#b79c49;\"/>\n   </g>\n   <g id=\"patch_11\">\n    <path clip-path=\"url(#p70649b7fb5)\" d=\"M 134.20372 457.198125 \nL 142.913963 457.198125 \nL 142.913963 74.302997 \nL 134.20372 74.302997 \nz\n\" style=\"fill:#ad9e47;\"/>\n   </g>\n   <g id=\"patch_12\">\n    <path clip-path=\"url(#p70649b7fb5)\" d=\"M 145.091524 457.198125 \nL 153.801768 457.198125 \nL 153.801768 77.730368 \nL 145.091524 77.730368 \nz\n\" style=\"fill:#a39f46;\"/>\n   </g>\n   <g id=\"patch_13\">\n    <path clip-path=\"url(#p70649b7fb5)\" d=\"M 155.979329 457.198125 \nL 164.689573 457.198125 \nL 164.689573 181.190305 \nL 155.979329 181.190305 \nz\n\" style=\"fill:#9aa146;\"/>\n   </g>\n   <g id=\"patch_14\">\n    <path clip-path=\"url(#p70649b7fb5)\" d=\"M 166.867134 457.198125 \nL 175.577378 457.198125 \nL 175.577378 239.971568 \nL 166.867134 239.971568 \nz\n\" style=\"fill:#90a446;\"/>\n   </g>\n   <g id=\"patch_15\">\n    <path clip-path=\"url(#p70649b7fb5)\" d=\"M 177.754939 457.198125 \nL 186.465183 457.198125 \nL 186.465183 241.691396 \nL 177.754939 241.691396 \nz\n\" style=\"fill:#84a846;\"/>\n   </g>\n   <g id=\"patch_16\">\n    <path clip-path=\"url(#p70649b7fb5)\" d=\"M 188.642744 457.198125 \nL 197.352988 457.198125 \nL 197.352988 249.430622 \nL 188.642744 249.430622 \nz\n\" style=\"fill:#72ab47;\"/>\n   </g>\n   <g id=\"patch_17\">\n    <path clip-path=\"url(#p70649b7fb5)\" d=\"M 199.530549 457.198125 \nL 208.240793 457.198125 \nL 208.240793 257.071572 \nL 199.530549 257.071572 \nz\n\" style=\"fill:#52b047;\"/>\n   </g>\n   <g id=\"patch_18\">\n    <path clip-path=\"url(#p70649b7fb5)\" d=\"M 210.418354 457.198125 \nL 219.128598 457.198125 \nL 219.128598 267.513384 \nL 210.418354 267.513384 \nz\n\" style=\"fill:#48b069;\"/>\n   </g>\n   <g id=\"patch_19\">\n    <path clip-path=\"url(#p70649b7fb5)\" d=\"M 221.306159 457.198125 \nL 230.016402 457.198125 \nL 230.016402 267.525669 \nL 221.306159 267.525669 \nz\n\" style=\"fill:#49ae7d;\"/>\n   </g>\n   <g id=\"patch_20\">\n    <path clip-path=\"url(#p70649b7fb5)\" d=\"M 232.193963 457.198125 \nL 240.904207 457.198125 \nL 240.904207 267.550238 \nL 232.193963 267.550238 \nz\n\" style=\"fill:#4aae8a;\"/>\n   </g>\n   <g id=\"patch_21\">\n    <path clip-path=\"url(#p70649b7fb5)\" d=\"M 243.081768 457.198125 \nL 251.792012 457.198125 \nL 251.792012 267.562522 \nL 243.081768 267.562522 \nz\n\" style=\"fill:#4aad93;\"/>\n   </g>\n   <g id=\"patch_22\">\n    <path clip-path=\"url(#p70649b7fb5)\" d=\"M 253.969573 457.198125 \nL 262.679817 457.198125 \nL 262.679817 267.587091 \nL 253.969573 267.587091 \nz\n\" style=\"fill:#4aac9a;\"/>\n   </g>\n   <g id=\"patch_23\">\n    <path clip-path=\"url(#p70649b7fb5)\" d=\"M 264.857378 457.198125 \nL 273.567622 457.198125 \nL 273.567622 267.587091 \nL 264.857378 267.587091 \nz\n\" style=\"fill:#4baba1;\"/>\n   </g>\n   <g id=\"patch_24\">\n    <path clip-path=\"url(#p70649b7fb5)\" d=\"M 275.745183 457.198125 \nL 284.455427 457.198125 \nL 284.455427 267.74679 \nL 275.745183 267.74679 \nz\n\" style=\"fill:#4baba7;\"/>\n   </g>\n   <g id=\"patch_25\">\n    <path clip-path=\"url(#p70649b7fb5)\" d=\"M 286.632988 457.198125 \nL 295.343232 457.198125 \nL 295.343232 273.22567 \nL 286.632988 273.22567 \nz\n\" style=\"fill:#4cabae;\"/>\n   </g>\n   <g id=\"patch_26\">\n    <path clip-path=\"url(#p70649b7fb5)\" d=\"M 297.520793 457.198125 \nL 306.231037 457.198125 \nL 306.231037 274.441834 \nL 297.520793 274.441834 \nz\n\" style=\"fill:#4eabb5;\"/>\n   </g>\n   <g id=\"patch_27\">\n    <path clip-path=\"url(#p70649b7fb5)\" d=\"M 308.408598 457.198125 \nL 317.118841 457.198125 \nL 317.118841 275.633429 \nL 308.408598 275.633429 \nz\n\" style=\"fill:#4fabbd;\"/>\n   </g>\n   <g id=\"patch_28\">\n    <path clip-path=\"url(#p70649b7fb5)\" d=\"M 319.296402 457.198125 \nL 328.006646 457.198125 \nL 328.006646 278.262309 \nL 319.296402 278.262309 \nz\n\" style=\"fill:#51acc6;\"/>\n   </g>\n   <g id=\"patch_29\">\n    <path clip-path=\"url(#p70649b7fb5)\" d=\"M 330.184207 457.198125 \nL 338.894451 457.198125 \nL 338.894451 278.262309 \nL 330.184207 278.262309 \nz\n\" style=\"fill:#54acd2;\"/>\n   </g>\n   <g id=\"patch_30\">\n    <path clip-path=\"url(#p70649b7fb5)\" d=\"M 341.072012 457.198125 \nL 349.782256 457.198125 \nL 349.782256 278.262309 \nL 341.072012 278.262309 \nz\n\" style=\"fill:#5dade0;\"/>\n   </g>\n   <g id=\"patch_31\">\n    <path clip-path=\"url(#p70649b7fb5)\" d=\"M 351.959817 457.198125 \nL 360.670061 457.198125 \nL 360.670061 298.003477 \nL 351.959817 298.003477 \nz\n\" style=\"fill:#83aee6;\"/>\n   </g>\n   <g id=\"patch_32\">\n    <path clip-path=\"url(#p70649b7fb5)\" d=\"M 362.847622 457.198125 \nL 371.557866 457.198125 \nL 371.557866 305.902402 \nL 362.847622 305.902402 \nz\n\" style=\"fill:#9aade9;\"/>\n   </g>\n   <g id=\"patch_33\">\n    <path clip-path=\"url(#p70649b7fb5)\" d=\"M 373.735427 457.198125 \nL 382.445671 457.198125 \nL 382.445671 306.909729 \nL 373.735427 306.909729 \nz\n\" style=\"fill:#acabeb;\"/>\n   </g>\n   <g id=\"patch_34\">\n    <path clip-path=\"url(#p70649b7fb5)\" d=\"M 384.623232 457.198125 \nL 393.333476 457.198125 \nL 393.333476 306.909729 \nL 384.623232 306.909729 \nz\n\" style=\"fill:#b9a6eb;\"/>\n   </g>\n   <g id=\"patch_35\">\n    <path clip-path=\"url(#p70649b7fb5)\" d=\"M 395.511037 457.198125 \nL 404.22128 457.198125 \nL 404.22128 322.265336 \nL 395.511037 322.265336 \nz\n\" style=\"fill:#c5a1ea;\"/>\n   </g>\n   <g id=\"patch_36\">\n    <path clip-path=\"url(#p70649b7fb5)\" d=\"M 406.398841 457.198125 \nL 415.109085 457.198125 \nL 415.109085 431.965792 \nL 406.398841 431.965792 \nz\n\" style=\"fill:#d09ae9;\"/>\n   </g>\n   <g id=\"patch_37\">\n    <path clip-path=\"url(#p70649b7fb5)\" d=\"M 417.286646 457.198125 \nL 425.99689 457.198125 \nL 425.99689 433.145102 \nL 417.286646 433.145102 \nz\n\" style=\"fill:#dd91e7;\"/>\n   </g>\n   <g id=\"patch_38\">\n    <path clip-path=\"url(#p70649b7fb5)\" d=\"M 428.174451 457.198125 \nL 436.884695 457.198125 \nL 436.884695 436.253077 \nL 428.174451 436.253077 \nz\n\" style=\"fill:#e689e2;\"/>\n   </g>\n   <g id=\"patch_39\">\n    <path clip-path=\"url(#p70649b7fb5)\" d=\"M 439.062256 457.198125 \nL 447.7725 457.198125 \nL 447.7725 445.773553 \nL 439.062256 445.773553 \nz\n\" style=\"fill:#e78dd6;\"/>\n   </g>\n   <g id=\"patch_40\">\n    <path clip-path=\"url(#p70649b7fb5)\" d=\"M 449.950061 457.198125 \nL 458.660305 457.198125 \nL 458.660305 454.827219 \nL 449.950061 454.827219 \nz\n\" style=\"fill:#e88fcb;\"/>\n   </g>\n   <g id=\"patch_41\">\n    <path clip-path=\"url(#p70649b7fb5)\" d=\"M 460.837866 457.198125 \nL 469.54811 457.198125 \nL 469.54811 456.190797 \nL 460.837866 456.190797 \nz\n\" style=\"fill:#e891c2;\"/>\n   </g>\n   <g id=\"patch_42\">\n    <path clip-path=\"url(#p70649b7fb5)\" d=\"M 471.725671 457.198125 \nL 480.435915 457.198125 \nL 480.435915 456.448771 \nL 471.725671 456.448771 \nz\n\" style=\"fill:#e993b8;\"/>\n   </g>\n   <g id=\"patch_43\">\n    <path clip-path=\"url(#p70649b7fb5)\" d=\"M 482.613476 457.198125 \nL 491.32372 457.198125 \nL 491.32372 456.534763 \nL 482.613476 456.534763 \nz\n\" style=\"fill:#e994af;\"/>\n   </g>\n   <g id=\"matplotlib.axis_1\">\n    <g id=\"ytick_1\">\n     <g id=\"line2d_1\">\n      <defs>\n       <path d=\"M 0 0 \nL -3.5 0 \n\" id=\"m50b64b37af\" style=\"stroke:#000000;stroke-width:0.8;\"/>\n      </defs>\n      <g>\n       <use style=\"stroke:#000000;stroke-width:0.8;\" x=\"46.0125\" xlink:href=\"#m50b64b37af\" y=\"457.198125\"/>\n      </g>\n     </g>\n     <g id=\"text_1\">\n      <!-- 0 -->\n      <g transform=\"translate(32.65 460.997344)scale(0.1 -0.1)\">\n       <defs>\n        <path d=\"M 31.78125 66.40625 \nQ 24.171875 66.40625 20.328125 58.90625 \nQ 16.5 51.421875 16.5 36.375 \nQ 16.5 21.390625 20.328125 13.890625 \nQ 24.171875 6.390625 31.78125 6.390625 \nQ 39.453125 6.390625 43.28125 13.890625 \nQ 47.125 21.390625 47.125 36.375 \nQ 47.125 51.421875 43.28125 58.90625 \nQ 39.453125 66.40625 31.78125 66.40625 \nz\nM 31.78125 74.21875 \nQ 44.046875 74.21875 50.515625 64.515625 \nQ 56.984375 54.828125 56.984375 36.375 \nQ 56.984375 17.96875 50.515625 8.265625 \nQ 44.046875 -1.421875 31.78125 -1.421875 \nQ 19.53125 -1.421875 13.0625 8.265625 \nQ 6.59375 17.96875 6.59375 36.375 \nQ 6.59375 54.828125 13.0625 64.515625 \nQ 19.53125 74.21875 31.78125 74.21875 \nz\n\" id=\"DejaVuSans-48\"/>\n       </defs>\n       <use xlink:href=\"#DejaVuSans-48\"/>\n      </g>\n     </g>\n    </g>\n    <g id=\"ytick_2\">\n     <g id=\"line2d_2\">\n      <g>\n       <use style=\"stroke:#000000;stroke-width:0.8;\" x=\"46.0125\" xlink:href=\"#m50b64b37af\" y=\"395.775698\"/>\n      </g>\n     </g>\n     <g id=\"text_2\">\n      <!-- 5000 -->\n      <g transform=\"translate(13.5625 399.574916)scale(0.1 -0.1)\">\n       <defs>\n        <path d=\"M 10.796875 72.90625 \nL 49.515625 72.90625 \nL 49.515625 64.59375 \nL 19.828125 64.59375 \nL 19.828125 46.734375 \nQ 21.96875 47.46875 24.109375 47.828125 \nQ 26.265625 48.1875 28.421875 48.1875 \nQ 40.625 48.1875 47.75 41.5 \nQ 54.890625 34.8125 54.890625 23.390625 \nQ 54.890625 11.625 47.5625 5.09375 \nQ 40.234375 -1.421875 26.90625 -1.421875 \nQ 22.3125 -1.421875 17.546875 -0.640625 \nQ 12.796875 0.140625 7.71875 1.703125 \nL 7.71875 11.625 \nQ 12.109375 9.234375 16.796875 8.0625 \nQ 21.484375 6.890625 26.703125 6.890625 \nQ 35.15625 6.890625 40.078125 11.328125 \nQ 45.015625 15.765625 45.015625 23.390625 \nQ 45.015625 31 40.078125 35.4375 \nQ 35.15625 39.890625 26.703125 39.890625 \nQ 22.75 39.890625 18.8125 39.015625 \nQ 14.890625 38.140625 10.796875 36.28125 \nz\n\" id=\"DejaVuSans-53\"/>\n       </defs>\n       <use xlink:href=\"#DejaVuSans-53\"/>\n       <use x=\"63.623047\" xlink:href=\"#DejaVuSans-48\"/>\n       <use x=\"127.246094\" xlink:href=\"#DejaVuSans-48\"/>\n       <use x=\"190.869141\" xlink:href=\"#DejaVuSans-48\"/>\n      </g>\n     </g>\n    </g>\n    <g id=\"ytick_3\">\n     <g id=\"line2d_3\">\n      <g>\n       <use style=\"stroke:#000000;stroke-width:0.8;\" x=\"46.0125\" xlink:href=\"#m50b64b37af\" y=\"334.35327\"/>\n      </g>\n     </g>\n     <g id=\"text_3\">\n      <!-- 10000 -->\n      <g transform=\"translate(7.2 338.152489)scale(0.1 -0.1)\">\n       <defs>\n        <path d=\"M 12.40625 8.296875 \nL 28.515625 8.296875 \nL 28.515625 63.921875 \nL 10.984375 60.40625 \nL 10.984375 69.390625 \nL 28.421875 72.90625 \nL 38.28125 72.90625 \nL 38.28125 8.296875 \nL 54.390625 8.296875 \nL 54.390625 0 \nL 12.40625 0 \nz\n\" id=\"DejaVuSans-49\"/>\n       </defs>\n       <use xlink:href=\"#DejaVuSans-49\"/>\n       <use x=\"63.623047\" xlink:href=\"#DejaVuSans-48\"/>\n       <use x=\"127.246094\" xlink:href=\"#DejaVuSans-48\"/>\n       <use x=\"190.869141\" xlink:href=\"#DejaVuSans-48\"/>\n       <use x=\"254.492188\" xlink:href=\"#DejaVuSans-48\"/>\n      </g>\n     </g>\n    </g>\n    <g id=\"ytick_4\">\n     <g id=\"line2d_4\">\n      <g>\n       <use style=\"stroke:#000000;stroke-width:0.8;\" x=\"46.0125\" xlink:href=\"#m50b64b37af\" y=\"272.930843\"/>\n      </g>\n     </g>\n     <g id=\"text_4\">\n      <!-- 15000 -->\n      <g transform=\"translate(7.2 276.730061)scale(0.1 -0.1)\">\n       <use xlink:href=\"#DejaVuSans-49\"/>\n       <use x=\"63.623047\" xlink:href=\"#DejaVuSans-53\"/>\n       <use x=\"127.246094\" xlink:href=\"#DejaVuSans-48\"/>\n       <use x=\"190.869141\" xlink:href=\"#DejaVuSans-48\"/>\n       <use x=\"254.492188\" xlink:href=\"#DejaVuSans-48\"/>\n      </g>\n     </g>\n    </g>\n    <g id=\"ytick_5\">\n     <g id=\"line2d_5\">\n      <g>\n       <use style=\"stroke:#000000;stroke-width:0.8;\" x=\"46.0125\" xlink:href=\"#m50b64b37af\" y=\"211.508415\"/>\n      </g>\n     </g>\n     <g id=\"text_5\">\n      <!-- 20000 -->\n      <g transform=\"translate(7.2 215.307634)scale(0.1 -0.1)\">\n       <defs>\n        <path d=\"M 19.1875 8.296875 \nL 53.609375 8.296875 \nL 53.609375 0 \nL 7.328125 0 \nL 7.328125 8.296875 \nQ 12.9375 14.109375 22.625 23.890625 \nQ 32.328125 33.6875 34.8125 36.53125 \nQ 39.546875 41.84375 41.421875 45.53125 \nQ 43.3125 49.21875 43.3125 52.78125 \nQ 43.3125 58.59375 39.234375 62.25 \nQ 35.15625 65.921875 28.609375 65.921875 \nQ 23.96875 65.921875 18.8125 64.3125 \nQ 13.671875 62.703125 7.8125 59.421875 \nL 7.8125 69.390625 \nQ 13.765625 71.78125 18.9375 73 \nQ 24.125 74.21875 28.421875 74.21875 \nQ 39.75 74.21875 46.484375 68.546875 \nQ 53.21875 62.890625 53.21875 53.421875 \nQ 53.21875 48.921875 51.53125 44.890625 \nQ 49.859375 40.875 45.40625 35.40625 \nQ 44.1875 33.984375 37.640625 27.21875 \nQ 31.109375 20.453125 19.1875 8.296875 \nz\n\" id=\"DejaVuSans-50\"/>\n       </defs>\n       <use xlink:href=\"#DejaVuSans-50\"/>\n       <use x=\"63.623047\" xlink:href=\"#DejaVuSans-48\"/>\n       <use x=\"127.246094\" xlink:href=\"#DejaVuSans-48\"/>\n       <use x=\"190.869141\" xlink:href=\"#DejaVuSans-48\"/>\n       <use x=\"254.492188\" xlink:href=\"#DejaVuSans-48\"/>\n      </g>\n     </g>\n    </g>\n    <g id=\"ytick_6\">\n     <g id=\"line2d_6\">\n      <g>\n       <use style=\"stroke:#000000;stroke-width:0.8;\" x=\"46.0125\" xlink:href=\"#m50b64b37af\" y=\"150.085988\"/>\n      </g>\n     </g>\n     <g id=\"text_6\">\n      <!-- 25000 -->\n      <g transform=\"translate(7.2 153.885206)scale(0.1 -0.1)\">\n       <use xlink:href=\"#DejaVuSans-50\"/>\n       <use x=\"63.623047\" xlink:href=\"#DejaVuSans-53\"/>\n       <use x=\"127.246094\" xlink:href=\"#DejaVuSans-48\"/>\n       <use x=\"190.869141\" xlink:href=\"#DejaVuSans-48\"/>\n       <use x=\"254.492188\" xlink:href=\"#DejaVuSans-48\"/>\n      </g>\n     </g>\n    </g>\n    <g id=\"ytick_7\">\n     <g id=\"line2d_7\">\n      <g>\n       <use style=\"stroke:#000000;stroke-width:0.8;\" x=\"46.0125\" xlink:href=\"#m50b64b37af\" y=\"88.66356\"/>\n      </g>\n     </g>\n     <g id=\"text_7\">\n      <!-- 30000 -->\n      <g transform=\"translate(7.2 92.462779)scale(0.1 -0.1)\">\n       <defs>\n        <path d=\"M 40.578125 39.3125 \nQ 47.65625 37.796875 51.625 33 \nQ 55.609375 28.21875 55.609375 21.1875 \nQ 55.609375 10.40625 48.1875 4.484375 \nQ 40.765625 -1.421875 27.09375 -1.421875 \nQ 22.515625 -1.421875 17.65625 -0.515625 \nQ 12.796875 0.390625 7.625 2.203125 \nL 7.625 11.71875 \nQ 11.71875 9.328125 16.59375 8.109375 \nQ 21.484375 6.890625 26.8125 6.890625 \nQ 36.078125 6.890625 40.9375 10.546875 \nQ 45.796875 14.203125 45.796875 21.1875 \nQ 45.796875 27.640625 41.28125 31.265625 \nQ 36.765625 34.90625 28.71875 34.90625 \nL 20.21875 34.90625 \nL 20.21875 43.015625 \nL 29.109375 43.015625 \nQ 36.375 43.015625 40.234375 45.921875 \nQ 44.09375 48.828125 44.09375 54.296875 \nQ 44.09375 59.90625 40.109375 62.90625 \nQ 36.140625 65.921875 28.71875 65.921875 \nQ 24.65625 65.921875 20.015625 65.03125 \nQ 15.375 64.15625 9.8125 62.3125 \nL 9.8125 71.09375 \nQ 15.4375 72.65625 20.34375 73.4375 \nQ 25.25 74.21875 29.59375 74.21875 \nQ 40.828125 74.21875 47.359375 69.109375 \nQ 53.90625 64.015625 53.90625 55.328125 \nQ 53.90625 49.265625 50.4375 45.09375 \nQ 46.96875 40.921875 40.578125 39.3125 \nz\n\" id=\"DejaVuSans-51\"/>\n       </defs>\n       <use xlink:href=\"#DejaVuSans-51\"/>\n       <use x=\"63.623047\" xlink:href=\"#DejaVuSans-48\"/>\n       <use x=\"127.246094\" xlink:href=\"#DejaVuSans-48\"/>\n       <use x=\"190.869141\" xlink:href=\"#DejaVuSans-48\"/>\n       <use x=\"254.492188\" xlink:href=\"#DejaVuSans-48\"/>\n      </g>\n     </g>\n    </g>\n    <g id=\"ytick_8\">\n     <g id=\"line2d_8\">\n      <g>\n       <use style=\"stroke:#000000;stroke-width:0.8;\" x=\"46.0125\" xlink:href=\"#m50b64b37af\" y=\"27.241133\"/>\n      </g>\n     </g>\n     <g id=\"text_8\">\n      <!-- 35000 -->\n      <g transform=\"translate(7.2 31.040351)scale(0.1 -0.1)\">\n       <use xlink:href=\"#DejaVuSans-51\"/>\n       <use x=\"63.623047\" xlink:href=\"#DejaVuSans-53\"/>\n       <use x=\"127.246094\" xlink:href=\"#DejaVuSans-48\"/>\n       <use x=\"190.869141\" xlink:href=\"#DejaVuSans-48\"/>\n       <use x=\"254.492188\" xlink:href=\"#DejaVuSans-48\"/>\n      </g>\n     </g>\n    </g>\n   </g>\n   <g id=\"line2d_9\">\n    <path clip-path=\"url(#p70649b7fb5)\" d=\"M -0 0 \n\" style=\"fill:none;stroke:#424242;stroke-linecap:square;stroke-width:2.7;\"/>\n   </g>\n   <g id=\"line2d_10\">\n    <path clip-path=\"url(#p70649b7fb5)\" d=\"M -0 0 \n\" style=\"fill:none;stroke:#424242;stroke-linecap:square;stroke-width:2.7;\"/>\n   </g>\n   <g id=\"line2d_11\">\n    <path clip-path=\"url(#p70649b7fb5)\" d=\"M -0 0 \n\" style=\"fill:none;stroke:#424242;stroke-linecap:square;stroke-width:2.7;\"/>\n   </g>\n   <g id=\"line2d_12\">\n    <path clip-path=\"url(#p70649b7fb5)\" d=\"M -0 0 \n\" style=\"fill:none;stroke:#424242;stroke-linecap:square;stroke-width:2.7;\"/>\n   </g>\n   <g id=\"line2d_13\">\n    <path clip-path=\"url(#p70649b7fb5)\" d=\"M -0 0 \n\" style=\"fill:none;stroke:#424242;stroke-linecap:square;stroke-width:2.7;\"/>\n   </g>\n   <g id=\"line2d_14\">\n    <path clip-path=\"url(#p70649b7fb5)\" d=\"M -0 0 \n\" style=\"fill:none;stroke:#424242;stroke-linecap:square;stroke-width:2.7;\"/>\n   </g>\n   <g id=\"line2d_15\">\n    <path clip-path=\"url(#p70649b7fb5)\" d=\"M -0 0 \n\" style=\"fill:none;stroke:#424242;stroke-linecap:square;stroke-width:2.7;\"/>\n   </g>\n   <g id=\"line2d_16\">\n    <path clip-path=\"url(#p70649b7fb5)\" d=\"M -0 0 \n\" style=\"fill:none;stroke:#424242;stroke-linecap:square;stroke-width:2.7;\"/>\n   </g>\n   <g id=\"line2d_17\">\n    <path clip-path=\"url(#p70649b7fb5)\" d=\"M -0 0 \n\" style=\"fill:none;stroke:#424242;stroke-linecap:square;stroke-width:2.7;\"/>\n   </g>\n   <g id=\"line2d_18\">\n    <path clip-path=\"url(#p70649b7fb5)\" d=\"M -0 0 \n\" style=\"fill:none;stroke:#424242;stroke-linecap:square;stroke-width:2.7;\"/>\n   </g>\n   <g id=\"line2d_19\">\n    <path clip-path=\"url(#p70649b7fb5)\" d=\"M -0 0 \n\" style=\"fill:none;stroke:#424242;stroke-linecap:square;stroke-width:2.7;\"/>\n   </g>\n   <g id=\"line2d_20\">\n    <path clip-path=\"url(#p70649b7fb5)\" d=\"M -0 0 \n\" style=\"fill:none;stroke:#424242;stroke-linecap:square;stroke-width:2.7;\"/>\n   </g>\n   <g id=\"line2d_21\">\n    <path clip-path=\"url(#p70649b7fb5)\" d=\"M -0 0 \n\" style=\"fill:none;stroke:#424242;stroke-linecap:square;stroke-width:2.7;\"/>\n   </g>\n   <g id=\"line2d_22\">\n    <path clip-path=\"url(#p70649b7fb5)\" d=\"M -0 0 \n\" style=\"fill:none;stroke:#424242;stroke-linecap:square;stroke-width:2.7;\"/>\n   </g>\n   <g id=\"line2d_23\">\n    <path clip-path=\"url(#p70649b7fb5)\" d=\"M -0 0 \n\" style=\"fill:none;stroke:#424242;stroke-linecap:square;stroke-width:2.7;\"/>\n   </g>\n   <g id=\"line2d_24\">\n    <path clip-path=\"url(#p70649b7fb5)\" d=\"M -0 0 \n\" style=\"fill:none;stroke:#424242;stroke-linecap:square;stroke-width:2.7;\"/>\n   </g>\n   <g id=\"line2d_25\">\n    <path clip-path=\"url(#p70649b7fb5)\" d=\"M -0 0 \n\" style=\"fill:none;stroke:#424242;stroke-linecap:square;stroke-width:2.7;\"/>\n   </g>\n   <g id=\"line2d_26\">\n    <path clip-path=\"url(#p70649b7fb5)\" d=\"M -0 0 \n\" style=\"fill:none;stroke:#424242;stroke-linecap:square;stroke-width:2.7;\"/>\n   </g>\n   <g id=\"line2d_27\">\n    <path clip-path=\"url(#p70649b7fb5)\" d=\"M -0 0 \n\" style=\"fill:none;stroke:#424242;stroke-linecap:square;stroke-width:2.7;\"/>\n   </g>\n   <g id=\"line2d_28\">\n    <path clip-path=\"url(#p70649b7fb5)\" d=\"M -0 0 \n\" style=\"fill:none;stroke:#424242;stroke-linecap:square;stroke-width:2.7;\"/>\n   </g>\n   <g id=\"line2d_29\">\n    <path clip-path=\"url(#p70649b7fb5)\" d=\"M -0 0 \n\" style=\"fill:none;stroke:#424242;stroke-linecap:square;stroke-width:2.7;\"/>\n   </g>\n   <g id=\"line2d_30\">\n    <path clip-path=\"url(#p70649b7fb5)\" d=\"M -0 0 \n\" style=\"fill:none;stroke:#424242;stroke-linecap:square;stroke-width:2.7;\"/>\n   </g>\n   <g id=\"line2d_31\">\n    <path clip-path=\"url(#p70649b7fb5)\" d=\"M -0 0 \n\" style=\"fill:none;stroke:#424242;stroke-linecap:square;stroke-width:2.7;\"/>\n   </g>\n   <g id=\"line2d_32\">\n    <path clip-path=\"url(#p70649b7fb5)\" d=\"M -0 0 \n\" style=\"fill:none;stroke:#424242;stroke-linecap:square;stroke-width:2.7;\"/>\n   </g>\n   <g id=\"line2d_33\">\n    <path clip-path=\"url(#p70649b7fb5)\" d=\"M -0 0 \n\" style=\"fill:none;stroke:#424242;stroke-linecap:square;stroke-width:2.7;\"/>\n   </g>\n   <g id=\"line2d_34\">\n    <path clip-path=\"url(#p70649b7fb5)\" d=\"M -0 0 \n\" style=\"fill:none;stroke:#424242;stroke-linecap:square;stroke-width:2.7;\"/>\n   </g>\n   <g id=\"line2d_35\">\n    <path clip-path=\"url(#p70649b7fb5)\" d=\"M -0 0 \n\" style=\"fill:none;stroke:#424242;stroke-linecap:square;stroke-width:2.7;\"/>\n   </g>\n   <g id=\"line2d_36\">\n    <path clip-path=\"url(#p70649b7fb5)\" d=\"M -0 0 \n\" style=\"fill:none;stroke:#424242;stroke-linecap:square;stroke-width:2.7;\"/>\n   </g>\n   <g id=\"line2d_37\">\n    <path clip-path=\"url(#p70649b7fb5)\" d=\"M -0 0 \n\" style=\"fill:none;stroke:#424242;stroke-linecap:square;stroke-width:2.7;\"/>\n   </g>\n   <g id=\"line2d_38\">\n    <path clip-path=\"url(#p70649b7fb5)\" d=\"M -0 0 \n\" style=\"fill:none;stroke:#424242;stroke-linecap:square;stroke-width:2.7;\"/>\n   </g>\n   <g id=\"line2d_39\">\n    <path clip-path=\"url(#p70649b7fb5)\" d=\"M -0 0 \n\" style=\"fill:none;stroke:#424242;stroke-linecap:square;stroke-width:2.7;\"/>\n   </g>\n   <g id=\"line2d_40\">\n    <path clip-path=\"url(#p70649b7fb5)\" d=\"M -0 0 \n\" style=\"fill:none;stroke:#424242;stroke-linecap:square;stroke-width:2.7;\"/>\n   </g>\n   <g id=\"line2d_41\">\n    <path clip-path=\"url(#p70649b7fb5)\" d=\"M -0 0 \n\" style=\"fill:none;stroke:#424242;stroke-linecap:square;stroke-width:2.7;\"/>\n   </g>\n   <g id=\"line2d_42\">\n    <path clip-path=\"url(#p70649b7fb5)\" d=\"M -0 0 \n\" style=\"fill:none;stroke:#424242;stroke-linecap:square;stroke-width:2.7;\"/>\n   </g>\n   <g id=\"line2d_43\">\n    <path clip-path=\"url(#p70649b7fb5)\" d=\"M -0 0 \n\" style=\"fill:none;stroke:#424242;stroke-linecap:square;stroke-width:2.7;\"/>\n   </g>\n   <g id=\"line2d_44\">\n    <path clip-path=\"url(#p70649b7fb5)\" d=\"M -0 0 \n\" style=\"fill:none;stroke:#424242;stroke-linecap:square;stroke-width:2.7;\"/>\n   </g>\n   <g id=\"line2d_45\">\n    <path clip-path=\"url(#p70649b7fb5)\" d=\"M -0 0 \n\" style=\"fill:none;stroke:#424242;stroke-linecap:square;stroke-width:2.7;\"/>\n   </g>\n   <g id=\"line2d_46\">\n    <path clip-path=\"url(#p70649b7fb5)\" d=\"M -0 0 \n\" style=\"fill:none;stroke:#424242;stroke-linecap:square;stroke-width:2.7;\"/>\n   </g>\n   <g id=\"line2d_47\">\n    <path clip-path=\"url(#p70649b7fb5)\" d=\"M -0 0 \n\" style=\"fill:none;stroke:#424242;stroke-linecap:square;stroke-width:2.7;\"/>\n   </g>\n   <g id=\"line2d_48\">\n    <path clip-path=\"url(#p70649b7fb5)\" d=\"M -0 0 \n\" style=\"fill:none;stroke:#424242;stroke-linecap:square;stroke-width:2.7;\"/>\n   </g>\n   <g id=\"line2d_49\">\n    <path clip-path=\"url(#p70649b7fb5)\" d=\"M -0 0 \n\" style=\"fill:none;stroke:#424242;stroke-linecap:square;stroke-width:2.7;\"/>\n   </g>\n   <g id=\"patch_44\">\n    <path d=\"M 46.0125 457.198125 \nL 46.0125 22.318125 \n\" style=\"fill:none;stroke:#000000;stroke-linecap:square;stroke-linejoin:miter;stroke-width:0.8;\"/>\n   </g>\n   <g id=\"patch_45\">\n    <path d=\"M 492.4125 457.198125 \nL 492.4125 22.318125 \n\" style=\"fill:none;stroke:#000000;stroke-linecap:square;stroke-linejoin:miter;stroke-width:0.8;\"/>\n   </g>\n   <g id=\"patch_46\">\n    <path d=\"M 46.0125 457.198125 \nL 492.4125 457.198125 \n\" style=\"fill:none;stroke:#000000;stroke-linecap:square;stroke-linejoin:miter;stroke-width:0.8;\"/>\n   </g>\n   <g id=\"patch_47\">\n    <path d=\"M 46.0125 22.318125 \nL 492.4125 22.318125 \n\" style=\"fill:none;stroke:#000000;stroke-linecap:square;stroke-linejoin:miter;stroke-width:0.8;\"/>\n   </g>\n   <g id=\"text_9\">\n    <!-- Missing Values By Feature -->\n    <g transform=\"translate(191.179688 16.318125)scale(0.12 -0.12)\">\n     <defs>\n      <path d=\"M 9.8125 72.90625 \nL 24.515625 72.90625 \nL 43.109375 23.296875 \nL 61.8125 72.90625 \nL 76.515625 72.90625 \nL 76.515625 0 \nL 66.890625 0 \nL 66.890625 64.015625 \nL 48.09375 14.015625 \nL 38.1875 14.015625 \nL 19.390625 64.015625 \nL 19.390625 0 \nL 9.8125 0 \nz\n\" id=\"DejaVuSans-77\"/>\n      <path d=\"M 9.421875 54.6875 \nL 18.40625 54.6875 \nL 18.40625 0 \nL 9.421875 0 \nz\nM 9.421875 75.984375 \nL 18.40625 75.984375 \nL 18.40625 64.59375 \nL 9.421875 64.59375 \nz\n\" id=\"DejaVuSans-105\"/>\n      <path d=\"M 44.28125 53.078125 \nL 44.28125 44.578125 \nQ 40.484375 46.53125 36.375 47.5 \nQ 32.28125 48.484375 27.875 48.484375 \nQ 21.1875 48.484375 17.84375 46.4375 \nQ 14.5 44.390625 14.5 40.28125 \nQ 14.5 37.15625 16.890625 35.375 \nQ 19.28125 33.59375 26.515625 31.984375 \nL 29.59375 31.296875 \nQ 39.15625 29.25 43.1875 25.515625 \nQ 47.21875 21.78125 47.21875 15.09375 \nQ 47.21875 7.46875 41.1875 3.015625 \nQ 35.15625 -1.421875 24.609375 -1.421875 \nQ 20.21875 -1.421875 15.453125 -0.5625 \nQ 10.6875 0.296875 5.421875 2 \nL 5.421875 11.28125 \nQ 10.40625 8.6875 15.234375 7.390625 \nQ 20.0625 6.109375 24.8125 6.109375 \nQ 31.15625 6.109375 34.5625 8.28125 \nQ 37.984375 10.453125 37.984375 14.40625 \nQ 37.984375 18.0625 35.515625 20.015625 \nQ 33.0625 21.96875 24.703125 23.78125 \nL 21.578125 24.515625 \nQ 13.234375 26.265625 9.515625 29.90625 \nQ 5.8125 33.546875 5.8125 39.890625 \nQ 5.8125 47.609375 11.28125 51.796875 \nQ 16.75 56 26.8125 56 \nQ 31.78125 56 36.171875 55.265625 \nQ 40.578125 54.546875 44.28125 53.078125 \nz\n\" id=\"DejaVuSans-115\"/>\n      <path d=\"M 54.890625 33.015625 \nL 54.890625 0 \nL 45.90625 0 \nL 45.90625 32.71875 \nQ 45.90625 40.484375 42.875 44.328125 \nQ 39.84375 48.1875 33.796875 48.1875 \nQ 26.515625 48.1875 22.3125 43.546875 \nQ 18.109375 38.921875 18.109375 30.90625 \nL 18.109375 0 \nL 9.078125 0 \nL 9.078125 54.6875 \nL 18.109375 54.6875 \nL 18.109375 46.1875 \nQ 21.34375 51.125 25.703125 53.5625 \nQ 30.078125 56 35.796875 56 \nQ 45.21875 56 50.046875 50.171875 \nQ 54.890625 44.34375 54.890625 33.015625 \nz\n\" id=\"DejaVuSans-110\"/>\n      <path d=\"M 45.40625 27.984375 \nQ 45.40625 37.75 41.375 43.109375 \nQ 37.359375 48.484375 30.078125 48.484375 \nQ 22.859375 48.484375 18.828125 43.109375 \nQ 14.796875 37.75 14.796875 27.984375 \nQ 14.796875 18.265625 18.828125 12.890625 \nQ 22.859375 7.515625 30.078125 7.515625 \nQ 37.359375 7.515625 41.375 12.890625 \nQ 45.40625 18.265625 45.40625 27.984375 \nz\nM 54.390625 6.78125 \nQ 54.390625 -7.171875 48.1875 -13.984375 \nQ 42 -20.796875 29.203125 -20.796875 \nQ 24.46875 -20.796875 20.265625 -20.09375 \nQ 16.0625 -19.390625 12.109375 -17.921875 \nL 12.109375 -9.1875 \nQ 16.0625 -11.328125 19.921875 -12.34375 \nQ 23.78125 -13.375 27.78125 -13.375 \nQ 36.625 -13.375 41.015625 -8.765625 \nQ 45.40625 -4.15625 45.40625 5.171875 \nL 45.40625 9.625 \nQ 42.625 4.78125 38.28125 2.390625 \nQ 33.9375 0 27.875 0 \nQ 17.828125 0 11.671875 7.65625 \nQ 5.515625 15.328125 5.515625 27.984375 \nQ 5.515625 40.671875 11.671875 48.328125 \nQ 17.828125 56 27.875 56 \nQ 33.9375 56 38.28125 53.609375 \nQ 42.625 51.21875 45.40625 46.390625 \nL 45.40625 54.6875 \nL 54.390625 54.6875 \nz\n\" id=\"DejaVuSans-103\"/>\n      <path id=\"DejaVuSans-32\"/>\n      <path d=\"M 28.609375 0 \nL 0.78125 72.90625 \nL 11.078125 72.90625 \nL 34.1875 11.53125 \nL 57.328125 72.90625 \nL 67.578125 72.90625 \nL 39.796875 0 \nz\n\" id=\"DejaVuSans-86\"/>\n      <path d=\"M 34.28125 27.484375 \nQ 23.390625 27.484375 19.1875 25 \nQ 14.984375 22.515625 14.984375 16.5 \nQ 14.984375 11.71875 18.140625 8.90625 \nQ 21.296875 6.109375 26.703125 6.109375 \nQ 34.1875 6.109375 38.703125 11.40625 \nQ 43.21875 16.703125 43.21875 25.484375 \nL 43.21875 27.484375 \nz\nM 52.203125 31.203125 \nL 52.203125 0 \nL 43.21875 0 \nL 43.21875 8.296875 \nQ 40.140625 3.328125 35.546875 0.953125 \nQ 30.953125 -1.421875 24.3125 -1.421875 \nQ 15.921875 -1.421875 10.953125 3.296875 \nQ 6 8.015625 6 15.921875 \nQ 6 25.140625 12.171875 29.828125 \nQ 18.359375 34.515625 30.609375 34.515625 \nL 43.21875 34.515625 \nL 43.21875 35.40625 \nQ 43.21875 41.609375 39.140625 45 \nQ 35.0625 48.390625 27.6875 48.390625 \nQ 23 48.390625 18.546875 47.265625 \nQ 14.109375 46.140625 10.015625 43.890625 \nL 10.015625 52.203125 \nQ 14.9375 54.109375 19.578125 55.046875 \nQ 24.21875 56 28.609375 56 \nQ 40.484375 56 46.34375 49.84375 \nQ 52.203125 43.703125 52.203125 31.203125 \nz\n\" id=\"DejaVuSans-97\"/>\n      <path d=\"M 9.421875 75.984375 \nL 18.40625 75.984375 \nL 18.40625 0 \nL 9.421875 0 \nz\n\" id=\"DejaVuSans-108\"/>\n      <path d=\"M 8.5 21.578125 \nL 8.5 54.6875 \nL 17.484375 54.6875 \nL 17.484375 21.921875 \nQ 17.484375 14.15625 20.5 10.265625 \nQ 23.53125 6.390625 29.59375 6.390625 \nQ 36.859375 6.390625 41.078125 11.03125 \nQ 45.3125 15.671875 45.3125 23.6875 \nL 45.3125 54.6875 \nL 54.296875 54.6875 \nL 54.296875 0 \nL 45.3125 0 \nL 45.3125 8.40625 \nQ 42.046875 3.421875 37.71875 1 \nQ 33.40625 -1.421875 27.6875 -1.421875 \nQ 18.265625 -1.421875 13.375 4.4375 \nQ 8.5 10.296875 8.5 21.578125 \nz\nM 31.109375 56 \nz\n\" id=\"DejaVuSans-117\"/>\n      <path d=\"M 56.203125 29.59375 \nL 56.203125 25.203125 \nL 14.890625 25.203125 \nQ 15.484375 15.921875 20.484375 11.0625 \nQ 25.484375 6.203125 34.421875 6.203125 \nQ 39.59375 6.203125 44.453125 7.46875 \nQ 49.3125 8.734375 54.109375 11.28125 \nL 54.109375 2.78125 \nQ 49.265625 0.734375 44.1875 -0.34375 \nQ 39.109375 -1.421875 33.890625 -1.421875 \nQ 20.796875 -1.421875 13.15625 6.1875 \nQ 5.515625 13.8125 5.515625 26.8125 \nQ 5.515625 40.234375 12.765625 48.109375 \nQ 20.015625 56 32.328125 56 \nQ 43.359375 56 49.78125 48.890625 \nQ 56.203125 41.796875 56.203125 29.59375 \nz\nM 47.21875 32.234375 \nQ 47.125 39.59375 43.09375 43.984375 \nQ 39.0625 48.390625 32.421875 48.390625 \nQ 24.90625 48.390625 20.390625 44.140625 \nQ 15.875 39.890625 15.1875 32.171875 \nz\n\" id=\"DejaVuSans-101\"/>\n      <path d=\"M 19.671875 34.8125 \nL 19.671875 8.109375 \nL 35.5 8.109375 \nQ 43.453125 8.109375 47.28125 11.40625 \nQ 51.125 14.703125 51.125 21.484375 \nQ 51.125 28.328125 47.28125 31.5625 \nQ 43.453125 34.8125 35.5 34.8125 \nz\nM 19.671875 64.796875 \nL 19.671875 42.828125 \nL 34.28125 42.828125 \nQ 41.5 42.828125 45.03125 45.53125 \nQ 48.578125 48.25 48.578125 53.8125 \nQ 48.578125 59.328125 45.03125 62.0625 \nQ 41.5 64.796875 34.28125 64.796875 \nz\nM 9.8125 72.90625 \nL 35.015625 72.90625 \nQ 46.296875 72.90625 52.390625 68.21875 \nQ 58.5 63.53125 58.5 54.890625 \nQ 58.5 48.1875 55.375 44.234375 \nQ 52.25 40.28125 46.1875 39.3125 \nQ 53.46875 37.75 57.5 32.78125 \nQ 61.53125 27.828125 61.53125 20.40625 \nQ 61.53125 10.640625 54.890625 5.3125 \nQ 48.25 0 35.984375 0 \nL 9.8125 0 \nz\n\" id=\"DejaVuSans-66\"/>\n      <path d=\"M 32.171875 -5.078125 \nQ 28.375 -14.84375 24.75 -17.8125 \nQ 21.140625 -20.796875 15.09375 -20.796875 \nL 7.90625 -20.796875 \nL 7.90625 -13.28125 \nL 13.1875 -13.28125 \nQ 16.890625 -13.28125 18.9375 -11.515625 \nQ 21 -9.765625 23.484375 -3.21875 \nL 25.09375 0.875 \nL 2.984375 54.6875 \nL 12.5 54.6875 \nL 29.59375 11.921875 \nL 46.6875 54.6875 \nL 56.203125 54.6875 \nz\n\" id=\"DejaVuSans-121\"/>\n      <path d=\"M 9.8125 72.90625 \nL 51.703125 72.90625 \nL 51.703125 64.59375 \nL 19.671875 64.59375 \nL 19.671875 43.109375 \nL 48.578125 43.109375 \nL 48.578125 34.8125 \nL 19.671875 34.8125 \nL 19.671875 0 \nL 9.8125 0 \nz\n\" id=\"DejaVuSans-70\"/>\n      <path d=\"M 18.3125 70.21875 \nL 18.3125 54.6875 \nL 36.8125 54.6875 \nL 36.8125 47.703125 \nL 18.3125 47.703125 \nL 18.3125 18.015625 \nQ 18.3125 11.328125 20.140625 9.421875 \nQ 21.96875 7.515625 27.59375 7.515625 \nL 36.8125 7.515625 \nL 36.8125 0 \nL 27.59375 0 \nQ 17.1875 0 13.234375 3.875 \nQ 9.28125 7.765625 9.28125 18.015625 \nL 9.28125 47.703125 \nL 2.6875 47.703125 \nL 2.6875 54.6875 \nL 9.28125 54.6875 \nL 9.28125 70.21875 \nz\n\" id=\"DejaVuSans-116\"/>\n      <path d=\"M 41.109375 46.296875 \nQ 39.59375 47.171875 37.8125 47.578125 \nQ 36.03125 48 33.890625 48 \nQ 26.265625 48 22.1875 43.046875 \nQ 18.109375 38.09375 18.109375 28.8125 \nL 18.109375 0 \nL 9.078125 0 \nL 9.078125 54.6875 \nL 18.109375 54.6875 \nL 18.109375 46.1875 \nQ 20.953125 51.171875 25.484375 53.578125 \nQ 30.03125 56 36.53125 56 \nQ 37.453125 56 38.578125 55.875 \nQ 39.703125 55.765625 41.0625 55.515625 \nz\n\" id=\"DejaVuSans-114\"/>\n     </defs>\n     <use xlink:href=\"#DejaVuSans-77\"/>\n     <use x=\"86.279297\" xlink:href=\"#DejaVuSans-105\"/>\n     <use x=\"114.0625\" xlink:href=\"#DejaVuSans-115\"/>\n     <use x=\"166.162109\" xlink:href=\"#DejaVuSans-115\"/>\n     <use x=\"218.261719\" xlink:href=\"#DejaVuSans-105\"/>\n     <use x=\"246.044922\" xlink:href=\"#DejaVuSans-110\"/>\n     <use x=\"309.423828\" xlink:href=\"#DejaVuSans-103\"/>\n     <use x=\"372.900391\" xlink:href=\"#DejaVuSans-32\"/>\n     <use x=\"404.6875\" xlink:href=\"#DejaVuSans-86\"/>\n     <use x=\"465.345703\" xlink:href=\"#DejaVuSans-97\"/>\n     <use x=\"526.625\" xlink:href=\"#DejaVuSans-108\"/>\n     <use x=\"554.408203\" xlink:href=\"#DejaVuSans-117\"/>\n     <use x=\"617.787109\" xlink:href=\"#DejaVuSans-101\"/>\n     <use x=\"679.310547\" xlink:href=\"#DejaVuSans-115\"/>\n     <use x=\"731.410156\" xlink:href=\"#DejaVuSans-32\"/>\n     <use x=\"763.197266\" xlink:href=\"#DejaVuSans-66\"/>\n     <use x=\"831.800781\" xlink:href=\"#DejaVuSans-121\"/>\n     <use x=\"890.980469\" xlink:href=\"#DejaVuSans-32\"/>\n     <use x=\"922.767578\" xlink:href=\"#DejaVuSans-70\"/>\n     <use x=\"974.787109\" xlink:href=\"#DejaVuSans-101\"/>\n     <use x=\"1036.310547\" xlink:href=\"#DejaVuSans-97\"/>\n     <use x=\"1097.589844\" xlink:href=\"#DejaVuSans-116\"/>\n     <use x=\"1136.798828\" xlink:href=\"#DejaVuSans-117\"/>\n     <use x=\"1200.177734\" xlink:href=\"#DejaVuSans-114\"/>\n     <use x=\"1239.041016\" xlink:href=\"#DejaVuSans-101\"/>\n    </g>\n   </g>\n  </g>\n </g>\n <defs>\n  <clipPath id=\"p70649b7fb5\">\n   <rect height=\"434.88\" width=\"446.4\" x=\"46.0125\" y=\"22.318125\"/>\n  </clipPath>\n </defs>\n</svg>\n",
      "image/png": "[encoded data removed]"
     },
     "metadata": {
      "needs_background": "light"
     }
    }
   ],
   "source": [
    "missings = br.isna().sum()[br.isna().sum() > 50].sort_values(ascending = False)\n",
    "\n",
    "plt.figure(figsize=(8,8))\n",
    "figure = sns.barplot(x = missings.index, y = missings.values)\n",
    "x_axis = figure.axes.get_xaxis()\n",
    "x_axis.set_visible(False)\n",
    "plt.title(\"Missing Values By Feature\");"
   ]
  },
  {
   "source": [
    "We have a dataset where missing value counts are shared across features, meaning that they are not random. They are also plentiful; I hid the feature names, normally on the x axis, because it would be illegible due to the sheer number and overlap of names."
   ],
   "cell_type": "markdown",
   "metadata": {}
  },
  {
   "source": [
    "## 3.0: Cleaning the Two Datasets"
   ],
   "cell_type": "markdown",
   "metadata": {}
  },
  {
   "source": [
    "### 3.1: Choosing Features"
   ],
   "cell_type": "markdown",
   "metadata": {}
  },
  {
   "cell_type": "code",
   "execution_count": 373,
   "metadata": {},
   "outputs": [],
   "source": [
    "## Remove features from Indian dataset that don't add information for comparison purposes\n",
    "df.drop(['description','highlight_value','image_count','image_urls','property_id','qts','pageurl', 'query_time_stamp','similar_hotel','property_address','search_term','landmark','city','latitude','longitude','property_name','check_in_date', 'check_out_date','crawl_date'], axis = 1, inplace = True)\n",
    "\n",
    "## Reduce Brazilian dataset to features that match those of the Indian dataset\n",
    "br = br[['country','property_type','room_type','accommodates','amenities','price','review_scores_rating']]"
   ]
  },
  {
   "source": [
    "I found features that provided the greatest amount of overlap between the two datasets, provided of course that they were not standins for the country label. For example, the 'crawl_date' attributes in both sets allow you to easy distinguish between the two because one took place in 2016 and the other 2019. Additionally, that feature provides little to no informational value."
   ],
   "cell_type": "markdown",
   "metadata": {}
  },
  {
   "cell_type": "code",
   "execution_count": 374,
   "metadata": {},
   "outputs": [
    {
     "output_type": "stream",
     "name": "stdout",
     "text": [
      "Indian Stayzilla.com Dataset \n\n"
     ]
    },
    {
     "output_type": "execute_result",
     "data": {
      "text/plain": [
       "                                     additional_info  \\\n",
       "0  Acceptance Rate:100 percent|Response Time:< 6 ...   \n",
       "1  Acceptance Rate:100 percent|Response Time:< 6 ...   \n",
       "2  Acceptance Rate:100 percent|Response Time:< 6 ...   \n",
       "3  Acceptance Rate:100 percent|Response Time:< 6 ...   \n",
       "4  Acceptance Rate:100 percent|Response Time:< 6 ...   \n",
       "\n",
       "                                     amenities country  hotel_star_rating  \\\n",
       "0                                    Newspaper   India                NaN   \n",
       "1                                   Parking|AC   India                NaN   \n",
       "2                     Pickup & Drop|Parking|AC   India                NaN   \n",
       "3  WiFi|Newspaper|Pickup & Drop|Gym|Parking|AC   India                NaN   \n",
       "4                                 Newspaper|AC   India                NaN   \n",
       "\n",
       "  internet        occupancy property_type               room_price  \\\n",
       "0      NaN  3 Adults 2 Kids        Resort  3167per night incl. tax   \n",
       "1      NaN  2 Adults 2 Kids         Hotel   815per night incl. tax   \n",
       "2      NaN  2 Adults 2 Kids         Hotel  1624per night incl. tax   \n",
       "3      NaN   1 Adult 2 Kids         Hotel  3509per night incl. tax   \n",
       "4      NaN  2 Adults 2 Kids         Hotel  5802per night incl. tax   \n",
       "\n",
       "             room_types service_value things_to_do  \\\n",
       "0         3 Bedded Room  Not Verified          NaN   \n",
       "1  Double Non-A/C Rooms  Not Verified          NaN   \n",
       "2      Deluxe AC Double  Not Verified          NaN   \n",
       "3    Premium Single A/c  Not Verified          NaN   \n",
       "4      Deluxe AC Double  Not Verified          NaN   \n",
       "\n",
       "                                      things_to_note  \n",
       "0  All taxes.|Complimentary Breakfast, Lunch and ...  \n",
       "1  Kindly Note:|This Tariff is not applicable for...  \n",
       "2                      All taxes.|Complimentary Tea.  \n",
       "3  All taxes|Complimentary Breakfast|Kindly Note:...  \n",
       "4  Complimentary Breakfast.|Complimentary WiFi.|C...  "
      ],
      "text/html": "<div>\n<style scoped>\n    .dataframe tbody tr th:only-of-type {\n        vertical-align: middle;\n    }\n\n    .dataframe tbody tr th {\n        vertical-align: top;\n    }\n\n    .dataframe thead th {\n        text-align: right;\n    }\n</style>\n<table border=\"1\" class=\"dataframe\">\n  <thead>\n    <tr style=\"text-align: right;\">\n      <th></th>\n      <th>additional_info</th>\n      <th>amenities</th>\n      <th>country</th>\n      <th>hotel_star_rating</th>\n      <th>internet</th>\n      <th>occupancy</th>\n      <th>property_type</th>\n      <th>room_price</th>\n      <th>room_types</th>\n      <th>service_value</th>\n      <th>things_to_do</th>\n      <th>things_to_note</th>\n    </tr>\n  </thead>\n  <tbody>\n    <tr>\n      <th>0</th>\n      <td>Acceptance Rate:100 percent|Response Time:&lt; 6 ...</td>\n      <td>Newspaper</td>\n      <td>India</td>\n      <td>NaN</td>\n      <td>NaN</td>\n      <td>3 Adults 2 Kids</td>\n      <td>Resort</td>\n      <td>3167per night incl. tax</td>\n      <td>3 Bedded Room</td>\n      <td>Not Verified</td>\n      <td>NaN</td>\n      <td>All taxes.|Complimentary Breakfast, Lunch and ...</td>\n    </tr>\n    <tr>\n      <th>1</th>\n      <td>Acceptance Rate:100 percent|Response Time:&lt; 6 ...</td>\n      <td>Parking|AC</td>\n      <td>India</td>\n      <td>NaN</td>\n      <td>NaN</td>\n      <td>2 Adults 2 Kids</td>\n      <td>Hotel</td>\n      <td>815per night incl. tax</td>\n      <td>Double Non-A/C Rooms</td>\n      <td>Not Verified</td>\n      <td>NaN</td>\n      <td>Kindly Note:|This Tariff is not applicable for...</td>\n    </tr>\n    <tr>\n      <th>2</th>\n      <td>Acceptance Rate:100 percent|Response Time:&lt; 6 ...</td>\n      <td>Pickup &amp; Drop|Parking|AC</td>\n      <td>India</td>\n      <td>NaN</td>\n      <td>NaN</td>\n      <td>2 Adults 2 Kids</td>\n      <td>Hotel</td>\n      <td>1624per night incl. tax</td>\n      <td>Deluxe AC Double</td>\n      <td>Not Verified</td>\n      <td>NaN</td>\n      <td>All taxes.|Complimentary Tea.</td>\n    </tr>\n    <tr>\n      <th>3</th>\n      <td>Acceptance Rate:100 percent|Response Time:&lt; 6 ...</td>\n      <td>WiFi|Newspaper|Pickup &amp; Drop|Gym|Parking|AC</td>\n      <td>India</td>\n      <td>NaN</td>\n      <td>NaN</td>\n      <td>1 Adult 2 Kids</td>\n      <td>Hotel</td>\n      <td>3509per night incl. tax</td>\n      <td>Premium Single A/c</td>\n      <td>Not Verified</td>\n      <td>NaN</td>\n      <td>All taxes|Complimentary Breakfast|Kindly Note:...</td>\n    </tr>\n    <tr>\n      <th>4</th>\n      <td>Acceptance Rate:100 percent|Response Time:&lt; 6 ...</td>\n      <td>Newspaper|AC</td>\n      <td>India</td>\n      <td>NaN</td>\n      <td>NaN</td>\n      <td>2 Adults 2 Kids</td>\n      <td>Hotel</td>\n      <td>5802per night incl. tax</td>\n      <td>Deluxe AC Double</td>\n      <td>Not Verified</td>\n      <td>NaN</td>\n      <td>Complimentary Breakfast.|Complimentary WiFi.|C...</td>\n    </tr>\n  </tbody>\n</table>\n</div>"
     },
     "metadata": {},
     "execution_count": 374
    }
   ],
   "source": [
    "print('Indian Stayzilla.com Dataset', '\\n')\n",
    "df.head()"
   ]
  },
  {
   "cell_type": "code",
   "execution_count": 375,
   "metadata": {},
   "outputs": [
    {
     "output_type": "stream",
     "name": "stdout",
     "text": [
      "Brazilian Airbnb Dataset \n\n"
     ]
    },
    {
     "output_type": "execute_result",
     "data": {
      "text/plain": [
       "  country property_type        room_type  accommodates  \\\n",
       "0  Brazil   Condominium  Entire home/apt             5   \n",
       "1  Brazil     Apartment  Entire home/apt             2   \n",
       "2  Brazil     Apartment  Entire home/apt             3   \n",
       "3  Brazil     Apartment  Entire home/apt             3   \n",
       "4  Brazil          Loft  Entire home/apt             2   \n",
       "\n",
       "                                           amenities    price  \\\n",
       "0  {TV,\"Cable TV\",Internet,Wifi,\"Air conditioning...  $332.00   \n",
       "1  {TV,\"Cable TV\",Internet,Wifi,\"Air conditioning...  $160.00   \n",
       "2  {TV,\"Cable TV\",Internet,Wifi,\"Air conditioning...  $273.00   \n",
       "3  {TV,\"Cable TV\",Internet,Wifi,\"Air conditioning...  $378.00   \n",
       "4  {TV,\"Cable TV\",Wifi,\"Air conditioning\",Kitchen...  $130.00   \n",
       "\n",
       "   review_scores_rating  \n",
       "0                  93.0  \n",
       "1                  94.0  \n",
       "2                  96.0  \n",
       "3                  94.0  \n",
       "4                  98.0  "
      ],
      "text/html": "<div>\n<style scoped>\n    .dataframe tbody tr th:only-of-type {\n        vertical-align: middle;\n    }\n\n    .dataframe tbody tr th {\n        vertical-align: top;\n    }\n\n    .dataframe thead th {\n        text-align: right;\n    }\n</style>\n<table border=\"1\" class=\"dataframe\">\n  <thead>\n    <tr style=\"text-align: right;\">\n      <th></th>\n      <th>country</th>\n      <th>property_type</th>\n      <th>room_type</th>\n      <th>accommodates</th>\n      <th>amenities</th>\n      <th>price</th>\n      <th>review_scores_rating</th>\n    </tr>\n  </thead>\n  <tbody>\n    <tr>\n      <th>0</th>\n      <td>Brazil</td>\n      <td>Condominium</td>\n      <td>Entire home/apt</td>\n      <td>5</td>\n      <td>{TV,\"Cable TV\",Internet,Wifi,\"Air conditioning...</td>\n      <td>$332.00</td>\n      <td>93.0</td>\n    </tr>\n    <tr>\n      <th>1</th>\n      <td>Brazil</td>\n      <td>Apartment</td>\n      <td>Entire home/apt</td>\n      <td>2</td>\n      <td>{TV,\"Cable TV\",Internet,Wifi,\"Air conditioning...</td>\n      <td>$160.00</td>\n      <td>94.0</td>\n    </tr>\n    <tr>\n      <th>2</th>\n      <td>Brazil</td>\n      <td>Apartment</td>\n      <td>Entire home/apt</td>\n      <td>3</td>\n      <td>{TV,\"Cable TV\",Internet,Wifi,\"Air conditioning...</td>\n      <td>$273.00</td>\n      <td>96.0</td>\n    </tr>\n    <tr>\n      <th>3</th>\n      <td>Brazil</td>\n      <td>Apartment</td>\n      <td>Entire home/apt</td>\n      <td>3</td>\n      <td>{TV,\"Cable TV\",Internet,Wifi,\"Air conditioning...</td>\n      <td>$378.00</td>\n      <td>94.0</td>\n    </tr>\n    <tr>\n      <th>4</th>\n      <td>Brazil</td>\n      <td>Loft</td>\n      <td>Entire home/apt</td>\n      <td>2</td>\n      <td>{TV,\"Cable TV\",Wifi,\"Air conditioning\",Kitchen...</td>\n      <td>$130.00</td>\n      <td>98.0</td>\n    </tr>\n  </tbody>\n</table>\n</div>"
     },
     "metadata": {},
     "execution_count": 375
    }
   ],
   "source": [
    "print('Brazilian Airbnb Dataset', '\\n')\n",
    "br.head()"
   ]
  },
  {
   "source": [
    "So this is what we have starting out. Now we need to shape each of these features so that they are aligned and comparable"
   ],
   "cell_type": "markdown",
   "metadata": {}
  },
  {
   "source": [
    "### 3.2: Fixing the Country, Price, and Rating Problems"
   ],
   "cell_type": "markdown",
   "metadata": {}
  },
  {
   "cell_type": "code",
   "execution_count": 376,
   "metadata": {},
   "outputs": [
    {
     "output_type": "execute_result",
     "data": {
      "text/plain": [
       "  country               room_price  hotel_star_rating country    price  \\\n",
       "0   India  3167per night incl. tax                NaN  Brazil  $332.00   \n",
       "1   India   815per night incl. tax                NaN  Brazil  $160.00   \n",
       "2   India  1624per night incl. tax                NaN  Brazil  $273.00   \n",
       "3   India  3509per night incl. tax                NaN  Brazil  $378.00   \n",
       "4   India  5802per night incl. tax                NaN  Brazil  $130.00   \n",
       "\n",
       "   review_scores_rating  \n",
       "0                  93.0  \n",
       "1                  94.0  \n",
       "2                  96.0  \n",
       "3                  94.0  \n",
       "4                  98.0  "
      ],
      "text/html": "<div>\n<style scoped>\n    .dataframe tbody tr th:only-of-type {\n        vertical-align: middle;\n    }\n\n    .dataframe tbody tr th {\n        vertical-align: top;\n    }\n\n    .dataframe thead th {\n        text-align: right;\n    }\n</style>\n<table border=\"1\" class=\"dataframe\">\n  <thead>\n    <tr style=\"text-align: right;\">\n      <th></th>\n      <th>country</th>\n      <th>room_price</th>\n      <th>hotel_star_rating</th>\n      <th>country</th>\n      <th>price</th>\n      <th>review_scores_rating</th>\n    </tr>\n  </thead>\n  <tbody>\n    <tr>\n      <th>0</th>\n      <td>India</td>\n      <td>3167per night incl. tax</td>\n      <td>NaN</td>\n      <td>Brazil</td>\n      <td>$332.00</td>\n      <td>93.0</td>\n    </tr>\n    <tr>\n      <th>1</th>\n      <td>India</td>\n      <td>815per night incl. tax</td>\n      <td>NaN</td>\n      <td>Brazil</td>\n      <td>$160.00</td>\n      <td>94.0</td>\n    </tr>\n    <tr>\n      <th>2</th>\n      <td>India</td>\n      <td>1624per night incl. tax</td>\n      <td>NaN</td>\n      <td>Brazil</td>\n      <td>$273.00</td>\n      <td>96.0</td>\n    </tr>\n    <tr>\n      <th>3</th>\n      <td>India</td>\n      <td>3509per night incl. tax</td>\n      <td>NaN</td>\n      <td>Brazil</td>\n      <td>$378.00</td>\n      <td>94.0</td>\n    </tr>\n    <tr>\n      <th>4</th>\n      <td>India</td>\n      <td>5802per night incl. tax</td>\n      <td>NaN</td>\n      <td>Brazil</td>\n      <td>$130.00</td>\n      <td>98.0</td>\n    </tr>\n  </tbody>\n</table>\n</div>"
     },
     "metadata": {},
     "execution_count": 376
    }
   ],
   "source": [
    "pd.concat((df[['country','room_price','hotel_star_rating']], br[['country','price','review_scores_rating']]), axis = 1).head()"
   ]
  },
  {
   "source": [
    "I added the country, price, and rating features from both datasets for comparison. For the most part, they suffer from similar problems. The country attributes should be uniform, as in there should be only one label per set; this currently is not the case, but it will be. "
   ],
   "cell_type": "markdown",
   "metadata": {}
  },
  {
   "source": [
    "### 3.2.1: Country"
   ],
   "cell_type": "markdown",
   "metadata": {}
  },
  {
   "cell_type": "code",
   "execution_count": 377,
   "metadata": {},
   "outputs": [
    {
     "output_type": "execute_result",
     "data": {
      "text/plain": [
       "['India', nan]"
      ]
     },
     "metadata": {},
     "execution_count": 377
    }
   ],
   "source": [
    "list(df['country'].unique())"
   ]
  },
  {
   "source": [
    "In the Stayzilla dataset, we have missing values. Normally I would be hesitant to fill in missing values for a dataset that has not been split yet, but this is the planned target feature of a soon-to-be-merged dataset. The original Stayzilla dataset, we know, sits entirely within India, so, I feel comfortable with filling them in as Indian. "
   ],
   "cell_type": "markdown",
   "metadata": {}
  },
  {
   "cell_type": "code",
   "execution_count": 378,
   "metadata": {},
   "outputs": [
    {
     "output_type": "execute_result",
     "data": {
      "text/plain": [
       "['Brazil', 'Dominica']"
      ]
     },
     "metadata": {},
     "execution_count": 378
    }
   ],
   "source": [
    "list(br['country'].unique())"
   ]
  },
  {
   "cell_type": "code",
   "execution_count": 379,
   "metadata": {},
   "outputs": [
    {
     "output_type": "execute_result",
     "data": {
      "text/plain": [
       "        country property_type        room_type  accommodates  \\\n",
       "25786  Dominica   Condominium  Entire home/apt             6   \n",
       "\n",
       "                                               amenities    price  \\\n",
       "25786  {TV,Wifi,\"Air conditioning\",Pool,Kitchen,\"Free...  $756.00   \n",
       "\n",
       "       review_scores_rating  \n",
       "25786                   NaN  "
      ],
      "text/html": "<div>\n<style scoped>\n    .dataframe tbody tr th:only-of-type {\n        vertical-align: middle;\n    }\n\n    .dataframe tbody tr th {\n        vertical-align: top;\n    }\n\n    .dataframe thead th {\n        text-align: right;\n    }\n</style>\n<table border=\"1\" class=\"dataframe\">\n  <thead>\n    <tr style=\"text-align: right;\">\n      <th></th>\n      <th>country</th>\n      <th>property_type</th>\n      <th>room_type</th>\n      <th>accommodates</th>\n      <th>amenities</th>\n      <th>price</th>\n      <th>review_scores_rating</th>\n    </tr>\n  </thead>\n  <tbody>\n    <tr>\n      <th>25786</th>\n      <td>Dominica</td>\n      <td>Condominium</td>\n      <td>Entire home/apt</td>\n      <td>6</td>\n      <td>{TV,Wifi,\"Air conditioning\",Pool,Kitchen,\"Free...</td>\n      <td>$756.00</td>\n      <td>NaN</td>\n    </tr>\n  </tbody>\n</table>\n</div>"
     },
     "metadata": {},
     "execution_count": 379
    }
   ],
   "source": [
    "br[br['country'] == 'Dominica']"
   ]
  },
  {
   "source": [
    "Strangely the Brazilian Dataset has a posting from the Dominican Republic. We'll create a list of problematic observations for removal, add this value, and then purge our respective datasets of them before merging. "
   ],
   "cell_type": "markdown",
   "metadata": {}
  },
  {
   "cell_type": "code",
   "execution_count": 380,
   "metadata": {},
   "outputs": [],
   "source": [
    "outlier = 25786\n",
    "\n",
    "df['country'] = 'India'\n",
    "br['country'] = 'Brazil'"
   ]
  },
  {
   "source": [
    "Easy start; now both labels are uniform across their respective datasets."
   ],
   "cell_type": "markdown",
   "metadata": {}
  },
  {
   "source": [
    "### 3.2.2: Room Price"
   ],
   "cell_type": "markdown",
   "metadata": {}
  },
  {
   "cell_type": "code",
   "execution_count": 381,
   "metadata": {},
   "outputs": [
    {
     "output_type": "execute_result",
     "data": {
      "text/plain": [
       "                room_price    price\n",
       "0  3167per night incl. tax  $332.00\n",
       "1   815per night incl. tax  $160.00\n",
       "2  1624per night incl. tax  $273.00\n",
       "3  3509per night incl. tax  $378.00\n",
       "4  5802per night incl. tax  $130.00"
      ],
      "text/html": "<div>\n<style scoped>\n    .dataframe tbody tr th:only-of-type {\n        vertical-align: middle;\n    }\n\n    .dataframe tbody tr th {\n        vertical-align: top;\n    }\n\n    .dataframe thead th {\n        text-align: right;\n    }\n</style>\n<table border=\"1\" class=\"dataframe\">\n  <thead>\n    <tr style=\"text-align: right;\">\n      <th></th>\n      <th>room_price</th>\n      <th>price</th>\n    </tr>\n  </thead>\n  <tbody>\n    <tr>\n      <th>0</th>\n      <td>3167per night incl. tax</td>\n      <td>$332.00</td>\n    </tr>\n    <tr>\n      <th>1</th>\n      <td>815per night incl. tax</td>\n      <td>$160.00</td>\n    </tr>\n    <tr>\n      <th>2</th>\n      <td>1624per night incl. tax</td>\n      <td>$273.00</td>\n    </tr>\n    <tr>\n      <th>3</th>\n      <td>3509per night incl. tax</td>\n      <td>$378.00</td>\n    </tr>\n    <tr>\n      <th>4</th>\n      <td>5802per night incl. tax</td>\n      <td>$130.00</td>\n    </tr>\n  </tbody>\n</table>\n</div>"
     },
     "metadata": {},
     "execution_count": 381
    }
   ],
   "source": [
    "pd.concat((df['room_price'], br['price']), axis = 1).head()"
   ]
  },
  {
   "source": [
    "The prices are shown as strings and need to be converted into floating point numbers. Additionally, we are working with different currencies: the Indian rupee on the left and the Brazilian real on the right (the dollar sign threw me off at the start). We need to solve both of these problems."
   ],
   "cell_type": "markdown",
   "metadata": {}
  },
  {
   "cell_type": "code",
   "execution_count": 382,
   "metadata": {},
   "outputs": [],
   "source": [
    "# India - room price - convert to integer after dropping string segments\n",
    "df['room_price'] = pd.to_numeric(df['room_price'].str.replace('p.*', '', regex = True))\n",
    "\n",
    "# Brazil - price - convert into integer\n",
    "br['price'] = pd.to_numeric(br['price'].str.replace('$','').str.replace(',',''))\n",
    "\n",
    "exchange_rate = 13.5\n",
    "br['price'] = br['price'] * exchange_rate"
   ]
  },
  {
   "cell_type": "code",
   "execution_count": 383,
   "metadata": {},
   "outputs": [
    {
     "output_type": "execute_result",
     "data": {
      "text/plain": [
       "   room_price   price\n",
       "0      3167.0  4482.0\n",
       "1       815.0  2160.0\n",
       "2      1624.0  3685.5\n",
       "3      3509.0  5103.0\n",
       "4      5802.0  1755.0"
      ],
      "text/html": "<div>\n<style scoped>\n    .dataframe tbody tr th:only-of-type {\n        vertical-align: middle;\n    }\n\n    .dataframe tbody tr th {\n        vertical-align: top;\n    }\n\n    .dataframe thead th {\n        text-align: right;\n    }\n</style>\n<table border=\"1\" class=\"dataframe\">\n  <thead>\n    <tr style=\"text-align: right;\">\n      <th></th>\n      <th>room_price</th>\n      <th>price</th>\n    </tr>\n  </thead>\n  <tbody>\n    <tr>\n      <th>0</th>\n      <td>3167.0</td>\n      <td>4482.0</td>\n    </tr>\n    <tr>\n      <th>1</th>\n      <td>815.0</td>\n      <td>2160.0</td>\n    </tr>\n    <tr>\n      <th>2</th>\n      <td>1624.0</td>\n      <td>3685.5</td>\n    </tr>\n    <tr>\n      <th>3</th>\n      <td>3509.0</td>\n      <td>5103.0</td>\n    </tr>\n    <tr>\n      <th>4</th>\n      <td>5802.0</td>\n      <td>1755.0</td>\n    </tr>\n  </tbody>\n</table>\n</div>"
     },
     "metadata": {},
     "execution_count": 383
    }
   ],
   "source": [
    "pd.concat((df['room_price'], br['price']), axis = 1).head()"
   ]
  },
  {
   "source": [
    "As you can see, both of these numbers are now floating point values. I converted the Brazilian real into the Indian rupee using the nominal exchange rate between the two currencies. \n",
    "\n",
    "Now I can say that the first observation in the Brazilian dataset has a higher daily price than the first observation in the Indian dataset."
   ],
   "cell_type": "markdown",
   "metadata": {}
  },
  {
   "source": [
    "### 3.2.3: Ratings"
   ],
   "cell_type": "markdown",
   "metadata": {}
  },
  {
   "source": [
    "Lastly, the come to the star rating scores. In the EDA, I mentioned I was worried about this feature in the Indian dataset due to the number of missing values it has. The Brazilian Airbnb set has a few missing values but no real issues besides that. Whether or not either could be used depends entirely on the Indian set."
   ],
   "cell_type": "markdown",
   "metadata": {}
  },
  {
   "cell_type": "code",
   "execution_count": 384,
   "metadata": {},
   "outputs": [
    {
     "output_type": "stream",
     "name": "stdout",
     "text": [
      "-1.0    1139\n 0.0      46\n 3.0      16\n 4.0       3\n 2.0       2\n 1.0       1\nName: hotel_star_rating, dtype: int64\n"
     ]
    }
   ],
   "source": [
    "print(df['hotel_star_rating'].fillna(-1).value_counts())\n",
    "\n",
    "df.drop('hotel_star_rating', axis = 1, inplace = True)\n",
    "br.drop('review_scores_rating', axis = 1, inplace = True)"
   ]
  },
  {
   "source": [
    "It cannot; more than 1100 of the values are missing (shown as -1 in this case). Remember that this is out of a total of little more than 1200 records, so the vast majority of the feature is missing. Sadly, this also means that the Brazilian Airbnb's ratings features are also surplus. "
   ],
   "cell_type": "markdown",
   "metadata": {}
  },
  {
   "source": [
    "### 3.3: Occupancy"
   ],
   "cell_type": "markdown",
   "metadata": {}
  },
  {
   "cell_type": "code",
   "execution_count": 385,
   "metadata": {},
   "outputs": [
    {
     "output_type": "execute_result",
     "data": {
      "text/plain": [
       "         occupancy  accommodates\n",
       "0  3 Adults 2 Kids             5\n",
       "1  2 Adults 2 Kids             2\n",
       "2  2 Adults 2 Kids             3\n",
       "3   1 Adult 2 Kids             3\n",
       "4  2 Adults 2 Kids             2"
      ],
      "text/html": "<div>\n<style scoped>\n    .dataframe tbody tr th:only-of-type {\n        vertical-align: middle;\n    }\n\n    .dataframe tbody tr th {\n        vertical-align: top;\n    }\n\n    .dataframe thead th {\n        text-align: right;\n    }\n</style>\n<table border=\"1\" class=\"dataframe\">\n  <thead>\n    <tr style=\"text-align: right;\">\n      <th></th>\n      <th>occupancy</th>\n      <th>accommodates</th>\n    </tr>\n  </thead>\n  <tbody>\n    <tr>\n      <th>0</th>\n      <td>3 Adults 2 Kids</td>\n      <td>5</td>\n    </tr>\n    <tr>\n      <th>1</th>\n      <td>2 Adults 2 Kids</td>\n      <td>2</td>\n    </tr>\n    <tr>\n      <th>2</th>\n      <td>2 Adults 2 Kids</td>\n      <td>3</td>\n    </tr>\n    <tr>\n      <th>3</th>\n      <td>1 Adult 2 Kids</td>\n      <td>3</td>\n    </tr>\n    <tr>\n      <th>4</th>\n      <td>2 Adults 2 Kids</td>\n      <td>2</td>\n    </tr>\n  </tbody>\n</table>\n</div>"
     },
     "metadata": {},
     "execution_count": 385
    }
   ],
   "source": [
    "pd.concat((df['occupancy'],br['accommodates']), axis = 1, names = ['India', 'Brazil']).head()"
   ]
  },
  {
   "source": [
    "Next up is the occupancy feature. To align these two, we need to convert the first into an integer value (the sum of the two mentioned in the string)."
   ],
   "cell_type": "markdown",
   "metadata": {}
  },
  {
   "cell_type": "code",
   "execution_count": 386,
   "metadata": {},
   "outputs": [],
   "source": [
    "# split occupancy and then add back together as integers\n",
    "df['occupancy'].fillna('0 0', inplace = True)\n",
    "df['occupancy'] = df['occupancy'].str.replace('\\D|/w', '', regex = True)\n",
    "\n",
    "\n",
    "df['accommodates'] = df.occupancy.apply(lambda row_val: (int(row_val[0]) + int(row_val[1])))\n",
    "br['accommodates'] = pd.to_numeric(br['accommodates'])\n",
    "\n",
    "df = df.drop(['occupancy'], axis = 1)\n",
    "df['accommodates'].replace(0, np.nan, inplace = True)"
   ]
  },
  {
   "cell_type": "code",
   "execution_count": 387,
   "metadata": {},
   "outputs": [
    {
     "output_type": "execute_result",
     "data": {
      "text/plain": [
       "   accommodates  accommodates\n",
       "0           5.0             5\n",
       "1           4.0             2\n",
       "2           4.0             3\n",
       "3           3.0             3\n",
       "4           4.0             2"
      ],
      "text/html": "<div>\n<style scoped>\n    .dataframe tbody tr th:only-of-type {\n        vertical-align: middle;\n    }\n\n    .dataframe tbody tr th {\n        vertical-align: top;\n    }\n\n    .dataframe thead th {\n        text-align: right;\n    }\n</style>\n<table border=\"1\" class=\"dataframe\">\n  <thead>\n    <tr style=\"text-align: right;\">\n      <th></th>\n      <th>accommodates</th>\n      <th>accommodates</th>\n    </tr>\n  </thead>\n  <tbody>\n    <tr>\n      <th>0</th>\n      <td>5.0</td>\n      <td>5</td>\n    </tr>\n    <tr>\n      <th>1</th>\n      <td>4.0</td>\n      <td>2</td>\n    </tr>\n    <tr>\n      <th>2</th>\n      <td>4.0</td>\n      <td>3</td>\n    </tr>\n    <tr>\n      <th>3</th>\n      <td>3.0</td>\n      <td>3</td>\n    </tr>\n    <tr>\n      <th>4</th>\n      <td>4.0</td>\n      <td>2</td>\n    </tr>\n  </tbody>\n</table>\n</div>"
     },
     "metadata": {},
     "execution_count": 387
    }
   ],
   "source": [
    "pd.concat((df['accommodates'],br['accommodates']), axis = 1, names = ['India', 'Brazil']).head()"
   ]
  },
  {
   "source": [
    "That turned out well; now they are comparable. \n",
    "\n",
    "Those observant may have noticed that I tranformed missing values into zeroes before reverting them back into missing values. I did this over the traditional methods of dealing with missing values because this dataset has not been split yet. My job is to clean the data and merge the two sets before sending it on towards those who would like to train a model on it. Imputing the missing values before splitting the data would cause data leakage and ruin the experiment. "
   ],
   "cell_type": "markdown",
   "metadata": {}
  },
  {
   "source": [
    "### 3.4: Amenities as Binary Features"
   ],
   "cell_type": "markdown",
   "metadata": {}
  },
  {
   "source": [
    "This goal is the most difficult of the lot; each post has a list of amenities and the like that serves as marketing material. Moving forward, we want to provide each of these amenities with a binary feature. \n",
    "\n",
    "The difficult parts of this are:\n",
    "    \n",
    "    1. Identifying all of the important amenities held by both of the datasets\n",
    "    \n",
    "    2. Dealing with the fact that the Indian dataset has about four features dedicated towards this goal (we need to combine them) \n",
    "    \n",
    "Let's take a look at each."
   ],
   "cell_type": "markdown",
   "metadata": {}
  },
  {
   "source": [
    "### 3.4.1: ID Important Amenities"
   ],
   "cell_type": "markdown",
   "metadata": {}
  },
  {
   "source": [
    "Before looking at the features, their strings need to be cleaned or we'll be overloaded with information. This also gives us the chance to fill in missing values and combine similar features. "
   ],
   "cell_type": "markdown",
   "metadata": {}
  },
  {
   "cell_type": "code",
   "execution_count": 388,
   "metadata": {},
   "outputs": [
    {
     "output_type": "execute_result",
     "data": {
      "text/plain": [
       "                                        additional_info  \\\n",
       "0                                                   NaN   \n",
       "1                                                   NaN   \n",
       "2                                                   NaN   \n",
       "3                                                   NaN   \n",
       "4                                                   NaN   \n",
       "1202  ~ All Taxes.~ Complimentary Bed Tea.~ Complime...   \n",
       "1203                                        ~ All Taxes   \n",
       "1204  Kindly Note ~ Hotel doesn't have Restaurants i...   \n",
       "1205  ~ All taxes.~ Complimentary WiFi. And Bed Tea;...   \n",
       "1206                                                NaN   \n",
       "\n",
       "                                         things_to_note  \n",
       "0     All taxes.|Complimentary Breakfast, Lunch and ...  \n",
       "1     Kindly Note:|This Tariff is not applicable for...  \n",
       "2                         All taxes.|Complimentary Tea.  \n",
       "3     All taxes|Complimentary Breakfast|Kindly Note:...  \n",
       "4     Complimentary Breakfast.|Complimentary WiFi.|C...  \n",
       "1202                                                NaN  \n",
       "1203                                                NaN  \n",
       "1204                                                NaN  \n",
       "1205                                                NaN  \n",
       "1206                                                NaN  "
      ],
      "text/html": "<div>\n<style scoped>\n    .dataframe tbody tr th:only-of-type {\n        vertical-align: middle;\n    }\n\n    .dataframe tbody tr th {\n        vertical-align: top;\n    }\n\n    .dataframe thead th {\n        text-align: right;\n    }\n</style>\n<table border=\"1\" class=\"dataframe\">\n  <thead>\n    <tr style=\"text-align: right;\">\n      <th></th>\n      <th>additional_info</th>\n      <th>things_to_note</th>\n    </tr>\n  </thead>\n  <tbody>\n    <tr>\n      <th>0</th>\n      <td>NaN</td>\n      <td>All taxes.|Complimentary Breakfast, Lunch and ...</td>\n    </tr>\n    <tr>\n      <th>1</th>\n      <td>NaN</td>\n      <td>Kindly Note:|This Tariff is not applicable for...</td>\n    </tr>\n    <tr>\n      <th>2</th>\n      <td>NaN</td>\n      <td>All taxes.|Complimentary Tea.</td>\n    </tr>\n    <tr>\n      <th>3</th>\n      <td>NaN</td>\n      <td>All taxes|Complimentary Breakfast|Kindly Note:...</td>\n    </tr>\n    <tr>\n      <th>4</th>\n      <td>NaN</td>\n      <td>Complimentary Breakfast.|Complimentary WiFi.|C...</td>\n    </tr>\n    <tr>\n      <th>1202</th>\n      <td>~ All Taxes.~ Complimentary Bed Tea.~ Complime...</td>\n      <td>NaN</td>\n    </tr>\n    <tr>\n      <th>1203</th>\n      <td>~ All Taxes</td>\n      <td>NaN</td>\n    </tr>\n    <tr>\n      <th>1204</th>\n      <td>Kindly Note ~ Hotel doesn't have Restaurants i...</td>\n      <td>NaN</td>\n    </tr>\n    <tr>\n      <th>1205</th>\n      <td>~ All taxes.~ Complimentary WiFi. And Bed Tea;...</td>\n      <td>NaN</td>\n    </tr>\n    <tr>\n      <th>1206</th>\n      <td>NaN</td>\n      <td>NaN</td>\n    </tr>\n  </tbody>\n</table>\n</div>"
     },
     "metadata": {},
     "execution_count": 388
    }
   ],
   "source": [
    "pd.concat((df['additional_info'].tail(),df['things_to_note'].head()), axis = 1)"
   ]
  },
  {
   "source": [
    "As you can see, these two features use similar phrasing and can easily be joined (this was likely caused by that aforementioned split). The only difference is their usage of special characters, which will not be a problem for long."
   ],
   "cell_type": "markdown",
   "metadata": {}
  },
  {
   "cell_type": "code",
   "execution_count": 389,
   "metadata": {},
   "outputs": [],
   "source": [
    "df['things_to_do'] = df['things_to_do'].fillna(' 0 ')\n",
    "df['things_to_do'] = df['things_to_do'].str.replace('|', '').str.replace('/',' ').str.lower()\n",
    "\n",
    "df['amenities'] = df['amenities'].fillna(' 0 ')\n",
    "df['amenities'] = df['amenities'].str.replace('|', ' ').str.replace('&', '').str.replace('/', ' ').str.lower()\n",
    "\n",
    "df['service_value'] = df['service_value'].fillna(' 0 ')\n",
    "df['service_value'] = df['service_value'].str.replace('|', ' ').str.lower()\n",
    "\n",
    "## Moving things of note info where they should be for records 1139 to the end\n",
    "cut = df.iloc[1139:,0]\n",
    "df.iloc[1139:]['things_to_note'] = cut\n",
    "df.iloc[1139:,0] = float('NAN')\n",
    "df['things_to_note'] = df['things_to_note'].fillna(' 0 ')\n",
    "df['things_to_note'] = df['things_to_note'].str.replace('[^a-zA-Z]', ' ', regex = True).str.replace('Kindly Note:*', \"\", regex = True).str.lower()\n",
    "\n",
    "df['amenities'] = df['amenities'].fillna(' 0 ')"
   ]
  },
  {
   "source": [
    "The above section of code is where I generally cleaned the strings of each of the four Stayzilla features. \n",
    "    \n",
    "    1. I removed all special characters.\n",
    "    \n",
    "    2. Filled in missing values with 0, which can be easily ignored when they are all concatenated. \n",
    "    \n",
    "    3. I removed everything occurring after 'Kindly Note:' in the 'things_to_note' attribute; everything ocurring after that phrase is too granular (as in its specific to each individual hotel).\n",
    "    \n",
    "    4. I also shifted the observations from the 'additional_info' feature to 'things_to_note'."
   ],
   "cell_type": "markdown",
   "metadata": {}
  },
  {
   "cell_type": "code",
   "execution_count": 390,
   "metadata": {},
   "outputs": [],
   "source": [
    "### Create a concat feature that consists of concatenated strings from prior four features\n",
    "df['concat'] = df['amenities'] + df['things_to_do'] + df['things_to_note'] + df['service_value']\n",
    "df['concat'] = df['concat'].str.split()"
   ]
  },
  {
   "source": [
    "Finally, I merged the features into one. Let's see what was popularly marketed!"
   ],
   "cell_type": "markdown",
   "metadata": {}
  },
  {
   "cell_type": "code",
   "execution_count": 391,
   "metadata": {},
   "outputs": [
    {
     "output_type": "execute_result",
     "data": {
      "text/plain": [
       "ac           814\n",
       "newspaper    610\n",
       "parking      492\n",
       "wifi         409\n",
       "card         288\n",
       "payment      248\n",
       "free         131\n",
       "pickup       117\n",
       "drop         117\n",
       "elevator     117\n",
       "dtype: int64"
      ]
     },
     "metadata": {},
     "execution_count": 391
    }
   ],
   "source": [
    "unique_vals = {}\n",
    "for value in df['amenities'].str.split():\n",
    "    if value == value:\n",
    "        for word in value:\n",
    "            if word not in unique_vals:\n",
    "                unique_vals[word] = 1\n",
    "            else:\n",
    "                unique_vals[word] += 1\n",
    "\n",
    "pd.Series(unique_vals).sort_values(ascending = False).head(10)"
   ]
  },
  {
   "source": [
    "These are the unique values for the 'amenities' feature. There is not that much variety in the number of words used, so, if we can match those keywords with those used in the other features, we have a way forward."
   ],
   "cell_type": "markdown",
   "metadata": {}
  },
  {
   "cell_type": "code",
   "execution_count": 392,
   "metadata": {},
   "outputs": [
    {
     "output_type": "execute_result",
     "data": {
      "text/plain": [
       "0             1167\n",
       "restaurant      30\n",
       "bar             22\n",
       "club            11\n",
       "health          11\n",
       "pool            11\n",
       "swimming        11\n",
       "dtype: int64"
      ]
     },
     "metadata": {},
     "execution_count": 392
    }
   ],
   "source": [
    "unique_vals = {}\n",
    "for value in df['things_to_do'].str.split():\n",
    "    if value == value:\n",
    "        for word in value:\n",
    "            if word not in unique_vals:\n",
    "                unique_vals[word] = 1\n",
    "            else:\n",
    "                unique_vals[word] += 1\n",
    "\n",
    "pd.Series(unique_vals).sort_values(ascending = False).head(10)"
   ]
  },
  {
   "source": [
    "This feature does not have too many keywords, but it adds something at least."
   ],
   "cell_type": "markdown",
   "metadata": {}
  },
  {
   "cell_type": "code",
   "execution_count": 393,
   "metadata": {},
   "outputs": [
    {
     "output_type": "execute_result",
     "data": {
      "text/plain": [
       "verified     1139\n",
       "not          1027\n",
       "laundry        59\n",
       "parking        48\n",
       "newspaper      38\n",
       "free           38\n",
       "check          36\n",
       "hour           36\n",
       "24             36\n",
       "in             19\n",
       "dtype: int64"
      ]
     },
     "metadata": {},
     "execution_count": 393
    }
   ],
   "source": [
    "unique_vals = {}\n",
    "for value in df['service_value'].str.split():\n",
    "    if value == value:\n",
    "        for word in value:\n",
    "            if word not in unique_vals:\n",
    "                unique_vals[word] = 1\n",
    "            else:\n",
    "                unique_vals[word] += 1\n",
    "\n",
    "pd.Series(unique_vals).sort_values(ascending = False).head(10)"
   ]
  },
  {
   "source": [
    "No problems here."
   ],
   "cell_type": "markdown",
   "metadata": {}
  },
  {
   "cell_type": "code",
   "execution_count": 394,
   "metadata": {},
   "outputs": [
    {
     "output_type": "execute_result",
     "data": {
      "text/plain": [
       "681"
      ]
     },
     "metadata": {},
     "execution_count": 394
    }
   ],
   "source": [
    "unique_vals = {}\n",
    "for value in df['things_to_note'].str.split():\n",
    "    if value == value:\n",
    "        for word in value:\n",
    "            if word not in unique_vals:\n",
    "                unique_vals[word] = 1\n",
    "            else:\n",
    "                unique_vals[word] += 1\n",
    "len(pd.Series(unique_vals).sort_values(ascending = False))"
   ]
  },
  {
   "source": [
    "So this last list is a bit ridiculous because each of the sections are written by each specific hotelier rather than using keywords. After using regular expressions to condense the total number, we still have about 600 unique strings in this setup. \n",
    "\n",
    "A lot of these 'unique' strings are due to misspellings (Ex. restaurant vs restarent). I'll have to use fuzzy string matching to get anything useful here."
   ],
   "cell_type": "markdown",
   "metadata": {}
  },
  {
   "source": [
    "Last up, I performed all of the above steps on the one amenities feature in the Brazilian dataset. Here is what we found:"
   ],
   "cell_type": "markdown",
   "metadata": {}
  },
  {
   "cell_type": "code",
   "execution_count": 395,
   "metadata": {},
   "outputs": [
    {
     "output_type": "execute_result",
     "data": {
      "text/plain": [
       "on                 26395\n",
       "friendly           19214\n",
       "parking            18503\n",
       "to                 15367\n",
       "and                14906\n",
       "tvwifiair          14293\n",
       "or                 13545\n",
       "tvcable            12354\n",
       "bedroom            10197\n",
       "dryerironlaptop     9343\n",
       "dtype: int64"
      ]
     },
     "metadata": {},
     "execution_count": 395
    }
   ],
   "source": [
    "special_chars = ['{','}',',','\"','/']\n",
    "br['amenities'] = br['amenities'].str.replace('|'.join(special_chars),'', regex = True).str.lower().str.split()\n",
    "\n",
    "unique_vals = {}\n",
    "for value in br['amenities']:\n",
    "    if value == value:\n",
    "        for word in value:\n",
    "            if word not in unique_vals:\n",
    "                unique_vals[word] = 1\n",
    "            else:\n",
    "                unique_vals[word] += 1\n",
    "\n",
    "features = pd.Series(unique_vals).sort_values(ascending = False)\n",
    "features.head(10)"
   ]
  },
  {
   "source": [
    "The past five sections showed the most popular marketing keywords posts used to engage with customers. I grabbed the most popular of these, as well as a few more, and now I will make them their own binary attributes."
   ],
   "cell_type": "markdown",
   "metadata": {}
  },
  {
   "source": [
    "### 3.4.2: Binary Feature Creation"
   ],
   "cell_type": "markdown",
   "metadata": {}
  },
  {
   "source": [
    "After looking through the popular amenity lists for both datasets, I created a list of keywords that we can search for throughout both. There is some overlap between these keywords (Ex. wifi and internet), but we can easily merge those attributes later on. "
   ],
   "cell_type": "markdown",
   "metadata": {}
  },
  {
   "cell_type": "code",
   "execution_count": 396,
   "metadata": {},
   "outputs": [],
   "source": [
    "keywords = ['internet','wifi','air','parking','elevator','washer','dryer','laundry','pool','bar','pub','restaurant','breakfast','gym','ethernet','dropoff','newspaper','health','ac','pickup','break','fast','tv', 'cable']\n",
    "# rename internet feature so it is not explicitly overwritten\n",
    "df['internet_original'] = np.where(((df['internet'] != df['internet']) | (df['internet'] == 'Internet not present')), 0, 1)\n",
    "\n",
    "for unique in keywords:\n",
    "    df[unique] = df.concat.apply(lambda row_val: 1 if unique in row_val else 0)\n",
    "    br[unique] = br.amenities.apply(lambda row_val: 1 if unique in row_val else 0)\n",
    "\n",
    "## Drop previous features\n",
    "df.drop(['additional_info','amenities','things_to_do','things_to_note','concat','service_value'], axis = 1, inplace = True)\n",
    "br.drop('amenities', axis = 1, inplace = True)"
   ]
  },
  {
   "cell_type": "code",
   "execution_count": 397,
   "metadata": {},
   "outputs": [
    {
     "output_type": "execute_result",
     "data": {
      "text/plain": [
       "   internet  wifi  air  parking  elevator  washer  dryer  laundry  pool  bar  \\\n",
       "0         0     0    0        0         0       0      0        0     0    0   \n",
       "1         0     0    0        1         0       0      0        0     0    0   \n",
       "2         0     0    0        1         0       0      0        0     0    0   \n",
       "3         0     1    0        1         0       0      0        0     0    0   \n",
       "4         0     1    0        0         0       0      0        0     0    0   \n",
       "\n",
       "   ...  ethernet  dropoff  newspaper  health  ac  pickup  break  fast  tv  \\\n",
       "0  ...         0        0          1       0   0       0      0     0   0   \n",
       "1  ...         0        0          0       0   1       0      0     0   0   \n",
       "2  ...         0        0          0       0   1       1      0     0   0   \n",
       "3  ...         0        0          1       0   1       1      0     0   0   \n",
       "4  ...         0        0          1       0   1       0      0     0   0   \n",
       "\n",
       "   cable  \n",
       "0      0  \n",
       "1      0  \n",
       "2      0  \n",
       "3      0  \n",
       "4      0  \n",
       "\n",
       "[5 rows x 24 columns]"
      ],
      "text/html": "<div>\n<style scoped>\n    .dataframe tbody tr th:only-of-type {\n        vertical-align: middle;\n    }\n\n    .dataframe tbody tr th {\n        vertical-align: top;\n    }\n\n    .dataframe thead th {\n        text-align: right;\n    }\n</style>\n<table border=\"1\" class=\"dataframe\">\n  <thead>\n    <tr style=\"text-align: right;\">\n      <th></th>\n      <th>internet</th>\n      <th>wifi</th>\n      <th>air</th>\n      <th>parking</th>\n      <th>elevator</th>\n      <th>washer</th>\n      <th>dryer</th>\n      <th>laundry</th>\n      <th>pool</th>\n      <th>bar</th>\n      <th>...</th>\n      <th>ethernet</th>\n      <th>dropoff</th>\n      <th>newspaper</th>\n      <th>health</th>\n      <th>ac</th>\n      <th>pickup</th>\n      <th>break</th>\n      <th>fast</th>\n      <th>tv</th>\n      <th>cable</th>\n    </tr>\n  </thead>\n  <tbody>\n    <tr>\n      <th>0</th>\n      <td>0</td>\n      <td>0</td>\n      <td>0</td>\n      <td>0</td>\n      <td>0</td>\n      <td>0</td>\n      <td>0</td>\n      <td>0</td>\n      <td>0</td>\n      <td>0</td>\n      <td>...</td>\n      <td>0</td>\n      <td>0</td>\n      <td>1</td>\n      <td>0</td>\n      <td>0</td>\n      <td>0</td>\n      <td>0</td>\n      <td>0</td>\n      <td>0</td>\n      <td>0</td>\n    </tr>\n    <tr>\n      <th>1</th>\n      <td>0</td>\n      <td>0</td>\n      <td>0</td>\n      <td>1</td>\n      <td>0</td>\n      <td>0</td>\n      <td>0</td>\n      <td>0</td>\n      <td>0</td>\n      <td>0</td>\n      <td>...</td>\n      <td>0</td>\n      <td>0</td>\n      <td>0</td>\n      <td>0</td>\n      <td>1</td>\n      <td>0</td>\n      <td>0</td>\n      <td>0</td>\n      <td>0</td>\n      <td>0</td>\n    </tr>\n    <tr>\n      <th>2</th>\n      <td>0</td>\n      <td>0</td>\n      <td>0</td>\n      <td>1</td>\n      <td>0</td>\n      <td>0</td>\n      <td>0</td>\n      <td>0</td>\n      <td>0</td>\n      <td>0</td>\n      <td>...</td>\n      <td>0</td>\n      <td>0</td>\n      <td>0</td>\n      <td>0</td>\n      <td>1</td>\n      <td>1</td>\n      <td>0</td>\n      <td>0</td>\n      <td>0</td>\n      <td>0</td>\n    </tr>\n    <tr>\n      <th>3</th>\n      <td>0</td>\n      <td>1</td>\n      <td>0</td>\n      <td>1</td>\n      <td>0</td>\n      <td>0</td>\n      <td>0</td>\n      <td>0</td>\n      <td>0</td>\n      <td>0</td>\n      <td>...</td>\n      <td>0</td>\n      <td>0</td>\n      <td>1</td>\n      <td>0</td>\n      <td>1</td>\n      <td>1</td>\n      <td>0</td>\n      <td>0</td>\n      <td>0</td>\n      <td>0</td>\n    </tr>\n    <tr>\n      <th>4</th>\n      <td>0</td>\n      <td>1</td>\n      <td>0</td>\n      <td>0</td>\n      <td>0</td>\n      <td>0</td>\n      <td>0</td>\n      <td>0</td>\n      <td>0</td>\n      <td>0</td>\n      <td>...</td>\n      <td>0</td>\n      <td>0</td>\n      <td>1</td>\n      <td>0</td>\n      <td>1</td>\n      <td>0</td>\n      <td>0</td>\n      <td>0</td>\n      <td>0</td>\n      <td>0</td>\n    </tr>\n  </tbody>\n</table>\n<p>5 rows × 24 columns</p>\n</div>"
     },
     "metadata": {},
     "execution_count": 397
    }
   ],
   "source": [
    "df[keywords].head()"
   ]
  },
  {
   "cell_type": "code",
   "execution_count": 398,
   "metadata": {},
   "outputs": [
    {
     "output_type": "execute_result",
     "data": {
      "text/plain": [
       "   internet  wifi  air  parking  elevator  washer  dryer  laundry  pool  bar  \\\n",
       "0         0     0    0        1         0       0      0        0     0    0   \n",
       "1         0     0    0        0         0       0      0        0     0    0   \n",
       "2         0     0    0        0         0       0      0        0     0    0   \n",
       "3         0     0    0        0         0       0      0        0     0    0   \n",
       "4         0     0    0        1         0       0      0        0     0    0   \n",
       "\n",
       "   ...  ethernet  dropoff  newspaper  health  ac  pickup  break  fast  tv  \\\n",
       "0  ...         0        1          0       0   0       0      0     0   0   \n",
       "1  ...         0        0          0       0   0       0      0     0   0   \n",
       "2  ...         0        0          0       0   0       0      0     0   0   \n",
       "3  ...         0        1          0       0   0       0      0     0   0   \n",
       "4  ...         0        1          0       0   0       0      0     0   0   \n",
       "\n",
       "   cable  \n",
       "0      0  \n",
       "1      0  \n",
       "2      0  \n",
       "3      0  \n",
       "4      0  \n",
       "\n",
       "[5 rows x 24 columns]"
      ],
      "text/html": "<div>\n<style scoped>\n    .dataframe tbody tr th:only-of-type {\n        vertical-align: middle;\n    }\n\n    .dataframe tbody tr th {\n        vertical-align: top;\n    }\n\n    .dataframe thead th {\n        text-align: right;\n    }\n</style>\n<table border=\"1\" class=\"dataframe\">\n  <thead>\n    <tr style=\"text-align: right;\">\n      <th></th>\n      <th>internet</th>\n      <th>wifi</th>\n      <th>air</th>\n      <th>parking</th>\n      <th>elevator</th>\n      <th>washer</th>\n      <th>dryer</th>\n      <th>laundry</th>\n      <th>pool</th>\n      <th>bar</th>\n      <th>...</th>\n      <th>ethernet</th>\n      <th>dropoff</th>\n      <th>newspaper</th>\n      <th>health</th>\n      <th>ac</th>\n      <th>pickup</th>\n      <th>break</th>\n      <th>fast</th>\n      <th>tv</th>\n      <th>cable</th>\n    </tr>\n  </thead>\n  <tbody>\n    <tr>\n      <th>0</th>\n      <td>0</td>\n      <td>0</td>\n      <td>0</td>\n      <td>1</td>\n      <td>0</td>\n      <td>0</td>\n      <td>0</td>\n      <td>0</td>\n      <td>0</td>\n      <td>0</td>\n      <td>...</td>\n      <td>0</td>\n      <td>1</td>\n      <td>0</td>\n      <td>0</td>\n      <td>0</td>\n      <td>0</td>\n      <td>0</td>\n      <td>0</td>\n      <td>0</td>\n      <td>0</td>\n    </tr>\n    <tr>\n      <th>1</th>\n      <td>0</td>\n      <td>0</td>\n      <td>0</td>\n      <td>0</td>\n      <td>0</td>\n      <td>0</td>\n      <td>0</td>\n      <td>0</td>\n      <td>0</td>\n      <td>0</td>\n      <td>...</td>\n      <td>0</td>\n      <td>0</td>\n      <td>0</td>\n      <td>0</td>\n      <td>0</td>\n      <td>0</td>\n      <td>0</td>\n      <td>0</td>\n      <td>0</td>\n      <td>0</td>\n    </tr>\n    <tr>\n      <th>2</th>\n      <td>0</td>\n      <td>0</td>\n      <td>0</td>\n      <td>0</td>\n      <td>0</td>\n      <td>0</td>\n      <td>0</td>\n      <td>0</td>\n      <td>0</td>\n      <td>0</td>\n      <td>...</td>\n      <td>0</td>\n      <td>0</td>\n      <td>0</td>\n      <td>0</td>\n      <td>0</td>\n      <td>0</td>\n      <td>0</td>\n      <td>0</td>\n      <td>0</td>\n      <td>0</td>\n    </tr>\n    <tr>\n      <th>3</th>\n      <td>0</td>\n      <td>0</td>\n      <td>0</td>\n      <td>0</td>\n      <td>0</td>\n      <td>0</td>\n      <td>0</td>\n      <td>0</td>\n      <td>0</td>\n      <td>0</td>\n      <td>...</td>\n      <td>0</td>\n      <td>1</td>\n      <td>0</td>\n      <td>0</td>\n      <td>0</td>\n      <td>0</td>\n      <td>0</td>\n      <td>0</td>\n      <td>0</td>\n      <td>0</td>\n    </tr>\n    <tr>\n      <th>4</th>\n      <td>0</td>\n      <td>0</td>\n      <td>0</td>\n      <td>1</td>\n      <td>0</td>\n      <td>0</td>\n      <td>0</td>\n      <td>0</td>\n      <td>0</td>\n      <td>0</td>\n      <td>...</td>\n      <td>0</td>\n      <td>1</td>\n      <td>0</td>\n      <td>0</td>\n      <td>0</td>\n      <td>0</td>\n      <td>0</td>\n      <td>0</td>\n      <td>0</td>\n      <td>0</td>\n    </tr>\n  </tbody>\n</table>\n<p>5 rows × 24 columns</p>\n</div>"
     },
     "metadata": {},
     "execution_count": 398
    }
   ],
   "source": [
    "br[keywords].head()"
   ]
  },
  {
   "source": [
    "These are starting to look very similar now, but now we need to merge those that overlap."
   ],
   "cell_type": "markdown",
   "metadata": {}
  },
  {
   "source": [
    "### 3.4.3: Merging the Resulting Features"
   ],
   "cell_type": "markdown",
   "metadata": {}
  },
  {
   "cell_type": "code",
   "execution_count": 399,
   "metadata": {},
   "outputs": [],
   "source": [
    "def combine(s1, s2):\n",
    "    df[s1] = df[s1] + df[s2]\n",
    "    df.drop(s2, axis = 1, inplace = True)\n",
    "    df[s1] = np.where(df[s1] == 0, 0, 1)\n",
    "\n",
    "    br[s1] = br[s1] + br[s2]\n",
    "    br.drop(s2, axis = 1, inplace = True)\n",
    "    br[s1] = np.where(br[s1] == 0, 0, 1)\n",
    "    return\n",
    "\n",
    "# air conditioning\n",
    "combine('ac', 'air')\n",
    "#pickup/dropoff from/to airport\n",
    "combine('pickup', 'dropoff')\n",
    "#drink\n",
    "combine('bar', 'pub')\n",
    "#food\n",
    "combine('restaurant','breakfast')\n",
    "combine('break', 'fast')\n",
    "combine('restaurant', 'break')\n",
    "#wifi\n",
    "combine('wifi', 'internet')\n",
    "combine('wifi', 'ethernet')\n",
    "df['wifi'] = np.where((df['wifi'] == 1) | (df['internet_original'] == 1), 1, 0)\n",
    "df.drop('internet_original', axis = 1, inplace = True)\n",
    "#laundry\n",
    "combine('laundry', 'washer')\n",
    "combine('laundry', 'dryer')\n",
    "#gym\n",
    "combine('gym', 'health')\n",
    "#media & entertainment\n",
    "combine('newspaper', 'tv')\n",
    "combine('newspaper', 'cable')"
   ]
  },
  {
   "source": [
    "Now we have a group of binary features within both datasets that are directly comparable; this is a massive gain from the freeform text-based attributes we work with prior. "
   ],
   "cell_type": "markdown",
   "metadata": {}
  },
  {
   "cell_type": "code",
   "execution_count": 400,
   "metadata": {},
   "outputs": [],
   "source": [
    "df.rename(columns = {'ac':'air_conditioning', 'room_price':'price', 'room_types':'room_type', 'newspaper':'media_entertainment','pickup':'pickup_dropoff'}, inplace = True)\n",
    "br.rename(columns = {'ac':'air_conditioning','newspaper':'media_entertainment','pickup':'pickup_dropoff'}, inplace = True)"
   ]
  },
  {
   "source": [
    "Lastly, I renamed the features in both datasets to make them match. "
   ],
   "cell_type": "markdown",
   "metadata": {}
  },
  {
   "cell_type": "code",
   "execution_count": 401,
   "metadata": {},
   "outputs": [
    {
     "output_type": "execute_result",
     "data": {
      "text/plain": [
       "   wifi  parking  elevator  laundry  pool  bar  restaurant  gym  \\\n",
       "0     0        0         0        0     0    0           1    0   \n",
       "1     0        1         0        0     0    0           0    0   \n",
       "2     0        1         0        0     0    0           0    0   \n",
       "3     1        1         0        0     0    0           1    1   \n",
       "4     1        0         0        0     0    0           1    0   \n",
       "5     1        0         0        0     0    0           1    0   \n",
       "\n",
       "   media_entertainment  air_conditioning  pickup_dropoff  \n",
       "0                    1                 0               0  \n",
       "1                    0                 1               0  \n",
       "2                    0                 1               1  \n",
       "3                    1                 1               1  \n",
       "4                    1                 1               0  \n",
       "5                    1                 1               0  "
      ],
      "text/html": "<div>\n<style scoped>\n    .dataframe tbody tr th:only-of-type {\n        vertical-align: middle;\n    }\n\n    .dataframe tbody tr th {\n        vertical-align: top;\n    }\n\n    .dataframe thead th {\n        text-align: right;\n    }\n</style>\n<table border=\"1\" class=\"dataframe\">\n  <thead>\n    <tr style=\"text-align: right;\">\n      <th></th>\n      <th>wifi</th>\n      <th>parking</th>\n      <th>elevator</th>\n      <th>laundry</th>\n      <th>pool</th>\n      <th>bar</th>\n      <th>restaurant</th>\n      <th>gym</th>\n      <th>media_entertainment</th>\n      <th>air_conditioning</th>\n      <th>pickup_dropoff</th>\n    </tr>\n  </thead>\n  <tbody>\n    <tr>\n      <th>0</th>\n      <td>0</td>\n      <td>0</td>\n      <td>0</td>\n      <td>0</td>\n      <td>0</td>\n      <td>0</td>\n      <td>1</td>\n      <td>0</td>\n      <td>1</td>\n      <td>0</td>\n      <td>0</td>\n    </tr>\n    <tr>\n      <th>1</th>\n      <td>0</td>\n      <td>1</td>\n      <td>0</td>\n      <td>0</td>\n      <td>0</td>\n      <td>0</td>\n      <td>0</td>\n      <td>0</td>\n      <td>0</td>\n      <td>1</td>\n      <td>0</td>\n    </tr>\n    <tr>\n      <th>2</th>\n      <td>0</td>\n      <td>1</td>\n      <td>0</td>\n      <td>0</td>\n      <td>0</td>\n      <td>0</td>\n      <td>0</td>\n      <td>0</td>\n      <td>0</td>\n      <td>1</td>\n      <td>1</td>\n    </tr>\n    <tr>\n      <th>3</th>\n      <td>1</td>\n      <td>1</td>\n      <td>0</td>\n      <td>0</td>\n      <td>0</td>\n      <td>0</td>\n      <td>1</td>\n      <td>1</td>\n      <td>1</td>\n      <td>1</td>\n      <td>1</td>\n    </tr>\n    <tr>\n      <th>4</th>\n      <td>1</td>\n      <td>0</td>\n      <td>0</td>\n      <td>0</td>\n      <td>0</td>\n      <td>0</td>\n      <td>1</td>\n      <td>0</td>\n      <td>1</td>\n      <td>1</td>\n      <td>0</td>\n    </tr>\n    <tr>\n      <th>5</th>\n      <td>1</td>\n      <td>0</td>\n      <td>0</td>\n      <td>0</td>\n      <td>0</td>\n      <td>0</td>\n      <td>1</td>\n      <td>0</td>\n      <td>1</td>\n      <td>1</td>\n      <td>0</td>\n    </tr>\n  </tbody>\n</table>\n</div>"
     },
     "metadata": {},
     "execution_count": 401
    }
   ],
   "source": [
    "df.iloc[0:6,5:]"
   ]
  },
  {
   "cell_type": "code",
   "execution_count": 402,
   "metadata": {},
   "outputs": [
    {
     "output_type": "execute_result",
     "data": {
      "text/plain": [
       "   wifi  parking  elevator  laundry  pool  bar  restaurant  gym  \\\n",
       "0     0        1         0        0     0    0           0    0   \n",
       "1     0        0         0        0     0    0           0    0   \n",
       "2     0        0         0        0     0    0           0    0   \n",
       "3     0        0         0        0     0    0           0    0   \n",
       "4     0        1         0        0     0    0           0    0   \n",
       "5     0        1         0        0     0    0           0    0   \n",
       "\n",
       "   media_entertainment  air_conditioning  pickup_dropoff  \n",
       "0                    0                 0               1  \n",
       "1                    0                 0               0  \n",
       "2                    0                 0               0  \n",
       "3                    0                 0               1  \n",
       "4                    0                 0               1  \n",
       "5                    0                 0               0  "
      ],
      "text/html": "<div>\n<style scoped>\n    .dataframe tbody tr th:only-of-type {\n        vertical-align: middle;\n    }\n\n    .dataframe tbody tr th {\n        vertical-align: top;\n    }\n\n    .dataframe thead th {\n        text-align: right;\n    }\n</style>\n<table border=\"1\" class=\"dataframe\">\n  <thead>\n    <tr style=\"text-align: right;\">\n      <th></th>\n      <th>wifi</th>\n      <th>parking</th>\n      <th>elevator</th>\n      <th>laundry</th>\n      <th>pool</th>\n      <th>bar</th>\n      <th>restaurant</th>\n      <th>gym</th>\n      <th>media_entertainment</th>\n      <th>air_conditioning</th>\n      <th>pickup_dropoff</th>\n    </tr>\n  </thead>\n  <tbody>\n    <tr>\n      <th>0</th>\n      <td>0</td>\n      <td>1</td>\n      <td>0</td>\n      <td>0</td>\n      <td>0</td>\n      <td>0</td>\n      <td>0</td>\n      <td>0</td>\n      <td>0</td>\n      <td>0</td>\n      <td>1</td>\n    </tr>\n    <tr>\n      <th>1</th>\n      <td>0</td>\n      <td>0</td>\n      <td>0</td>\n      <td>0</td>\n      <td>0</td>\n      <td>0</td>\n      <td>0</td>\n      <td>0</td>\n      <td>0</td>\n      <td>0</td>\n      <td>0</td>\n    </tr>\n    <tr>\n      <th>2</th>\n      <td>0</td>\n      <td>0</td>\n      <td>0</td>\n      <td>0</td>\n      <td>0</td>\n      <td>0</td>\n      <td>0</td>\n      <td>0</td>\n      <td>0</td>\n      <td>0</td>\n      <td>0</td>\n    </tr>\n    <tr>\n      <th>3</th>\n      <td>0</td>\n      <td>0</td>\n      <td>0</td>\n      <td>0</td>\n      <td>0</td>\n      <td>0</td>\n      <td>0</td>\n      <td>0</td>\n      <td>0</td>\n      <td>0</td>\n      <td>1</td>\n    </tr>\n    <tr>\n      <th>4</th>\n      <td>0</td>\n      <td>1</td>\n      <td>0</td>\n      <td>0</td>\n      <td>0</td>\n      <td>0</td>\n      <td>0</td>\n      <td>0</td>\n      <td>0</td>\n      <td>0</td>\n      <td>1</td>\n    </tr>\n    <tr>\n      <th>5</th>\n      <td>0</td>\n      <td>1</td>\n      <td>0</td>\n      <td>0</td>\n      <td>0</td>\n      <td>0</td>\n      <td>0</td>\n      <td>0</td>\n      <td>0</td>\n      <td>0</td>\n      <td>0</td>\n    </tr>\n  </tbody>\n</table>\n</div>"
     },
     "metadata": {},
     "execution_count": 402
    }
   ],
   "source": [
    "br.iloc[0:6,5:]"
   ]
  },
  {
   "source": [
    "All of those features shown above have now been condensed into these more general focuses. "
   ],
   "cell_type": "markdown",
   "metadata": {}
  },
  {
   "source": [
    "### 3.5: Property and Room Type Aligning"
   ],
   "cell_type": "markdown",
   "metadata": {}
  },
  {
   "cell_type": "code",
   "execution_count": 403,
   "metadata": {},
   "outputs": [
    {
     "output_type": "execute_result",
     "data": {
      "text/plain": [
       "  property_type property_type\n",
       "0        Resort   Condominium\n",
       "1         Hotel     Apartment\n",
       "2         Hotel     Apartment\n",
       "3         Hotel     Apartment\n",
       "4         Hotel          Loft"
      ],
      "text/html": "<div>\n<style scoped>\n    .dataframe tbody tr th:only-of-type {\n        vertical-align: middle;\n    }\n\n    .dataframe tbody tr th {\n        vertical-align: top;\n    }\n\n    .dataframe thead th {\n        text-align: right;\n    }\n</style>\n<table border=\"1\" class=\"dataframe\">\n  <thead>\n    <tr style=\"text-align: right;\">\n      <th></th>\n      <th>property_type</th>\n      <th>property_type</th>\n    </tr>\n  </thead>\n  <tbody>\n    <tr>\n      <th>0</th>\n      <td>Resort</td>\n      <td>Condominium</td>\n    </tr>\n    <tr>\n      <th>1</th>\n      <td>Hotel</td>\n      <td>Apartment</td>\n    </tr>\n    <tr>\n      <th>2</th>\n      <td>Hotel</td>\n      <td>Apartment</td>\n    </tr>\n    <tr>\n      <th>3</th>\n      <td>Hotel</td>\n      <td>Apartment</td>\n    </tr>\n    <tr>\n      <th>4</th>\n      <td>Hotel</td>\n      <td>Loft</td>\n    </tr>\n  </tbody>\n</table>\n</div>"
     },
     "metadata": {},
     "execution_count": 403
    }
   ],
   "source": [
    "pd.concat((df['property_type'], br['property_type']), axis = 1, names = ['India', 'Brazil']).head()"
   ]
  },
  {
   "source": [
    "Next up we have two pairs of features with the same name but differing values. In each case, one dataset offers a more granular approach than the other, so we need to pull the former back a little bit to match the latter."
   ],
   "cell_type": "markdown",
   "metadata": {}
  },
  {
   "cell_type": "code",
   "execution_count": 404,
   "metadata": {},
   "outputs": [],
   "source": [
    "## aligning the property_type attributes\n",
    "br['property_type'] = br['property_type'].str.replace('\\W|/', '', regex = True).str.replace('(Cuba)', '').str.lower()\n",
    "\n",
    "prop_dict = {'Resort':['castle','island','casaparticular'],'Hotel':['hotel','hostel','boutiquehotel','aparthotel'],'House':['house','townhouse','cottage','chalet','cabin','bungalow','treehouse','earthhouse','houseboat', 'tinyhouse','hut'],'Homestay':['bedandbreakfast','guestsuite','guesthouse','farmstay','campsite','barn','camperrv','boat','tent'],'Lodge':['naturelodge','igloo','yurt', 'other'],'Villa':['villa'],'Apartment':['condominium','apartment','loft','servicedapartment','dorm']}\n",
    "\n",
    "br['property_type'] = br.property_type.apply(lambda row_val: next((k for k,v in prop_dict.items() if row_val in v), np.nan))\n",
    "df['property_type'][df['property_type'] == 'Spa'] = 'Villa'"
   ]
  },
  {
   "cell_type": "code",
   "execution_count": 405,
   "metadata": {},
   "outputs": [
    {
     "output_type": "stream",
     "name": "stdout",
     "text": [
      "Indian Dataset  ['Apartment' 'Homestay' 'Hotel' 'House' 'Lodge' 'Resort' 'Villa'] \n\nBrazilian Dataset  ['Apartment' 'Homestay' 'Hotel' 'House' 'Lodge' 'Resort' 'Villa'] \n\n"
     ]
    }
   ],
   "source": [
    "print(\"Indian Dataset \",df['property_type'].sort_values().unique(), \"\\n\")\n",
    "print(\"Brazilian Dataset \",br['property_type'].sort_values().unique(), '\\n')"
   ]
  },
  {
   "source": [
    "Now they are equalized."
   ],
   "cell_type": "markdown",
   "metadata": {}
  },
  {
   "cell_type": "code",
   "execution_count": 406,
   "metadata": {},
   "outputs": [
    {
     "output_type": "execute_result",
     "data": {
      "text/plain": [
       "              room_type        room_type\n",
       "0         3 Bedded Room  Entire home/apt\n",
       "1  Double Non-A/C Rooms  Entire home/apt\n",
       "2      Deluxe AC Double  Entire home/apt\n",
       "3    Premium Single A/c  Entire home/apt\n",
       "4      Deluxe AC Double  Entire home/apt"
      ],
      "text/html": "<div>\n<style scoped>\n    .dataframe tbody tr th:only-of-type {\n        vertical-align: middle;\n    }\n\n    .dataframe tbody tr th {\n        vertical-align: top;\n    }\n\n    .dataframe thead th {\n        text-align: right;\n    }\n</style>\n<table border=\"1\" class=\"dataframe\">\n  <thead>\n    <tr style=\"text-align: right;\">\n      <th></th>\n      <th>room_type</th>\n      <th>room_type</th>\n    </tr>\n  </thead>\n  <tbody>\n    <tr>\n      <th>0</th>\n      <td>3 Bedded Room</td>\n      <td>Entire home/apt</td>\n    </tr>\n    <tr>\n      <th>1</th>\n      <td>Double Non-A/C Rooms</td>\n      <td>Entire home/apt</td>\n    </tr>\n    <tr>\n      <th>2</th>\n      <td>Deluxe AC Double</td>\n      <td>Entire home/apt</td>\n    </tr>\n    <tr>\n      <th>3</th>\n      <td>Premium Single A/c</td>\n      <td>Entire home/apt</td>\n    </tr>\n    <tr>\n      <th>4</th>\n      <td>Deluxe AC Double</td>\n      <td>Entire home/apt</td>\n    </tr>\n  </tbody>\n</table>\n</div>"
     },
     "metadata": {},
     "execution_count": 406
    }
   ],
   "source": [
    "pd.concat((df['room_type'], br['room_type']), axis = 1, names = ['India', 'Brazil']).head()"
   ]
  },
  {
   "cell_type": "code",
   "execution_count": 407,
   "metadata": {},
   "outputs": [],
   "source": [
    "## aligning the room_type attributes\n",
    "df['room_type'] = df['room_type'].str.replace('/|-','', regex = True).str.replace('\\d', '', regex = True).str.lower()\n",
    "\n",
    "searching = ['single','double','room']\n",
    "df['room_type'] = np.where(df['room_type'].str.contains('|'.join(searching)), 'room', 'entire_home')\n",
    "br['room_type'] = np.where(br['room_type'].str.contains('room'), 'room', 'entire_home')"
   ]
  },
  {
   "cell_type": "code",
   "execution_count": 408,
   "metadata": {},
   "outputs": [
    {
     "output_type": "stream",
     "name": "stdout",
     "text": [
      "Indian Dataset  ['entire_home' 'room'] \n\nBrazilian Dataset  ['entire_home' 'room'] \n\n"
     ]
    }
   ],
   "source": [
    "print(\"Indian Dataset \", df['room_type'].sort_values().unique(), \"\\n\")\n",
    "print(\"Brazilian Dataset \", br['room_type'].sort_values().unique(), \"\\n\")"
   ]
  },
  {
   "source": [
    "As you can see, both sets now utilize the same labels."
   ],
   "cell_type": "markdown",
   "metadata": {}
  },
  {
   "cell_type": "code",
   "execution_count": 409,
   "metadata": {},
   "outputs": [],
   "source": [
    "## Remember to drop that outlier from the 'country' section\n",
    "br.drop(index = outlier, inplace = True)"
   ]
  },
  {
   "source": [
    "One last fix, I had to drop that one value from the Brazilian dataset which included a listing from the Dominican Republic."
   ],
   "cell_type": "markdown",
   "metadata": {}
  },
  {
   "source": [
    "## 4.0 Combination Proces"
   ],
   "cell_type": "markdown",
   "metadata": {}
  },
  {
   "cell_type": "code",
   "execution_count": 410,
   "metadata": {},
   "outputs": [],
   "source": [
    "combination = pd.concat((df, br), axis = 0, ignore_index=True)"
   ]
  },
  {
   "cell_type": "code",
   "execution_count": 411,
   "metadata": {},
   "outputs": [],
   "source": [
    "cols = combination.columns.to_list()\n",
    "cols = cols[1:-1] + cols[:1]\n",
    "\n",
    "combination = combination[cols]\n",
    "combination.to_csv('merged_india_brazil.csv')"
   ]
  }
 ]
}